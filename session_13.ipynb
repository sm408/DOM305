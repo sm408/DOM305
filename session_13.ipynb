{
 "cells": [
  {
   "cell_type": "code",
   "execution_count": 1,
   "id": "9942f807",
   "metadata": {},
   "outputs": [],
   "source": [
    "from collections import defaultdict \n",
    "import xml.etree.ElementTree as ET\n",
    "import urllib.request\n",
    "import time\n",
    "import random, os"
   ]
  },
  {
   "cell_type": "code",
   "execution_count": 2,
   "id": "3e0979af",
   "metadata": {},
   "outputs": [
    {
     "name": "stdout",
     "output_type": "stream",
     "text": [
      "\n",
      "                https://www.hindustantimes.com/india-news/new-central-vista-set-to-be-expanded-to-yamuna-bank/story-dhXuV2BiBY9GpOHLlfkajP.html\n",
      "\n",
      "                https://www.hindustantimes.com/india-news/pm-modi-s-residence-office-likely-to-shifted-near-south-block-report/story-7kT7FrOUv6WzwQEHxRpCFL.html\n",
      "\n",
      "                https://www.hindustantimes.com/world-news/china-raises-kashmir-at-unsc-stung-by-silence-from-others/story-Hcao0nsZuVmUg99qWoslXJ.html\n",
      "\n",
      "                https://www.hindustantimes.com/india-news/focus-on-airport-records-in-probe-against-davinder/story-RC05GRv44RitNRaDxvKlGO.html\n",
      "\n",
      "                https://www.hindustantimes.com/world-news/us-signs-first-phase-of-trade-deal-with-china/story-FjSY1Ov9g4lRWUpKsqTZHI.html\n",
      "\n",
      "                https://www.hindustantimes.com/videos/india-news/seeking-davinder-s-sacking-j-k-police-chief-on-cop-caught-with-terrorists/video-F9zObSXpgp3zFQhZXfL6pI.html\n",
      "\n",
      "                https://www.hindustantimes.com/cricket/we-ll-speak-to-our-wives-david-warner-and-aaron-finch-on-playing-in-2023-odi-world-cup/story-Jz5c9dd6tF0d4krU665ThO.html\n",
      "\n",
      "                https://www.hindustantimes.com/cricket/would-ve-been-in-canada-if-it-wasn-t-for-sourav-ganguly-harbhajan-narrates-story-of-test-comeback/story-jtD0AxtC0cwLaRpfzWQM3J.html\n",
      "\n",
      "                https://www.hindustantimes.com/education/colleges-are-using-internships-with-ngos-to-teach-mgmt-students-about-csr/story-rLyxwc4oq4cPgkjPPlZBpL.html\n",
      "\n",
      "                https://www.hindustantimes.com/education/ban-e-cigarettes-on-campus-sensitise-students-of-ill-effects-ugc-tells-varsities/story-pk9WjQxGzeQNlDliXOCpIM.html\n",
      "\n",
      "                https://www.hindustantimes.com/education/icai-ca-final-result-direct-link/story-5MHHlMjSdEoA7F2ZLBQWTI.html\n",
      "\n",
      "                https://www.hindustantimes.com/education/indian-origin-researcher-educates-teens-how-to-do-safe-sexting/story-qiTfEkbiAsTzubAViLoWsM.html\n",
      "\n",
      "                https://www.hindustantimes.com/education/bihar-board-12th-admit-card-2020-out-link-to-download-will-be-active-from-jan-17-at-bsebinteredu-in/story-ZYfwNzTTb2K1qmyozlekLP.html\n",
      "\n",
      "                https://www.hindustantimes.com/education/solar-plant-set-up-at-nit-agartala-to-save-rs-60-lakh-on-power-bill-annually/story-dufL3APuVm2LhCZ55WUzEL.html\n",
      "\n",
      "                https://www.hindustantimes.com/education/jnu-academic-activities-resume-on-second-day-of-winter-semester/story-FwYAvBDcJUG66MFFqrnBMP.html\n"
     ]
    }
   ],
   "source": [
    "rssfeedfile = 'xmlfiles/rssfeed_hindustan_times.xml'\n",
    "treerssfeedht = ET.parse(rssfeedfile) \n",
    "rootrssfeedht = treerssfeedht.getroot() \n",
    "\n",
    "for child in rootrssfeedht.findall('./channel/item/'):\n",
    "    if str(child.tag) == \"link\":\n",
    "        print(child.text)"
   ]
  },
  {
   "cell_type": "code",
   "execution_count": 3,
   "id": "5dd67504",
   "metadata": {},
   "outputs": [],
   "source": [
    "user_agent = 'Mozilla/5.0 (X11; Linux x86_64) AppleWebKit/537.36 (KHTML, like Gecko) Chrome/47.0.2526.106 Safari/537.36'\n",
    "headers = { 'User-Agent' : user_agent }\n",
    "#https://docs.python.org/3/library/urllib.request.html#urllib2.Request\n",
    "#https://www.whatismybrowser.com/guides/the-latest-user-agent/chrome"
   ]
  },
  {
   "cell_type": "code",
   "execution_count": 4,
   "outputs": [],
   "source": [
    "# destdir = 'spring23_DOM305_webscraping/'\n",
    "# set1 = 'HT_set_1/'\n",
    "#\n",
    "# pathd = destdir+set1\n",
    "#\n",
    "# if not  os.path.exists(pathd):\n",
    "#     os.makedirs(pathd)\n",
    "#\n",
    "# for child in rootrssfeedht.findall('./channel/item/'):\n",
    "#     if str(child.tag) == \"link\":\n",
    "#         urllink = str(child.text)\n",
    "#\n",
    "#         base_url = urllib.request.Request(urllink, headers=headers)     # it is requesting to open the urllink\n",
    "#         urlopen = urllib.request.urlopen(base_url)      # opeing the url link\n",
    "#\n",
    "#         url_read = urlopen.read()       # reading the page as an html file basically reads the source file\n",
    "#\n",
    "#         file_html = urllink.split('/')[-1]      #formatting the name of rghe saved file to just the last part of the links name\n",
    "#         print(file_html)\n",
    "#\n",
    "#         file_out = open(pathd+str(file_html),\"w\")       #saving the output in a file variable\n",
    "#\n",
    "#         print(url_read, file=file_out)      #saving the file\n",
    "#\n",
    "#         time.sleep(random.randint(4,8))\n"
   ],
   "metadata": {
    "collapsed": false
   }
  },
  {
   "cell_type": "code",
   "execution_count": 7,
   "outputs": [
    {
     "name": "stdout",
     "output_type": "stream",
     "text": [
      "advance-search?type=print-media&print_date=1-01-2023\n",
      "advance-search?type=print-media&print_date=2-01-2023\n",
      "advance-search?type=print-media&print_date=3-01-2023\n",
      "advance-search?type=print-media&print_date=4-01-2023\n"
     ]
    }
   ],
   "source": [
    "destdir = 'spring23_DOM305_webscraping/'\n",
    "set2 = 'BS_set_1/'\n",
    "\n",
    "pathd = destdir+set2\n",
    "\n",
    "if not  os.path.exists(pathd):\n",
    "    os.makedirs(pathd)\n",
    "\n",
    "for index in range(1,5):\n",
    "    urllink = str(\"https://www.business-standard.com/advance-search?type=print-media&print_date=\"+str(index)+\"-01-2023\")\n",
    "\n",
    "    base_url = urllib.request.Request(urllink, headers=headers)     # it is requesting to open the urllink\n",
    "    urlopen = urllib.request.urlopen(base_url)      # opeing the url link\n",
    "\n",
    "    url_read = urlopen.read()       # reading the page as an html file basically reads the source file\n",
    "\n",
    "    file_html = urllink.split('/')[-1]      #formatting the name of rghe saved file to just the last part of the links name\n",
    "    print(file_html)\n",
    "\n",
    "    file_out = open(pathd+str(file_html),\"w\")       #saving the output in a file variable\n",
    "\n",
    "    print(url_read, file=file_out)      #saving the file\n",
    "\n",
    "    time.sleep(random.randint(4,8))\n",
    "\n",
    "\n"
   ],
   "metadata": {
    "collapsed": false
   }
  }
 ],
 "metadata": {
  "kernelspec": {
   "display_name": "Python 3 (ipykernel)",
   "language": "python",
   "name": "python3"
  },
  "language_info": {
   "codemirror_mode": {
    "name": "ipython",
    "version": 3
   },
   "file_extension": ".py",
   "mimetype": "text/x-python",
   "name": "python",
   "nbconvert_exporter": "python",
   "pygments_lexer": "ipython3",
   "version": "3.9.10"
  }
 },
 "nbformat": 4,
 "nbformat_minor": 5
}
