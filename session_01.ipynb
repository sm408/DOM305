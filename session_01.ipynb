{
 "cells": [
  {
   "cell_type": "code",
   "execution_count": null,
   "id": "629424cb",
   "metadata": {},
   "outputs": [],
   "source": [
    "print(\"This is the first session in DOM305 Spring 2023\")"
   ]
  },
  {
   "cell_type": "code",
   "execution_count": null,
   "id": "9563f962",
   "metadata": {},
   "outputs": [],
   "source": [
    "a = 10\n",
    "b = 11\n",
    "# The above examples are integer variables\n",
    "\n",
    "print(a/b)\n",
    "\n",
    "c = 10.0\n",
    "d = 11.0\n",
    "#These above examples are float variables\n",
    "print(c/d)\n"
   ]
  },
  {
   "cell_type": "code",
   "execution_count": null,
   "id": "105ceeb7",
   "metadata": {},
   "outputs": [],
   "source": [
    "# Let's do some simple mathematics\n",
    "\"\"\"\n",
    "semicolon is used as an alternate to new line\n",
    "\"\"\"\n",
    "# This is addition\n",
    "a = 3; b = 5\n",
    "c = a+b\n",
    "print(c)\n",
    "\n",
    "# This is subtraction\n",
    "d = a - b\n",
    "print(d)\n",
    "\n",
    "#This is multiplication\n",
    "e = a*b\n",
    "print(e)\n"
   ]
  },
  {
   "cell_type": "code",
   "execution_count": null,
   "id": "4bf5a913",
   "metadata": {},
   "outputs": [],
   "source": [
    "#define a list\n",
    "\n",
    "list_of_students = [\"student1\", \"student2\", \"student3\", \"student4\"]\n",
    "list_of_scores = [80, 65, 78, 84]\n",
    "\"\"\"\n",
    "We want to map the students with their respective scores: example\n",
    "student1: 80, student2: 65, student3: 78 and so on\n",
    "\"\"\"\n",
    "list_students_score = list(zip(list_of_students, list_of_scores))\n",
    "\n",
    "print(list_students_score)"
   ]
  },
  {
   "cell_type": "code",
   "execution_count": null,
   "id": "2b43882e",
   "metadata": {},
   "outputs": [],
   "source": [
    "list_of_students[0] = \"student5\"\n",
    "print(list_of_students)"
   ]
  },
  {
   "cell_type": "code",
   "execution_count": null,
   "id": "33cd5216",
   "metadata": {},
   "outputs": [],
   "source": [
    "#I want to change the last element in the list of students\n",
    "# you can try two ways: list_of_students[3] or list_of_students[-1]\n",
    "list_of_students[-1] = \"student8\"\n",
    "\n",
    "print(list_of_students)"
   ]
  },
  {
   "cell_type": "code",
   "execution_count": null,
   "id": "0d667de5",
   "metadata": {},
   "outputs": [],
   "source": [
    "print(list_of_students[1:-1])"
   ]
  },
  {
   "cell_type": "code",
   "execution_count": null,
   "id": "9eaf20d6",
   "metadata": {},
   "outputs": [],
   "source": [
    "# let's look into tuple data structures\n",
    "tuple_of_students = (\"student1\", \"student2\", \"student3\", \"student4\")\n",
    "tuple_of_students[0] = \"student5\"\n",
    "\n",
    "# This will execute an Error. Tuples are not mutable. you cannot change the elements\n",
    "# in the data like in lists."
   ]
  },
  {
   "cell_type": "code",
   "execution_count": null,
   "id": "3c0e09b1",
   "metadata": {},
   "outputs": [],
   "source": [
    "# now we will learn about dictionaries\n",
    "dictionary_01 = {} # This is an example of an empty dictionary\n",
    "\n",
    "list_of_students = [\"student1\", \"student2\", \"student3\", \"student4\"]\n",
    "list_of_scores = [80, 65, 78, 84]\n",
    "\n",
    "dict_students_score = dict(zip(list_of_students, list_of_scores))\n",
    "print(dict_students_score)"
   ]
  },
  {
   "cell_type": "code",
   "execution_count": null,
   "id": "53a1d8b2",
   "metadata": {},
   "outputs": [],
   "source": [
    "nlist_of_scores = [[80,78], [67,65], [77,78], [87,84]]\n",
    "ndict_students_score = dict(zip(list_of_students, nlist_of_scores))\n",
    "print(ndict_students_score)\n"
   ]
  },
  {
   "cell_type": "code",
   "execution_count": null,
   "id": "5bb3f6d4",
   "metadata": {},
   "outputs": [],
   "source": [
    "# access the value for a student: student1\n",
    "print(ndict_students_score['student1'][0])"
   ]
  },
  {
   "cell_type": "code",
   "execution_count": null,
   "id": "64553ecf",
   "metadata": {},
   "outputs": [],
   "source": [
    "ndict_students_score['student1'][0] = 89\n",
    "print(ndict_students_score)"
   ]
  },
  {
   "cell_type": "code",
   "execution_count": null,
   "id": "27ba8290",
   "metadata": {},
   "outputs": [],
   "source": [
    "# Creating the loop \n",
    "#method-1\n",
    "for keys, values in ndict_students_score.items() :\n",
    "    print(keys, values)\n",
    "    \n"
   ]
  },
  {
   "cell_type": "code",
   "execution_count": null,
   "id": "03b494ee",
   "metadata": {},
   "outputs": [],
   "source": [
    "#method-2\n",
    "for keys in ndict_students_score:\n",
    "    print(keys, ndict_students_score[keys])\n",
    "    "
   ]
  },
  {
   "cell_type": "code",
   "execution_count": null,
   "id": "48788bbb",
   "metadata": {},
   "outputs": [],
   "source": [
    "print(ndict_students_score.items())"
   ]
  },
  {
   "cell_type": "code",
   "execution_count": null,
   "id": "f4a17b97",
   "metadata": {},
   "outputs": [],
   "source": [
    "#some simple descriptive stats:\n",
    "for keys, values in ndict_students_score.items() :\n",
    "    mean_val = sum(values)/len(values)\n",
    "    \n",
    "    print(keys, values, mean_val)"
   ]
  },
  {
   "cell_type": "code",
   "execution_count": null,
   "id": "a69a474f",
   "metadata": {},
   "outputs": [],
   "source": []
  }
 ],
 "metadata": {
  "kernelspec": {
   "display_name": "Python 3 (ipykernel)",
   "language": "python",
   "name": "python3"
  },
  "language_info": {
   "codemirror_mode": {
    "name": "ipython",
    "version": 3
   },
   "file_extension": ".py",
   "mimetype": "text/x-python",
   "name": "python",
   "nbconvert_exporter": "python",
   "pygments_lexer": "ipython3",
   "version": "3.9.10"
  }
 },
 "nbformat": 4,
 "nbformat_minor": 5
}
