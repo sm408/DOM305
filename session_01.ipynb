{
 "cells": [
  {
   "cell_type": "code",
   "execution_count": 2,
   "id": "629424cb",
   "metadata": {
    "pycharm": {
     "name": "#%%\n"
    }
   },
   "outputs": [
    {
     "name": "stdout",
     "output_type": "stream",
     "text": [
      "This is the first session in DOM305 Spring 2023\n"
     ]
    }
   ],
   "source": [
    "print(\"This is the first session in DOM305 Spring 2023\")"
   ]
  },
  {
   "cell_type": "code",
   "execution_count": 3,
   "id": "9563f962",
   "metadata": {
    "pycharm": {
     "name": "#%%\n"
    }
   },
   "outputs": [
    {
     "name": "stdout",
     "output_type": "stream",
     "text": [
      "0.9090909090909091\n",
      "0.9090909090909091\n"
     ]
    }
   ],
   "source": [
    "a = 10\n",
    "b = 11\n",
    "# The above examples are integer variables\n",
    "\n",
    "print(a/b)\n",
    "\n",
    "c = 10.0\n",
    "d = 11.0\n",
    "#These above examples are float variables\n",
    "print(c/d)\n"
   ]
  },
  {
   "cell_type": "code",
   "execution_count": 4,
   "id": "105ceeb7",
   "metadata": {
    "pycharm": {
     "name": "#%%\n"
    }
   },
   "outputs": [
    {
     "name": "stdout",
     "output_type": "stream",
     "text": [
      "8\n",
      "-2\n",
      "15\n"
     ]
    }
   ],
   "source": [
    "# Let's do some simple mathematics\n",
    "\"\"\"\n",
    "semicolon is used as an alternate to new line\n",
    "\"\"\"\n",
    "# This is addition\n",
    "a = 3; b = 5\n",
    "c = a+b\n",
    "print(c)\n",
    "\n",
    "# This is subtraction\n",
    "d = a - b\n",
    "print(d)\n",
    "\n",
    "#This is multiplication\n",
    "e = a*b\n",
    "print(e)\n"
   ]
  },
  {
   "cell_type": "code",
   "execution_count": 5,
   "id": "4bf5a913",
   "metadata": {
    "pycharm": {
     "name": "#%%\n"
    }
   },
   "outputs": [
    {
     "name": "stdout",
     "output_type": "stream",
     "text": [
      "[('student1', 80), ('student2', 65), ('student3', 78), ('student4', 84)]\n"
     ]
    }
   ],
   "source": [
    "#define a list\n",
    "\n",
    "list_of_students = [\"student1\", \"student2\", \"student3\", \"student4\"]\n",
    "list_of_scores = [80, 65, 78, 84]\n",
    "\"\"\"\n",
    "We want to map the students with their respective scores: example\n",
    "student1: 80, student2: 65, student3: 78 and so on\n",
    "\"\"\"\n",
    "list_students_score = list(zip(list_of_students, list_of_scores))\n",
    "\n",
    "print(list_students_score)"
   ]
  },
  {
   "cell_type": "code",
   "execution_count": 6,
   "id": "2b43882e",
   "metadata": {
    "pycharm": {
     "name": "#%%\n"
    }
   },
   "outputs": [
    {
     "name": "stdout",
     "output_type": "stream",
     "text": [
      "['student5', 'student2', 'student3', 'student4']\n"
     ]
    }
   ],
   "source": [
    "list_of_students[0] = \"student5\"\n",
    "print(list_of_students)"
   ]
  },
  {
   "cell_type": "code",
   "execution_count": 7,
   "id": "33cd5216",
   "metadata": {
    "pycharm": {
     "name": "#%%\n"
    }
   },
   "outputs": [
    {
     "name": "stdout",
     "output_type": "stream",
     "text": [
      "['student5', 'student2', 'student3', 'student8']\n"
     ]
    }
   ],
   "source": [
    "#I want to change the last element in the list of students\n",
    "# you can try two ways: list_of_students[3] or list_of_students[-1]\n",
    "list_of_students[-1] = \"student8\"\n",
    "\n",
    "print(list_of_students)"
   ]
  },
  {
   "cell_type": "code",
   "execution_count": 8,
   "id": "0d667de5",
   "metadata": {
    "pycharm": {
     "name": "#%%\n"
    }
   },
   "outputs": [
    {
     "name": "stdout",
     "output_type": "stream",
     "text": [
      "['student2', 'student3']\n"
     ]
    }
   ],
   "source": [
    "print(list_of_students[1:-1])"
   ]
  },
  {
   "cell_type": "code",
   "execution_count": 9,
   "id": "9eaf20d6",
   "metadata": {
    "pycharm": {
     "name": "#%%\n"
    }
   },
   "outputs": [
    {
     "ename": "TypeError",
     "evalue": "'tuple' object does not support item assignment",
     "output_type": "error",
     "traceback": [
      "\u001B[1;31m---------------------------------------------------------------------------\u001B[0m",
      "\u001B[1;31mTypeError\u001B[0m                                 Traceback (most recent call last)",
      "Cell \u001B[1;32mIn[9], line 3\u001B[0m\n\u001B[0;32m      1\u001B[0m \u001B[38;5;66;03m# let's look into tuple data structures\u001B[39;00m\n\u001B[0;32m      2\u001B[0m tuple_of_students \u001B[38;5;241m=\u001B[39m (\u001B[38;5;124m\"\u001B[39m\u001B[38;5;124mstudent1\u001B[39m\u001B[38;5;124m\"\u001B[39m, \u001B[38;5;124m\"\u001B[39m\u001B[38;5;124mstudent2\u001B[39m\u001B[38;5;124m\"\u001B[39m, \u001B[38;5;124m\"\u001B[39m\u001B[38;5;124mstudent3\u001B[39m\u001B[38;5;124m\"\u001B[39m, \u001B[38;5;124m\"\u001B[39m\u001B[38;5;124mstudent4\u001B[39m\u001B[38;5;124m\"\u001B[39m)\n\u001B[1;32m----> 3\u001B[0m \u001B[43mtuple_of_students\u001B[49m\u001B[43m[\u001B[49m\u001B[38;5;241;43m0\u001B[39;49m\u001B[43m]\u001B[49m \u001B[38;5;241m=\u001B[39m \u001B[38;5;124m\"\u001B[39m\u001B[38;5;124mstudent5\u001B[39m\u001B[38;5;124m\"\u001B[39m\n\u001B[0;32m      5\u001B[0m \u001B[38;5;66;03m# This will execute an Error. Tuples are not mutable. you cannot change the elements\u001B[39;00m\n\u001B[0;32m      6\u001B[0m \u001B[38;5;66;03m# in the data like in lists.\u001B[39;00m\n",
      "\u001B[1;31mTypeError\u001B[0m: 'tuple' object does not support item assignment"
     ]
    }
   ],
   "source": [
    "# let's look into tuple data structures\n",
    "tuple_of_students = (\"student1\", \"student2\", \"student3\", \"student4\")\n",
    "tuple_of_students[0] = \"student5\"\n",
    "\n",
    "# This will execute an Error. Tuples are not mutable. you cannot change the elements\n",
    "# in the data like in lists."
   ]
  },
  {
   "cell_type": "code",
   "execution_count": null,
   "id": "3c0e09b1",
   "metadata": {
    "pycharm": {
     "name": "#%%\n"
    }
   },
   "outputs": [],
   "source": [
    "# now we will learn about dictionaries\n",
    "dictionary_01 = {} # This is an example of an empty dictionary\n",
    "\n",
    "list_of_students = [\"student1\", \"student2\", \"student3\", \"student4\"]\n",
    "list_of_scores = [80, 65, 78, 84]\n",
    "\n",
    "dict_students_score = dict(zip(list_of_students, list_of_scores))\n",
    "print(dict_students_score)"
   ]
  },
  {
   "cell_type": "code",
   "execution_count": null,
   "id": "53a1d8b2",
   "metadata": {
    "pycharm": {
     "name": "#%%\n"
    }
   },
   "outputs": [],
   "source": [
    "nlist_of_scores = [[80,78], [67,65], [77,78], [87,84]]\n",
    "ndict_students_score = dict(zip(list_of_students, nlist_of_scores))\n",
    "print(ndict_students_score)\n"
   ]
  },
  {
   "cell_type": "code",
   "execution_count": null,
   "id": "5bb3f6d4",
   "metadata": {
    "pycharm": {
     "name": "#%%\n"
    }
   },
   "outputs": [],
   "source": [
    "# access the value for a student: student1\n",
    "print(ndict_students_score['student1'][0])"
   ]
  },
  {
   "cell_type": "code",
   "execution_count": null,
   "id": "64553ecf",
   "metadata": {
    "pycharm": {
     "name": "#%%\n"
    }
   },
   "outputs": [],
   "source": [
    "ndict_students_score['student1'][0] = 89\n",
    "print(ndict_students_score)"
   ]
  },
  {
   "cell_type": "code",
   "execution_count": null,
   "id": "27ba8290",
   "metadata": {
    "pycharm": {
     "name": "#%%\n"
    }
   },
   "outputs": [],
   "source": [
    "# Creating the loop \n",
    "#method-1\n",
    "for keys, values in ndict_students_score.items() :\n",
    "    print(keys, values)\n",
    "    \n"
   ]
  },
  {
   "cell_type": "code",
   "execution_count": null,
   "id": "03b494ee",
   "metadata": {
    "pycharm": {
     "name": "#%%\n"
    }
   },
   "outputs": [],
   "source": [
    "#method-2\n",
    "for keys in ndict_students_score:\n",
    "    print(keys, ndict_students_score[keys])\n",
    "    "
   ]
  },
  {
   "cell_type": "code",
   "execution_count": null,
   "id": "48788bbb",
   "metadata": {
    "pycharm": {
     "name": "#%%\n"
    }
   },
   "outputs": [],
   "source": [
    "print(ndict_students_score.items())"
   ]
  },
  {
   "cell_type": "code",
   "execution_count": null,
   "id": "f4a17b97",
   "metadata": {
    "pycharm": {
     "name": "#%%\n"
    }
   },
   "outputs": [],
   "source": [
    "#some simple descriptive stats:\n",
    "for keys, values in ndict_students_score.items() :\n",
    "    mean_val = sum(values)/len(values)\n",
    "    \n",
    "    print(keys, values, mean_val)"
   ]
  },
  {
   "cell_type": "code",
   "execution_count": null,
   "id": "a69a474f",
   "metadata": {
    "pycharm": {
     "name": "#%%\n"
    }
   },
   "outputs": [],
   "source": []
  }
 ],
 "metadata": {
  "kernelspec": {
   "display_name": "Python 3 (ipykernel)",
   "language": "python",
   "name": "python3"
  },
  "language_info": {
   "codemirror_mode": {
    "name": "ipython",
    "version": 3
   },
   "file_extension": ".py",
   "mimetype": "text/x-python",
   "name": "python",
   "nbconvert_exporter": "python",
   "pygments_lexer": "ipython3",
   "version": "3.9.10"
  }
 },
 "nbformat": 4,
 "nbformat_minor": 5
}