{
 "cells": [
  {
   "cell_type": "code",
   "execution_count": 40,
   "metadata": {
    "collapsed": true
   },
   "outputs": [],
   "source": [
    "import json\n",
    "import pandas as pd\n",
    "import numpy as np\n",
    "import glob\n",
    "from _collections import defaultdict"
   ]
  },
  {
   "cell_type": "code",
   "execution_count": 41,
   "outputs": [
    {
     "name": "stdout",
     "output_type": "stream",
     "text": [
      "{'fruit': 'Apple', 'size': 'Large', 'color': 'Red'}\n",
      "['fruit', 'size', 'color']\n"
     ]
    }
   ],
   "source": [
    "read_json_example_1 = \"jsonexamples/example_1.json\"\n",
    "\n",
    "with open(read_json_example_1,\"r\") as read_file:\n",
    "    parsed_val_1 = json.load(read_file)\n",
    "print(parsed_val_1)\n",
    "\n",
    "list_keys = list(parsed_val_1.keys())\n",
    "print(list_keys)"
   ],
   "metadata": {
    "collapsed": false
   }
  },
  {
   "cell_type": "code",
   "execution_count": 42,
   "outputs": [
    {
     "name": "stdout",
     "output_type": "stream",
     "text": [
      "{'quiz': {'sport': {'q1': {'question': 'Which one is correct team name in NBA?', 'options': ['New York Bulls', 'Los Angeles Kings', 'Golden State Warriros', 'Huston Rocket'], 'answer': 'Huston Rocket'}}, 'maths': {'q1': {'question': '5 + 7 = ?', 'options': ['10', '11', '12', '13'], 'answer': '12'}, 'q2': {'question': '12 - 8 = ?', 'options': ['1', '2', '3', '4'], 'answer': '4'}}}}\n",
      "dict_keys(['quiz'])\n",
      "dict_keys(['sport', 'maths'])\n",
      "dict_keys(['q1', 'q2'])\n",
      "dict_values([{'question': 'Which one is correct team name in NBA?', 'options': ['New York Bulls', 'Los Angeles Kings', 'Golden State Warriros', 'Huston Rocket'], 'answer': 'Huston Rocket'}])\n",
      "dict_keys(['question', 'options', 'answer'])\n",
      "dict_values(['5 + 7 = ?', ['10', '11', '12', '13'], '12'])\n",
      "12\n"
     ]
    }
   ],
   "source": [
    "read_json_example_2 = \"jsonexamples/example_2.json\"\n",
    "\n",
    "with open(read_json_example_2,\"r\") as read_file:\n",
    "    parsed_val_2 = json.load(read_file)\n",
    "print(parsed_val_2)\n",
    "\n",
    "print(parsed_val_2.keys())\n",
    "print(parsed_val_2['quiz'].keys())\n",
    "print(parsed_val_2['quiz']['maths'].keys())\n",
    "print(parsed_val_2['quiz']['sport'].values())\n",
    "print(parsed_val_2['quiz']['maths']['q1'].keys())\n",
    "print(parsed_val_2['quiz']['maths']['q1'].values())\n",
    "print(parsed_val_2['quiz']['maths']['q1']['answer'])"
   ],
   "metadata": {
    "collapsed": false
   }
  },
  {
   "cell_type": "code",
   "execution_count": 52,
   "outputs": [
    {
     "name": "stdout",
     "output_type": "stream",
     "text": [
      "quiz\n",
      "\t sport\n",
      "\t\t q1\n",
      "\t\t\t question  : \n",
      "\t\t\t options  : \n",
      "\t\t\t answer  : \n",
      "\t maths\n",
      "\t\t q1\n",
      "\t\t\t question  : \n",
      "\t\t\t options  : \n",
      "\t\t\t answer  : \n",
      "\t\t q2\n",
      "\t\t\t question  : \n",
      "\t\t\t options  : \n",
      "\t\t\t answer  : \n"
     ]
    }
   ],
   "source": [
    "for i in parsed_val_2:\n",
    "    print(i)\n",
    "    for j in parsed_val_2[i]:\n",
    "        print(\"\\t\",j)\n",
    "        for k in parsed_val_2[i][j]:\n",
    "            print(\"\\t\\t\",k)\n",
    "            for l in parsed_val_2[i][j][k]:\n",
    "                print(\"\\t\\t\\t\",l,\" : \")"
   ],
   "metadata": {
    "collapsed": false
   }
  },
  {
   "cell_type": "code",
   "execution_count": 57,
   "outputs": [
    {
     "name": "stdout",
     "output_type": "stream",
     "text": [
      "type\n",
      "t\n",
      "y\n",
      "p\n",
      "e\n",
      "features\n",
      "f\n",
      "e\n",
      "a\n",
      "t\n",
      "u\n",
      "r\n",
      "e\n",
      "s\n"
     ]
    }
   ],
   "source": [
    "read_json_example_3 = \"jsonexamples/new_delhi_wards.json\"\n",
    "\n",
    "with open(read_json_example_3,\"r\") as read_file:\n",
    "    parsed_val_3 = json.load(read_file)\n",
    "\n",
    "for i in parsed_val_3:\n",
    "    print(i)\n",
    "    for j in parsed_val_3[]"
   ],
   "metadata": {
    "collapsed": false
   }
  }
 ],
 "metadata": {
  "kernelspec": {
   "display_name": "Python 3",
   "language": "python",
   "name": "python3"
  },
  "language_info": {
   "codemirror_mode": {
    "name": "ipython",
    "version": 2
   },
   "file_extension": ".py",
   "mimetype": "text/x-python",
   "name": "python",
   "nbconvert_exporter": "python",
   "pygments_lexer": "ipython2",
   "version": "2.7.6"
  }
 },
 "nbformat": 4,
 "nbformat_minor": 0
}
