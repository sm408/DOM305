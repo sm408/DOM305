{
 "cells": [
  {
   "cell_type": "code",
   "execution_count": null,
   "metadata": {
    "collapsed": true
   },
   "outputs": [],
   "source": [
    "import json\n",
    "import pandas as pd\n",
    "import numpy as np\n",
    "import glob\n",
    "from _collections import defaultdict"
   ]
  },
  {
   "cell_type": "code",
   "execution_count": null,
   "outputs": [],
   "source": [
    "read_json_example_1 = \"jsonexamples/example_1.json\"\n",
    "\n",
    "with open(read_json_example_1,\"r\") as read_file:\n",
    "    parsed_val_1 = json.load(read_file)\n",
    "print(parsed_val_1)\n",
    "\n",
    "list_keys = list(parsed_val_1.keys())\n",
    "print(list_keys)"
   ],
   "metadata": {
    "collapsed": false
   }
  },
  {
   "cell_type": "code",
   "execution_count": null,
   "outputs": [],
   "source": [
    "read_json_example_2 = \"jsonexamples/example_2.json\"\n",
    "\n",
    "with open(read_json_example_2,\"r\") as read_file:\n",
    "    parsed_val_2 = json.load(read_file)\n",
    "print(parsed_val_2)\n",
    "\n",
    "print(parsed_val_2.keys())\n",
    "print(parsed_val_2['quiz'].keys())\n",
    "print(parsed_val_2['quiz']['maths'].keys())\n",
    "print(parsed_val_2['quiz']['sport'].values())\n",
    "print(parsed_val_2['quiz']['maths']['q1'].keys())\n",
    "print(parsed_val_2['quiz']['maths']['q1'].values())\n",
    "print(parsed_val_2['quiz']['maths']['q1']['answer'])"
   ],
   "metadata": {
    "collapsed": false
   }
  },
  {
   "cell_type": "code",
   "execution_count": null,
   "outputs": [],
   "source": [
    "for i in parsed_val_2:\n",
    "    print(i)\n",
    "    for j in parsed_val_2[i]:\n",
    "        print(\"\\t\",j)\n",
    "        for k in parsed_val_2[i][j]:\n",
    "            print(\"\\t\\t\",k)\n",
    "            for l in parsed_val_2[i][j][k]:\n",
    "                print(\"\\t\\t\\t\",l,\" : \")"
   ],
   "metadata": {
    "collapsed": false
   }
  },
  {
   "cell_type": "code",
   "execution_count": null,
   "outputs": [],
   "source": [
    "read_json_example_3 = \"jsonexamples/new_delhi_wards.json\"\n",
    "\n",
    "with open(read_json_example_3,\"r\") as read_file:\n",
    "    parsed_val_3 = json.load(read_file)\n",
    "\n",
    "for i in parsed_val_3:\n",
    "    print(i)\n",
    "    for j in parsed_val_3[]"
   ],
   "metadata": {
    "collapsed": false
   }
  }
 ],
 "metadata": {
  "kernelspec": {
   "display_name": "Python 3",
   "language": "python",
   "name": "python3"
  },
  "language_info": {
   "codemirror_mode": {
    "name": "ipython",
    "version": 2
   },
   "file_extension": ".py",
   "mimetype": "text/x-python",
   "name": "python",
   "nbconvert_exporter": "python",
   "pygments_lexer": "ipython2",
   "version": "2.7.6"
  }
 },
 "nbformat": 4,
 "nbformat_minor": 0
}
