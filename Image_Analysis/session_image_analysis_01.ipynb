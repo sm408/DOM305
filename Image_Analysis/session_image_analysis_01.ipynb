{
 "cells": [
  {
   "cell_type": "code",
   "execution_count": 30,
   "id": "f366badb",
   "metadata": {},
   "outputs": [
    {
     "ename": "ModuleNotFoundError",
     "evalue": "No module named 'skimage'",
     "output_type": "error",
     "traceback": [
      "\u001B[1;31m---------------------------------------------------------------------------\u001B[0m",
      "\u001B[1;31mModuleNotFoundError\u001B[0m                       Traceback (most recent call last)",
      "Cell \u001B[1;32mIn[30], line 3\u001B[0m\n\u001B[0;32m      1\u001B[0m \u001B[38;5;66;03m# Face detection using a cascade classifier\u001B[39;00m\n\u001B[1;32m----> 3\u001B[0m \u001B[38;5;28;01mfrom\u001B[39;00m \u001B[38;5;21;01mskimage\u001B[39;00m \u001B[38;5;28;01mimport\u001B[39;00m data\n\u001B[0;32m      4\u001B[0m \u001B[38;5;28;01mfrom\u001B[39;00m \u001B[38;5;21;01mskimage\u001B[39;00m\u001B[38;5;21;01m.\u001B[39;00m\u001B[38;5;21;01mfeature\u001B[39;00m \u001B[38;5;28;01mimport\u001B[39;00m Cascade\n\u001B[0;32m      6\u001B[0m \u001B[38;5;28;01mimport\u001B[39;00m \u001B[38;5;21;01mmatplotlib\u001B[39;00m\u001B[38;5;21;01m.\u001B[39;00m\u001B[38;5;21;01mpyplot\u001B[39;00m \u001B[38;5;28;01mas\u001B[39;00m \u001B[38;5;21;01mplt\u001B[39;00m\n",
      "\u001B[1;31mModuleNotFoundError\u001B[0m: No module named 'skimage'"
     ]
    }
   ],
   "source": [
    "# Face detection using a cascade classifier\n",
    "\n",
    "from skimage import data\n",
    "from skimage.feature import Cascade\n",
    "\n",
    "import matplotlib.pyplot as plt\n",
    "from matplotlib import patches\n",
    "\n",
    "# Load the trained file from the module root.\n",
    "trained_file = data.lbp_frontal_face_cascade_filename()\n",
    "\n",
    "# Initialize the detector cascade.\n",
    "detector = Cascade(trained_file)\n",
    "\n",
    "img = data.astronaut()\n",
    "\n",
    "detected = detector.detect_multi_scale(img=img,\n",
    "                                       scale_factor=1.2,\n",
    "                                       step_ratio=1,\n",
    "                                       min_size=(60, 60),\n",
    "                                       max_size=(123, 123))\n",
    "\n",
    "plt.imshow(img)\n",
    "img_desc = plt.gca()\n",
    "plt.set_cmap('gray')\n",
    "\n",
    "for patch in detected:\n",
    "\n",
    "    img_desc.add_patch(\n",
    "        patches.Rectangle(\n",
    "            (patch['c'], patch['r']),\n",
    "            patch['width'],\n",
    "            patch['height'],\n",
    "            fill=False,\n",
    "            color='r',\n",
    "            linewidth=2\n",
    "        )\n",
    "    )\n",
    "\n",
    "plt.show()"
   ]
  },
  {
   "cell_type": "code",
   "execution_count": null,
   "id": "efb79494",
   "metadata": {},
   "outputs": [],
   "source": []
  },
  {
   "cell_type": "code",
   "execution_count": null,
   "id": "980c42ca",
   "metadata": {},
   "outputs": [],
   "source": [
    "#RGB to grayscale\n",
    "import matplotlib.pyplot as plt\n",
    "from skimage import data\n",
    "from skimage.color import rgb2gray\n",
    "\n",
    "original = data.astronaut()\n",
    "grayscale = rgb2gray(original)\n",
    "\n",
    "fig, axes = plt.subplots(1, 2, figsize=(8, 4))\n",
    "ax = axes.ravel()\n",
    "\n",
    "ax[0].imshow(original)\n",
    "ax[0].set_title(\"Original\")\n",
    "ax[1].imshow(grayscale, cmap=plt.cm.gray)\n",
    "ax[1].set_title(\"Grayscale\")\n",
    "\n",
    "fig.tight_layout()\n",
    "plt.show()"
   ]
  },
  {
   "cell_type": "code",
   "execution_count": null,
   "id": "14771179",
   "metadata": {},
   "outputs": [],
   "source": [
    "\"\"\"Visual image comparison\n",
    "Image comparison is particularly useful when performing image \n",
    "processing tasks such as exposure manipulations, filtering, and restoration.\n",
    "This example shows how to easily compare two images with various approaches.\"\"\""
   ]
  },
  {
   "cell_type": "code",
   "execution_count": null,
   "id": "60385c0a",
   "metadata": {},
   "outputs": [],
   "source": [
    "import matplotlib.pyplot as plt\n",
    "from matplotlib.gridspec import GridSpec\n",
    "\n",
    "from skimage import data, transform, exposure\n",
    "from skimage.util import compare_images\n",
    "\n",
    "\n",
    "img1 = data.coins()\n",
    "img1_equalized = exposure.equalize_hist(img1)\n",
    "img2 = transform.rotate(img1, 2)\n",
    "\n",
    "\n",
    "comp_equalized = compare_images(img1, img1_equalized, method='checkerboard')\n",
    "diff_rotated = compare_images(img1, img2, method='diff')\n",
    "blend_rotated = compare_images(img1, img2, method='blend')"
   ]
  },
  {
   "cell_type": "code",
   "execution_count": null,
   "id": "c20f7b76",
   "metadata": {},
   "outputs": [],
   "source": [
    "# The checkerboard method alternates tiles from the first and the second images.\n",
    "fig = plt.figure(figsize=(8, 9))\n",
    "\n",
    "gs = GridSpec(3, 2)\n",
    "ax0 = fig.add_subplot(gs[0, 0])\n",
    "ax1 = fig.add_subplot(gs[0, 1])\n",
    "ax2 = fig.add_subplot(gs[1:, :])\n",
    "\n",
    "ax0.imshow(img1, cmap='gray')\n",
    "ax0.set_title('Original')\n",
    "ax1.imshow(img1_equalized, cmap='gray')\n",
    "ax1.set_title('Equalized')\n",
    "ax2.imshow(comp_equalized, cmap='gray')\n",
    "ax2.set_title('Checkerboard comparison')\n",
    "for a in (ax0, ax1, ax2):\n",
    "    a.axis('off')\n",
    "plt.tight_layout()\n",
    "# plt.plot()"
   ]
  },
  {
   "cell_type": "code",
   "execution_count": null,
   "id": "38a29080",
   "metadata": {},
   "outputs": [],
   "source": [
    "fig = plt.figure(figsize=(8, 9))\n",
    "\n",
    "gs = GridSpec(3, 2)\n",
    "ax0 = fig.add_subplot(gs[0, 0])\n",
    "ax1 = fig.add_subplot(gs[0, 1])\n",
    "ax2 = fig.add_subplot(gs[1:, :])\n",
    "\n",
    "ax0.imshow(img1, cmap='gray')\n",
    "ax0.set_title('Original')\n",
    "ax1.imshow(img2, cmap='gray')\n",
    "ax1.set_title('Rotated')\n",
    "ax2.imshow(diff_rotated, cmap='gray')\n",
    "ax2.set_title('Diff comparison')\n",
    "for a in (ax0, ax1, ax2):\n",
    "    a.axis('off')\n",
    "plt.tight_layout()\n",
    "# plt.plot()"
   ]
  },
  {
   "cell_type": "code",
   "execution_count": null,
   "id": "0a1a6af1",
   "metadata": {},
   "outputs": [],
   "source": [
    "# blend is the result of the average of the two images.\n",
    "fig = plt.figure(figsize=(8, 9))\n",
    "\n",
    "gs = GridSpec(3, 2)\n",
    "ax0 = fig.add_subplot(gs[0, 0])\n",
    "ax1 = fig.add_subplot(gs[0, 1])\n",
    "ax2 = fig.add_subplot(gs[1:, :])\n",
    "\n",
    "ax0.imshow(img1, cmap='gray')\n",
    "ax0.set_title('Original')\n",
    "ax1.imshow(img2, cmap='gray')\n",
    "ax1.set_title('Rotated')\n",
    "ax2.imshow(blend_rotated, cmap='gray')\n",
    "ax2.set_title('Blend comparison')\n",
    "for a in (ax0, ax1, ax2):\n",
    "    a.axis('off')\n",
    "plt.tight_layout()\n",
    "# plt.plot()"
   ]
  },
  {
   "cell_type": "code",
   "execution_count": null,
   "id": "75c3c4a7",
   "metadata": {},
   "outputs": [],
   "source": [
    "# Render text onto an image\n",
    "import matplotlib.pyplot as plt\n",
    "import numpy as np\n",
    "from skimage import data\n",
    "\n",
    "img = data.cat()\n",
    "\n",
    "fig = plt.figure()\n",
    "fig.figimage(img, resize=True)\n",
    "fig.text(0, 0.99, \"I am stefan's cat.\", fontsize=32, va=\"top\")\n",
    "fig.canvas.draw()\n",
    "annotated_img = np.asarray(fig.canvas.renderer.buffer_rgba())\n",
    "plt.close(fig)"
   ]
  },
  {
   "cell_type": "code",
   "execution_count": null,
   "id": "1be77be6",
   "metadata": {},
   "outputs": [],
   "source": [
    "fig, ax = plt.subplots()\n",
    "ax.imshow(annotated_img)\n",
    "ax.set_axis_off()\n",
    "# ax.set_position([1, 1, 1, 1])\n",
    "plt.show()"
   ]
  },
  {
   "cell_type": "code",
   "execution_count": 31,
   "id": "d41fcbb3",
   "metadata": {},
   "outputs": [
    {
     "ename": "ModuleNotFoundError",
     "evalue": "No module named 'PIL'",
     "output_type": "error",
     "traceback": [
      "\u001B[1;31m---------------------------------------------------------------------------\u001B[0m",
      "\u001B[1;31mModuleNotFoundError\u001B[0m                       Traceback (most recent call last)",
      "Cell \u001B[1;32mIn[31], line 3\u001B[0m\n\u001B[0;32m      1\u001B[0m \u001B[38;5;66;03m# How to Extract Text from Images with Python?\u001B[39;00m\n\u001B[1;32m----> 3\u001B[0m \u001B[38;5;28;01mfrom\u001B[39;00m \u001B[38;5;21;01mPIL\u001B[39;00m \u001B[38;5;28;01mimport\u001B[39;00m Image\n\u001B[0;32m      4\u001B[0m \u001B[38;5;28;01mfrom\u001B[39;00m \u001B[38;5;21;01mpytesseract\u001B[39;00m \u001B[38;5;28;01mimport\u001B[39;00m pytesseract\n",
      "\u001B[1;31mModuleNotFoundError\u001B[0m: No module named 'PIL'"
     ]
    }
   ],
   "source": [
    "# How to Extract Text from Images with Python?\n",
    "\n",
    "from PIL import Image\n",
    "from pytesseract import pytesseract"
   ]
  },
  {
   "cell_type": "code",
   "execution_count": null,
   "id": "a0636874",
   "metadata": {},
   "outputs": [],
   "source": [
    "\n",
    "# Defining paths to tesseract.exe\n",
    "# and the image we would be using\n",
    "\n",
    "#For windows: download the exe file from\n",
    "#https://github.com/UB-Mannheim/tesseract/wiki\n",
    "\n",
    "#Windows users\n",
    "path_to_tesseract = \"C:/Program Files/Tesseract-OCR/tesseract.exe\"\n",
    "\n",
    "#Mac users\n",
    "# path_to_tesseract = \"/usr/local/bin/tesseract\"\n",
    "image_path = \"Screenshot_134524.png\"\n",
    "\n",
    "# Opening the image & storing it in an image object\n",
    "img = Image.open(image_path)\n",
    "\n",
    "# Providing the tesseract executable\n",
    "# location to pytesseract library\n",
    "pytesseract.tesseract_cmd = path_to_tesseract\n",
    "\n",
    "# Passing the image object to image_to_string() function\n",
    "# This function will extract the text from the image\n",
    "text = pytesseract.image_to_string(img)\n",
    "\n",
    "# Displaying the extracted text\n",
    "print(text)\n"
   ]
  },
  {
   "cell_type": "code",
   "execution_count": null,
   "id": "b96227ed",
   "metadata": {},
   "outputs": [],
   "source": [
    "textclean = text.replace('\\n','')\n",
    "print(textclean)"
   ]
  },
  {
   "cell_type": "code",
   "execution_count": null,
   "id": "b5374083",
   "metadata": {},
   "outputs": [],
   "source": [
    "#get the ranges of the missiles\n",
    "import re\n",
    "list_ranges = re.findall(\"\\d+\\s\\w+\",textclean)\n",
    "print(list_ranges)"
   ]
  },
  {
   "cell_type": "code",
   "execution_count": null,
   "id": "7bd7bb54",
   "metadata": {},
   "outputs": [],
   "source": [
    "#names of the missile?\n",
    "list_pr = re.findall('\\w+\\s(?=missile)', textclean)\n",
    "print(list_pr[-1])"
   ]
  },
  {
   "cell_type": "code",
   "execution_count": null,
   "id": "3d49cb2b",
   "metadata": {},
   "outputs": [],
   "source": [
    "re.findall('\\w+\\sand\\s\\w+', textclean)\n"
   ]
  },
  {
   "cell_type": "code",
   "execution_count": null,
   "id": "56df2ef0",
   "metadata": {},
   "outputs": [],
   "source": [
    "list_n = re.findall('(?<=missile)\\s\\w+', textclean)\n",
    "print(list_n[0])"
   ]
  },
  {
   "cell_type": "code",
   "execution_count": null,
   "id": "8e754666",
   "metadata": {},
   "outputs": [],
   "source": [
    "list_missile_names = [list_pr[-1], list_n[0]]\n",
    "print(list_missile_names)\n"
   ]
  },
  {
   "cell_type": "code",
   "execution_count": null,
   "id": "a1c42946",
   "metadata": {},
   "outputs": [],
   "source": [
    "dict_missile_ranges = dict(zip(list_missile_names,list_ranges))\n",
    "print(dict_missile_ranges)\n",
    "import pandas as pd\n",
    "df_missile_ranges = pd.DataFrame(dict_missile_ranges.items())\n",
    "print(df_missile_ranges)"
   ]
  },
  {
   "cell_type": "code",
   "execution_count": null,
   "id": "a003b9df",
   "metadata": {},
   "outputs": [],
   "source": [
    "\n",
    "image_path2 = \"Screenshot_HT_01.png\"\n",
    "\n",
    "img2 = Image.open(image_path2)\n",
    "\n",
    "text2 = pytesseract.image_to_string(img2)\n",
    "\n",
    "textclean2 = text2.replace('\\n','')\n",
    "print(textclean2)\n",
    "\n",
    "print(re.findall('\\d+\\s\\w{2}',textclean2))\n",
    "print(re.findall('\\d+\\s(?=km*)',textclean2))"
   ]
  },
  {
   "cell_type": "code",
   "execution_count": null,
   "id": "1d2de1c0",
   "metadata": {},
   "outputs": [],
   "source": [
    "print(re.findall('\\w+\\s(?=charge*)',textclean2))\n",
    "list_charged = re.findall('\\w+\\s(?=charge*)',textclean2)\n",
    "list_charged_clean = [x.strip() for x in list_charged]\n",
    "print(list_charged_clean)"
   ]
  },
  {
   "cell_type": "code",
   "execution_count": null,
   "id": "3f4aaa0e",
   "metadata": {},
   "outputs": [],
   "source": []
  }
 ],
 "metadata": {
  "kernelspec": {
   "display_name": "Python 3 (ipykernel)",
   "language": "python",
   "name": "python3"
  },
  "language_info": {
   "codemirror_mode": {
    "name": "ipython",
    "version": 3
   },
   "file_extension": ".py",
   "mimetype": "text/x-python",
   "name": "python",
   "nbconvert_exporter": "python",
   "pygments_lexer": "ipython3",
   "version": "3.11.2"
  }
 },
 "nbformat": 4,
 "nbformat_minor": 5
}
