{
 "cells": [
  {
   "cell_type": "code",
   "execution_count": 1,
   "outputs": [
    {
     "name": "stdout",
     "output_type": "stream",
     "text": [
      "The original dictionary is : {'Gfg': {1: [5, 6, 7, 8], 2: [1, 2, 3, 4]}, 'is': {1: [10, 11, 7, 5], 2: [1, 2, 6, 5]}, 'Best': {1: [6, 12, 10, 8], 2: [1, 2, 3, 4]}}\n",
      "The three level nested dictionary is : {'Gfg': defaultdict(<class 'list'>, {1: [5, 6, 7, 8], 2: [1, 2, 3, 4]}), 'is': defaultdict(<class 'list'>, {1: [10, 11, 7, 5], 2: [1, 2, 6, 5]}), 'Best': defaultdict(<class 'list'>, {1: [6, 12, 10, 8], 2: [1, 2, 3, 4]})}\n"
     ]
    }
   ],
   "source": [
    "# python code to create a three level nested dictionary of list using defaultdict and lambda function\n",
    "from collections import defaultdict\n",
    "# initializing nested dictionary\n",
    "test_dict = {'Gfg' : {1 : [5, 6, 7, 8], 2 : [1, 2, 3, 4]}, 'is' : {1 : [10, 11, 7, 5], 2 : [1, 2, 6, 5]}, 'Best' : {1 : [6, 12, 10, 8], 2 : [1, 2, 3, 4]}}\n",
    "# printing original dictionary\n",
    "print(\"The original dictionary is : \" + str(test_dict))\n",
    "# using defaultdict() + lambda\n",
    "# Three level nested dictionary of list\n",
    "res = defaultdict(lambda : defaultdict(list))\n",
    "# iterating through dictionary\n",
    "for key, val in test_dict.items():\n",
    "    for sub_key, sub_val in val.items():\n",
    "        for ele in sub_val:\n",
    "            res[key][sub_key].append(ele)\n",
    "# printing result\n",
    "print(\"The three level nested dictionary is : \" + str(dict(res)))\n"
   ],
   "metadata": {
    "collapsed": false
   }
  },
  {
   "cell_type": "code",
   "execution_count": null,
   "outputs": [],
   "source": [],
   "metadata": {
    "collapsed": false
   }
  }
 ],
 "metadata": {
  "kernelspec": {
   "display_name": "Python 3",
   "language": "python",
   "name": "python3"
  },
  "language_info": {
   "codemirror_mode": {
    "name": "ipython",
    "version": 2
   },
   "file_extension": ".py",
   "mimetype": "text/x-python",
   "name": "python",
   "nbconvert_exporter": "python",
   "pygments_lexer": "ipython2",
   "version": "2.7.6"
  }
 },
 "nbformat": 4,
 "nbformat_minor": 0
}
