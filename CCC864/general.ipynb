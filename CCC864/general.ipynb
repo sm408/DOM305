{
 "cells": [
  {
   "cell_type": "code",
   "execution_count": 3,
   "metadata": {
    "collapsed": true
   },
   "outputs": [
    {
     "name": "stdout",
     "output_type": "stream",
     "text": [
      "I\n",
      "returned\n",
      "s\n",
      "s\n",
      "bag of groceries\n",
      "groceries\n",
      "I returned a bag of \n"
     ]
    }
   ],
   "source": [
    "string = 'I returned a bag of groceries'\n",
    "\n",
    "print(string[0])\n",
    "print(string[2:10])\n",
    "print(string[-1])\n",
    "print(string[-1])\n",
    "print(string[13:])\n",
    "print(string[-9:])\n",
    "print(string[:-9])"
   ]
  },
  {
   "cell_type": "code",
   "execution_count": 4,
   "outputs": [
    {
     "name": "stdout",
     "output_type": "stream",
     "text": [
      "hello world\n",
      "\n",
      "My name is shubham\n"
     ]
    }
   ],
   "source": [
    "input = open('myfile.txt')\n",
    "for line in input.readlines():\n",
    "    print(line)\n",
    "input.close()"
   ],
   "metadata": {
    "collapsed": false
   }
  }
 ],
 "metadata": {
  "kernelspec": {
   "display_name": "Python 3",
   "language": "python",
   "name": "python3"
  },
  "language_info": {
   "codemirror_mode": {
    "name": "ipython",
    "version": 2
   },
   "file_extension": ".py",
   "mimetype": "text/x-python",
   "name": "python",
   "nbconvert_exporter": "python",
   "pygments_lexer": "ipython2",
   "version": "2.7.6"
  }
 },
 "nbformat": 4,
 "nbformat_minor": 0
}
