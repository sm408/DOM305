{
 "cells": [
  {
   "cell_type": "code",
   "execution_count": 3,
   "metadata": {
    "collapsed": true
   },
   "outputs": [
    {
     "name": "stdout",
     "output_type": "stream",
     "text": [
      "['Anil', 'Amol', 'Aditya', 'Avi', 'Alka']\n"
     ]
    }
   ],
   "source": [
    "# Create a list of 5 names: ‘Anil’, ‘Amol’, ‘Aditya’, ‘Avi’, ‘Alka’\n",
    "\n",
    "names = ['Anil', 'Amol', 'Aditya', 'Avi', 'Alka']\n",
    "print(names)"
   ]
  },
  {
   "cell_type": "code",
   "execution_count": 4,
   "outputs": [
    {
     "name": "stdout",
     "output_type": "stream",
     "text": [
      "['Anil', 'Amol', 'Anuj', 'Aditya', 'Avi', 'Alka']\n"
     ]
    }
   ],
   "source": [
    "# Insert a name ‘Anuj’ before ‘Aditya’\n",
    "\n",
    "names.insert(2, 'Anuj')\n",
    "print(names)\n"
   ],
   "metadata": {
    "collapsed": false
   }
  },
  {
   "cell_type": "code",
   "execution_count": 5,
   "outputs": [
    {
     "name": "stdout",
     "output_type": "stream",
     "text": [
      "['Anil', 'Amol', 'Anuj', 'Aditya', 'Avi', 'Alka', 'Zulu']\n"
     ]
    }
   ],
   "source": [
    "# Append a name ‘Zulu’\n",
    "\n",
    "names.append('Zulu')\n",
    "print(names)"
   ],
   "metadata": {
    "collapsed": false
   }
  },
  {
   "cell_type": "code",
   "execution_count": 6,
   "outputs": [
    {
     "name": "stdout",
     "output_type": "stream",
     "text": [
      "['Anil', 'Amol', 'Anuj', 'Aditya', 'Alka', 'Zulu']\n"
     ]
    }
   ],
   "source": [
    "# Delete ‘Avi’ from the list.\n",
    "\n",
    "names.remove('Avi')\n",
    "print(names)"
   ],
   "metadata": {
    "collapsed": false
   }
  },
  {
   "cell_type": "code",
   "execution_count": 7,
   "outputs": [
    {
     "name": "stdout",
     "output_type": "stream",
     "text": [
      "['Anilkumar', 'Amol', 'Anuj', 'Aditya', 'Alka', 'Zulu']\n"
     ]
    }
   ],
   "source": [
    "# Replace ‘Anil’ with ‘Anilkumar’\n",
    "\n",
    "names[0] = 'Anilkumar'\n",
    "print(names)"
   ],
   "metadata": {
    "collapsed": false
   }
  },
  {
   "cell_type": "code",
   "execution_count": 8,
   "outputs": [
    {
     "name": "stdout",
     "output_type": "stream",
     "text": [
      "['Aditya', 'Alka', 'Amol', 'Anilkumar', 'Anuj', 'Zulu']\n"
     ]
    }
   ],
   "source": [
    "# Sort all the names in the list\n",
    "\n",
    "names.sort()\n",
    "print(names)"
   ],
   "metadata": {
    "collapsed": false
   }
  },
  {
   "cell_type": "code",
   "execution_count": 9,
   "outputs": [
    {
     "name": "stdout",
     "output_type": "stream",
     "text": [
      "['Zulu', 'Anuj', 'Anilkumar', 'Amol', 'Alka', 'Aditya']\n"
     ]
    }
   ],
   "source": [
    "# Print reversed sorted list\n",
    "\n",
    "names.sort(reverse=True)\n",
    "print(names)"
   ],
   "metadata": {
    "collapsed": false
   }
  },
  {
   "cell_type": "code",
   "execution_count": 10,
   "outputs": [
    {
     "name": "stdout",
     "output_type": "stream",
     "text": [
      "[7, 14]\n",
      "[20, 16]\n"
     ]
    }
   ],
   "source": [
    "# Write a program in Python to add two given matrices:\n",
    "#\n",
    "# A= 2 3\n",
    "#    7 4\n",
    "# B= 5 11\n",
    "#    13 12\n",
    "\n",
    "A = [[2, 3], [7, 4]]\n",
    "B = [[5, 11], [13, 12]]\n",
    "C = [[0, 0], [0, 0]]\n",
    "\n",
    "for i in range(len(A)):\n",
    "    for j in range(len(A[0])):\n",
    "        C[i][j] = A[i][j] + B[i][j]\n",
    "\n",
    "for r in C:\n",
    "    print(r)\n"
   ],
   "metadata": {
    "collapsed": false
   }
  },
  {
   "cell_type": "code",
   "execution_count": null,
   "outputs": [],
   "source": [],
   "metadata": {
    "collapsed": false
   }
  }
 ],
 "metadata": {
  "kernelspec": {
   "display_name": "Python 3",
   "language": "python",
   "name": "python3"
  },
  "language_info": {
   "codemirror_mode": {
    "name": "ipython",
    "version": 2
   },
   "file_extension": ".py",
   "mimetype": "text/x-python",
   "name": "python",
   "nbconvert_exporter": "python",
   "pygments_lexer": "ipython2",
   "version": "2.7.6"
  }
 },
 "nbformat": 4,
 "nbformat_minor": 0
}
