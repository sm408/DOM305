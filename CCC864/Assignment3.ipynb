{
 "cells": [
  {
   "cell_type": "code",
   "execution_count": 1,
   "outputs": [
    {
     "name": "stdout",
     "output_type": "stream",
     "text": [
      "Temperature in Fahrenheit:  100\n",
      "Temperature in Centigrade:  37.77777777777778\n"
     ]
    }
   ],
   "source": [
    "# Assume a suitable value for temperature of a city in Fahrenheit degrees. Write a program to convert this temperature into centigrade degrees and print both temperatures [Hint: C/5=(F-32)/9]\n",
    "\n",
    "temp_f = 100\n",
    "temp_c = (temp_f - 32) * 5/9\n",
    "print(\"Temperature in Fahrenheit: \", temp_f)\n",
    "print(\"Temperature in Centigrade: \", temp_c)\n"
   ],
   "metadata": {
    "collapsed": false
   }
  },
  {
   "cell_type": "code",
   "execution_count": 2,
   "outputs": [
    {
     "name": "stdout",
     "output_type": "stream",
     "text": [
      "782\n"
     ]
    }
   ],
   "source": [
    "# Print decimal equivalent of binary ‘1100001110’\n",
    "print(int('1100001110', 2))\n"
   ],
   "metadata": {
    "collapsed": false
   }
  },
  {
   "cell_type": "code",
   "execution_count": 15,
   "outputs": [
    {
     "name": "stdout",
     "output_type": "stream",
     "text": [
      "Ba\n",
      "ed\n",
      "mboozled\n",
      "Bamboo\n",
      "delzoobmaB\n",
      "Bamboozled\n",
      "Bmoz\n",
      "BambooMonger\n"
     ]
    }
   ],
   "source": [
    "# For a given string ‘Bamboozled’, write a program to obtain the following output:\n",
    "# Ba\n",
    "# ed\n",
    "# mboozled\n",
    "# Bamboo\n",
    "# delzoobmaB\n",
    "# Bamboozled\n",
    "# Bmoze\n",
    "# BambooMonger\n",
    "# [Hint: Use built-in functions for string extraction and concatenation]\n",
    "\n",
    "s = 'Bamboozled'\n",
    "print(s[0:2])\n",
    "print(s[-2:])\n",
    "print(s[2:])\n",
    "print(s[0:6])\n",
    "print(s[::-1])\n",
    "print(s)\n",
    "# print B mo ze\n",
    "print(s[0] + s[2] + s[4] + s[6])\n",
    "print(s[0:6] + 'Monger')\n"
   ],
   "metadata": {
    "collapsed": false
   }
  },
  {
   "cell_type": "code",
   "execution_count": 25,
   "outputs": [
    {
     "name": "stdout",
     "output_type": "stream",
     "text": [
      "35\n",
      "49\n",
      "17\n",
      "13\n",
      "48\n"
     ]
    }
   ],
   "source": [
    "# Write a program that generates 5 random numbers in the range 10 to 50. Use a seed value of 6.\n",
    "# Make a provision to change this seed value every time you execute the program by associating it with\n",
    "# time of execution.\n",
    "\n",
    "import random\n",
    "import time\n",
    "\n",
    "random.seed(time.time())\n",
    "for i in range(5):\n",
    "    print(random.randint(10, 50))\n"
   ],
   "metadata": {
    "collapsed": false
   }
  }
 ],
 "metadata": {
  "kernelspec": {
   "display_name": "Python 3",
   "language": "python",
   "name": "python3"
  },
  "language_info": {
   "codemirror_mode": {
    "name": "ipython",
    "version": 2
   },
   "file_extension": ".py",
   "mimetype": "text/x-python",
   "name": "python",
   "nbconvert_exporter": "python",
   "pygments_lexer": "ipython2",
   "version": "2.7.6"
  }
 },
 "nbformat": 4,
 "nbformat_minor": 0
}
