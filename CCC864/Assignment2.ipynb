{
 "cells": [
  {
   "cell_type": "code",
   "execution_count": 2,
   "metadata": {
    "collapsed": true
   },
   "outputs": [
    {
     "name": "stdout",
     "output_type": "stream",
     "text": [
      "10\n",
      "5\n",
      "10\n",
      "5\n"
     ]
    }
   ],
   "source": [
    "# Write a program that swaps the values of two given variables a and b. You are not allowed to use the third variable.\n",
    "\n",
    "a = 5\n",
    "b = 10\n",
    "\n",
    "a, b = b, a\n",
    "\n",
    "print(a)\n",
    "print(b)\n"
   ]
  },
  {
   "cell_type": "code",
   "execution_count": 5,
   "outputs": [
    {
     "name": "stdout",
     "output_type": "stream",
     "text": [
      "-2\n",
      "0\n",
      "0\n",
      "1\n",
      "2\n",
      "\n",
      "\n",
      "-3\n",
      "-1\n",
      "0\n",
      "1\n",
      "\n",
      "\n",
      "-2\n",
      "0\n",
      "1\n",
      "2\n"
     ]
    }
   ],
   "source": [
    "# Use trunc(), floor() and ceil() for numbers -2.8, -0.5, 0.2, 1.5 and 2.9 to understand the difference between these functions clearly.\n",
    "\n",
    "import math\n",
    "\n",
    "print(math.trunc(-2.8))\n",
    "print(math.trunc(-0.5))\n",
    "print(math.trunc(0.2))\n",
    "print(math.trunc(1.5))\n",
    "print(math.trunc(2.9))\n",
    "print(\"\\n\")\n",
    "\n",
    "print(math.floor(-2.8))\n",
    "print(math.floor(-0.5))\n",
    "print(math.floor(0.2))\n",
    "print(math.floor(1.5))\n",
    "print(\"\\n\")\n",
    "\n",
    "print(math.ceil(-2.8))\n",
    "print(math.ceil(-0.5))\n",
    "print(math.ceil(0.2))\n",
    "print(math.ceil(1.5))\n"
   ],
   "metadata": {
    "collapsed": false
   }
  },
  {
   "cell_type": "code",
   "execution_count": 16,
   "outputs": [
    {
     "name": "stdout",
     "output_type": "stream",
     "text": [
      "1\n",
      "1\n",
      "2\n"
     ]
    }
   ],
   "source": [
    "# Given three sides a, b, c of a triangle, write a program to obtain and print the values of three angles rounded to the next integer. Use these formulae: a2=b2+c2-2bc cosA,b2=a2+c2-2ac cosB, c2=a2+b2-2ab cosC. Use math module.\n",
    "\n",
    "import math\n",
    "\n",
    "a = 3\n",
    "b = 4\n",
    "c = 5\n",
    "\n",
    "A = math.acos((b**2+c**2-a**2)/(2*b*c))\n",
    "B = math.acos((a**2+c**2-b**2)/(2*a*c))\n",
    "C = math.acos((a**2+b**2-c**2)/(2*a*b))\n",
    "\n",
    "print(math.ceil(A))\n",
    "print(math.ceil(B))\n",
    "print(math.ceil(C))\n"
   ],
   "metadata": {
    "collapsed": false
   }
  },
  {
   "cell_type": "code",
   "execution_count": 8,
   "outputs": [
    {
     "name": "stdout",
     "output_type": "stream",
     "text": [
      "0\n",
      "13\n",
      "-48\n"
     ]
    }
   ],
   "source": [
    "# Evaluate the following expressions:\n",
    "#a. 2**6//8%2\n",
    "#b. 9**2//5-3\n",
    "#c. 7%7+7//7-7*7\n",
    "\n",
    "print(2**6//8%2)\n",
    "print(9**2//5-3)\n",
    "print(7%7+7//7-7*7)"
   ],
   "metadata": {
    "collapsed": false
   }
  },
  {
   "cell_type": "code",
   "execution_count": 9,
   "outputs": [
    {
     "name": "stdout",
     "output_type": "stream",
     "text": [
      "3.0\n",
      "(4-2j)\n",
      "782\n"
     ]
    }
   ],
   "source": [
    "# Do the following:\n",
    "# a. Print imaginary part out of 2+3j\n",
    "# b. Obtain conjugate of 4+2j\n",
    "# c. Print decimal equivalent of binary ‘1100001110’\n",
    "\n",
    "a = 2+3j\n",
    "print(a.imag)\n",
    "\n",
    "b = 4+2j\n",
    "print(b.conjugate())\n",
    "\n",
    "c = 0b1100001110\n",
    "print(c)"
   ],
   "metadata": {
    "collapsed": false
   }
  }
 ],
 "metadata": {
  "kernelspec": {
   "display_name": "Python 3",
   "language": "python",
   "name": "python3"
  },
  "language_info": {
   "codemirror_mode": {
    "name": "ipython",
    "version": 2
   },
   "file_extension": ".py",
   "mimetype": "text/x-python",
   "name": "python",
   "nbconvert_exporter": "python",
   "pygments_lexer": "ipython2",
   "version": "2.7.6"
  }
 },
 "nbformat": 4,
 "nbformat_minor": 0
}
