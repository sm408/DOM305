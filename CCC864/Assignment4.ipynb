{
 "cells": [
  {
   "cell_type": "code",
   "execution_count": 3,
   "metadata": {
    "collapsed": true
   },
   "outputs": [
    {
     "name": "stdout",
     "output_type": "stream",
     "text": [
      "[10, 22, 33, 78, 16, 90, 23, 66, 87, 90, 51.5]\n"
     ]
    }
   ],
   "source": [
    "# Create an 1D array Array1= [10 22 33 78 16 90 23 66 87 90]. Compute\n",
    "# the arithmetic mean of the numbers present in the array. Insert the mean\n",
    "# at the last of the array. [Hint: Use for loop to compute the mean]\n",
    "\n",
    "Array1= [10, 22, 33, 78, 16, 90, 23, 66, 87, 90]\n",
    "sum=0\n",
    "for i in range(len(Array1)):\n",
    "    sum=sum+Array1[i]\n",
    "mean=sum/len(Array1)\n",
    "Array1.append(mean)\n",
    "print(Array1)\n"
   ]
  }
 ],
 "metadata": {
  "kernelspec": {
   "display_name": "Python 3",
   "language": "python",
   "name": "python3"
  },
  "language_info": {
   "codemirror_mode": {
    "name": "ipython",
    "version": 2
   },
   "file_extension": ".py",
   "mimetype": "text/x-python",
   "name": "python",
   "nbconvert_exporter": "python",
   "pygments_lexer": "ipython2",
   "version": "2.7.6"
  }
 },
 "nbformat": 4,
 "nbformat_minor": 0
}
