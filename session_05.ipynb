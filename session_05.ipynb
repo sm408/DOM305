{
 "cells": [
  {
   "cell_type": "code",
   "execution_count": 106,
   "metadata": {
    "collapsed": true
   },
   "outputs": [],
   "source": [
    "import numpy as np\n",
    "import scipy\n",
    "import pandas as pd\n",
    "import matplotlib"
   ]
  },
  {
   "cell_type": "code",
   "execution_count": 107,
   "outputs": [
    {
     "name": "stdout",
     "output_type": "stream",
     "text": [
      "['Stud1', 'Stud2', 'Stud3', 'Stud4', 'Stud5', 'Stud6']\n"
     ]
    }
   ],
   "source": [
    "list_names = [\"Stud1\", \"Stud2\", \"Stud3\", \"Stud4\"]\n",
    "list_names2 = [\"Stud5\" , \"Stud6\"]\n",
    "\n",
    "list_names.extend(list_names2)\n",
    "print(list_names)"
   ],
   "metadata": {
    "collapsed": false
   }
  },
  {
   "cell_type": "code",
   "execution_count": 108,
   "outputs": [
    {
     "name": "stdout",
     "output_type": "stream",
     "text": [
      "[('Stud1', 45), ('Stud2', 67), ('Stud3', 34), ('Stud4', 56), ('Stud5', 23), ('Stud6', 25)]\n"
     ]
    }
   ],
   "source": [
    "list_scores = [45,67,34,56,23,25]\n",
    "\n",
    "list_stud_scores = list(zip(list_names,list_scores))\n",
    "print(list_stud_scores)"
   ],
   "metadata": {
    "collapsed": false
   }
  },
  {
   "cell_type": "code",
   "execution_count": 109,
   "outputs": [
    {
     "name": "stdout",
     "output_type": "stream",
     "text": [
      "{'Stud1': 45, 'Stud2': 67, 'Stud3': 34, 'Stud4': 56, 'Stud5': 23, 'Stud6': 25}\n"
     ]
    }
   ],
   "source": [
    "dict_stud_scores = dict(zip(list_names,list_scores))\n",
    "\n",
    "print(dict_stud_scores)"
   ],
   "metadata": {
    "collapsed": false
   }
  },
  {
   "cell_type": "code",
   "execution_count": 110,
   "outputs": [
    {
     "name": "stdout",
     "output_type": "stream",
     "text": [
      "('Stud1', 45)\n",
      "('Stud2', 67)\n",
      "('Stud3', 34)\n",
      "('Stud4', 56)\n",
      "('Stud5', 23)\n",
      "('Stud6', 25)\n"
     ]
    }
   ],
   "source": [
    "#looping through list of tuples\n",
    "for index in list_stud_scores:\n",
    "    print(index)"
   ],
   "metadata": {
    "collapsed": false
   }
  },
  {
   "cell_type": "code",
   "execution_count": 111,
   "outputs": [
    {
     "name": "stdout",
     "output_type": "stream",
     "text": [
      "Stud1 45\n",
      "Stud2 67\n",
      "Stud3 34\n",
      "Stud4 56\n",
      "Stud5 23\n",
      "Stud6 25\n"
     ]
    }
   ],
   "source": [
    "#looping through the dictionary\n",
    "for key in dict_stud_scores:\n",
    "    print(key,dict_stud_scores[key])"
   ],
   "metadata": {
    "collapsed": false
   }
  },
  {
   "cell_type": "code",
   "execution_count": 112,
   "outputs": [
    {
     "name": "stdout",
     "output_type": "stream",
     "text": [
      "[('Stud1', 45, 'A'), ('Stud2', 67, 'C'), ('Stud3', 34, 'A-'), ('Stud4', 56, 'B'), ('Stud5', 23, 'A'), ('Stud6', 25, 'B-')]\n"
     ]
    }
   ],
   "source": [
    "list_grades = [\"A\",\"C\",\"A-\",\"B\",\"A\",\"B-\"]\n",
    "\n",
    "list_stud_grades = list(zip(list_names,list_scores,list_grades))\n",
    "\n",
    "print(list_stud_grades)"
   ],
   "metadata": {
    "collapsed": false
   }
  },
  {
   "cell_type": "code",
   "execution_count": 113,
   "outputs": [
    {
     "name": "stdout",
     "output_type": "stream",
     "text": [
      "('Stud1', 45, 'A')\n",
      "('Stud2', 67, 'C')\n",
      "('Stud3', 34, 'A-')\n",
      "('Stud4', 56, 'B')\n",
      "('Stud5', 23, 'A')\n",
      "('Stud6', 25, 'B-')\n"
     ]
    }
   ],
   "source": [
    "for index in list_stud_grades:\n",
    "    print(index)"
   ],
   "metadata": {
    "collapsed": false
   }
  },
  {
   "cell_type": "code",
   "execution_count": 114,
   "outputs": [
    {
     "name": "stdout",
     "output_type": "stream",
     "text": [
      "Stud1 45 A\n",
      "Stud2 67 C\n",
      "Stud3 34 A-\n",
      "Stud4 56 B\n",
      "Stud5 23 A\n",
      "Stud6 25 B-\n"
     ]
    }
   ],
   "source": [
    "for i,j,k in list_stud_grades:\n",
    "    print(i,j,k)"
   ],
   "metadata": {
    "collapsed": false
   }
  },
  {
   "cell_type": "code",
   "execution_count": 115,
   "outputs": [
    {
     "name": "stdout",
     "output_type": "stream",
     "text": [
      "{'Stud1': [34, 45, 56], 'Stud2': [67, 78, 89], 'Stud3': [91, 34, 76], 'Stud4': [56, 34, 76], 'Stud5': [87, 76, 65], 'Stud6': [98, 65, 87]}\n"
     ]
    }
   ],
   "source": [
    "list_quarter_scores = [[34,45,56,],[67,78,89],[91,34,76],[56,34,76],[87,76,65],[98,65,87]]\n",
    "dict_stud_quarter_scores = dict(zip(list_names,list_quarter_scores))\n",
    "\n",
    "print(dict_stud_quarter_scores)"
   ],
   "metadata": {
    "collapsed": false
   }
  },
  {
   "cell_type": "code",
   "execution_count": 116,
   "outputs": [
    {
     "name": "stdout",
     "output_type": "stream",
     "text": [
      "Stud1 [34, 45, 56]\n",
      "Stud2 [67, 78, 89]\n",
      "Stud3 [91, 34, 76]\n",
      "Stud4 [56, 34, 76]\n",
      "Stud5 [87, 76, 65]\n",
      "Stud6 [98, 65, 87]\n"
     ]
    }
   ],
   "source": [
    "for key in dict_stud_quarter_scores:\n",
    "    print(key, dict_stud_quarter_scores[key])"
   ],
   "metadata": {
    "collapsed": false
   }
  },
  {
   "cell_type": "code",
   "execution_count": 117,
   "outputs": [
    {
     "name": "stdout",
     "output_type": "stream",
     "text": [
      "dict_items([('Stud1', [34, 45, 56]), ('Stud2', [67, 78, 89]), ('Stud3', [91, 34, 76]), ('Stud4', [56, 34, 76]), ('Stud5', [87, 76, 65]), ('Stud6', [98, 65, 87])])\n"
     ]
    }
   ],
   "source": [
    "print(dict_stud_quarter_scores.items())"
   ],
   "metadata": {
    "collapsed": false
   }
  },
  {
   "cell_type": "code",
   "execution_count": 118,
   "outputs": [
    {
     "name": "stdout",
     "output_type": "stream",
     "text": [
      "Stud1 45.0\n",
      "Stud2 78.0\n",
      "Stud3 67.0\n",
      "Stud4 55.333333333333336\n",
      "Stud5 76.0\n",
      "Stud6 83.33333333333333\n"
     ]
    }
   ],
   "source": [
    "for key in dict_stud_quarter_scores:\n",
    "    avg = sum(dict_stud_quarter_scores[key])/len(dict_stud_quarter_scores[key])\n",
    "    print(key,avg)"
   ],
   "metadata": {
    "collapsed": false
   }
  },
  {
   "cell_type": "code",
   "execution_count": 119,
   "outputs": [
    {
     "name": "stdout",
     "output_type": "stream",
     "text": [
      "Stud1 45.0 45.0 8.981462390204987\n",
      "Stud2 78.0 78.0 8.981462390204987\n",
      "Stud3 67.0 76.0 24.124676163629637\n",
      "Stud4 55.333333333333336 56.0 17.15290710702481\n",
      "Stud5 76.0 76.0 8.981462390204987\n",
      "Stud6 83.33333333333333 87.0 13.719410418171117\n"
     ]
    }
   ],
   "source": [
    "#using Numpy\n",
    "\n",
    "for key,value in dict_stud_quarter_scores.items():\n",
    "    mean = np.mean(value)\n",
    "    median = np.median(value)\n",
    "    stdev = np.std(value)\n",
    "    print(key, mean, median, stdev)"
   ],
   "metadata": {
    "collapsed": false
   }
  },
  {
   "cell_type": "code",
   "execution_count": 123,
   "outputs": [
    {
     "name": "stdout",
     "output_type": "stream",
     "text": [
      "Stud1 \t 45.0 \t 45.0 \t 8.98\n",
      "Stud2 \t 78.0 \t 78.0 \t 8.98\n",
      "Stud3 \t 67.0 \t 76.0 \t 24.12\n",
      "Stud4 \t 55.33 \t 56.0 \t 17.15\n",
      "Stud5 \t 76.0 \t 76.0 \t 8.98\n",
      "Stud6 \t 83.33 \t 87.0 \t 13.72\n",
      "\n",
      "Grand Mean =  67.44\n"
     ]
    }
   ],
   "source": [
    "#overall average of the class\n",
    "\n",
    "class_marks_list = []\n",
    "\n",
    "for key,value in dict_stud_quarter_scores.items():\n",
    "    mean = round(np.mean(value),2)\n",
    "    median = round(np.median(value),2)\n",
    "    st_dev = round(np.std(value),2)\n",
    "    for index in value:\n",
    "        # adding all marks in the empty list\n",
    "        class_marks_list.append(index)\n",
    "\n",
    "    print(key,\"\\t\", mean,\"\\t\", median,\"\\t\", st_dev)\n",
    "\n",
    "print(\"\\nGrand Mean = \", round(np.mean(class_marks_list),2))\n"
   ],
   "metadata": {
    "collapsed": false
   }
  },
  {
   "cell_type": "code",
   "execution_count": 121,
   "outputs": [
    {
     "name": "stdout",
     "output_type": "stream",
     "text": [
      "[('a', 1), ('b', 2), ('c', 3)]\n"
     ]
    }
   ],
   "source": [
    "# returns a zipped list\n",
    "\n",
    "def example_data_list(list1,list2):\n",
    "    zipped_list = list(zip(list1,list2))\n",
    "    return zipped_list\n",
    "\n",
    "alist1 = ['a','b','c']\n",
    "alist2 = [1,2,3]\n",
    "\n",
    "print(example_data_list(alist1,alist2))"
   ],
   "metadata": {
    "collapsed": false
   }
  },
  {
   "cell_type": "code",
   "execution_count": 122,
   "outputs": [
    {
     "name": "stdout",
     "output_type": "stream",
     "text": [
      "{'a': 1, 'b': 2, 'c': 3}\n"
     ]
    }
   ],
   "source": [
    "# returns a zipped dictionary\n",
    "\n",
    "def example_data_dict(list1,list2):\n",
    "    zipped_dict = dict(zip(list1,list2))\n",
    "    return zipped_dict\n",
    "\n",
    "alist1 = ['a','b','c']\n",
    "alist2 = [1,2,3]\n",
    "\n",
    "print(example_data_dict(alist1,alist2))"
   ],
   "metadata": {
    "collapsed": false
   }
  }
 ],
 "metadata": {
  "kernelspec": {
   "display_name": "Python 3",
   "language": "python",
   "name": "python3"
  },
  "language_info": {
   "codemirror_mode": {
    "name": "ipython",
    "version": 2
   },
   "file_extension": ".py",
   "mimetype": "text/x-python",
   "name": "python",
   "nbconvert_exporter": "python",
   "pygments_lexer": "ipython2",
   "version": "2.7.6"
  }
 },
 "nbformat": 4,
 "nbformat_minor": 0
}
