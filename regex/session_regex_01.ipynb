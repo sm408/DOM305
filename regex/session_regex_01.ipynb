{
 "cells": [
  {
   "cell_type": "code",
   "execution_count": null,
   "id": "03aa0310",
   "metadata": {},
   "outputs": [],
   "source": [
    "\"\"\"\n",
    "Regular expressions (or regexes in shorthand) are essentially a language of their own and are not unique to Python. \n",
    "What they do is allow for complicated searches through text according to various criteria. \n",
    "If you're looking at a large document of text it's easy enough to search for the word \"Shiv Nadar\". \n",
    "But what if I want to search for a pattern rather than a particualr word such as xxx-xxx-xxxx where \n",
    "I want all the x's to be numbers? This would be a great way to find a phone number but I'd have to do a \n",
    "lot of Cmd+F (Ctrl+F) searches if I searched for all possibilities of 10 digit phone numbers.\n",
    "\n",
    "Regexes allow us to construct a generic text pattern that will then be matched through the entire body of text. \n",
    "There is a specific language that is used to build a regex and this language is both extremely powerful \n",
    "and complicated.\n",
    "\n",
    "You have the ability to construct very complicated and detailed regular expressions. \n",
    "However, as with any tool that is extremely powerful, and difficult to debug.\n",
    "It is easy to construct a regular expression that does far more (or less) than you expect and have \n",
    "it generate incorrect answers. Remember that the best way to build complex \n",
    "regular expressions is to test, test, and test some more.\n",
    "\"\"\""
   ]
  },
  {
   "cell_type": "code",
   "execution_count": null,
   "id": "1bc3b5ba",
   "metadata": {},
   "outputs": [],
   "source": [
    "\"\"\"Regular expressions in Python are implmented in the re package. \n",
    "There are a few basic functions in the package that we will use:\n",
    "\n",
    "re.match() : Determine if the RE matches at the beginning of the string.\n",
    "re.search() : Scan through a string, looking for any location where this RE matches.\n",
    "re.findall() : Find all substrings where the RE matches, and returns them as a list.\n",
    "re.finditer() : Find all substrings where the RE matches, and returns them as an iterator object.\n",
    "Now, let's go over an example so this is less abstract. \n",
    "We'll start with something easy - making a direct match to an explicit string (my name)\n",
    "using all of the different re methods\n",
    "\"\"\""
   ]
  },
  {
   "cell_type": "code",
   "execution_count": 1,
   "id": "285e2a77",
   "metadata": {},
   "outputs": [],
   "source": [
    "import re"
   ]
  },
  {
   "cell_type": "code",
   "execution_count": 29,
   "id": "3e08cf15",
   "metadata": {},
   "outputs": [
    {
     "name": "stdout",
     "output_type": "stream",
     "text": [
      "None\n",
      "<re.Match object; span=(6, 9), match='ABD'>\n",
      "['ABD', 'ABD', 'ABD']\n",
      "<callable_iterator object at 0x7f043c25d4b0>\n"
     ]
    }
   ],
   "source": [
    "text_sample  = \"Hi my ABD  name ABD is ABD!\"\n",
    "print(re.match('ABD', text_sample))\n",
    "print(re.search('ABD', text_sample))\n",
    "print(re.findall('ABD', text_sample))\n",
    "print(re.finditer('ABD', text_sample))"
   ]
  },
  {
   "cell_type": "code",
   "execution_count": 31,
   "id": "523ad1c9",
   "metadata": {},
   "outputs": [
    {
     "name": "stdout",
     "output_type": "stream",
     "text": [
      "ABD (6, 9)\n",
      "ABD (16, 19)\n",
      "ABD (23, 26)\n"
     ]
    }
   ],
   "source": [
    "for text in re.finditer('ABD', text_sample) :\n",
    "    print(text.group(), text.span())"
   ]
  },
  {
   "cell_type": "code",
   "execution_count": 30,
   "id": "0967aa86",
   "metadata": {},
   "outputs": [
    {
     "name": "stdout",
     "output_type": "stream",
     "text": [
      "6\n",
      "9\n",
      "(6, 9)\n",
      "ABD\n"
     ]
    }
   ],
   "source": [
    "search_results = re.search('ABD', text_sample)\n",
    "print(search_results.start())\n",
    "print(search_results.end())\n",
    "print(search_results.span())\n",
    "print(search_results.group())"
   ]
  },
  {
   "cell_type": "code",
   "execution_count": null,
   "id": "c8d2cf0d",
   "metadata": {},
   "outputs": [],
   "source": [
    "\"\"\"re.finditer is doing essentially the same thing as re.search but \n",
    "it's wrapping the results in an iterator. \n",
    "(Reminder question: why would an iterator be used?)\n",
    "\"\"\""
   ]
  },
  {
   "cell_type": "code",
   "execution_count": 32,
   "outputs": [
    {
     "name": "stdout",
     "output_type": "stream",
     "text": [
      "['ABD', 'ABD']\n"
     ]
    }
   ],
   "source": [
    "text_sample_3 = \"ABD has enrolled in SNU. ABD opted for DOM305.\"\n",
    "print(re.findall('ABD', text_sample_3))"
   ],
   "metadata": {
    "collapsed": false
   }
  },
  {
   "cell_type": "code",
   "execution_count": 33,
   "outputs": [
    {
     "name": "stdout",
     "output_type": "stream",
     "text": [
      "ABD (0, 3)\n",
      "ABD (25, 28)\n"
     ]
    }
   ],
   "source": [
    "for text in re.finditer('ABD', text_sample_3) :\n",
    "    print(text.group(), text.span())\n"
   ],
   "metadata": {
    "collapsed": false
   }
  },
  {
   "cell_type": "code",
   "execution_count": 36,
   "id": "340fea99",
   "metadata": {},
   "outputs": [
    {
     "name": "stdout",
     "output_type": "stream",
     "text": [
      "['12', '89', '34', '2022']\n",
      "12 (6, 8)\n",
      "89 (12, 14)\n",
      "34 (22, 24)\n",
      "2022 (39, 43)\n"
     ]
    }
   ],
   "source": [
    "# Program to extract numbers from a string\n",
    "string = 'hello 12 hi 89. Howdy 34. This year is 2022'\n",
    "#syntax for searching any number from a text or string\n",
    "pattern = '\\d+' \n",
    "\n",
    "#trying to find all the numbers existing in the string\n",
    "result = re.findall(pattern, string) \n",
    "print(result)\n",
    "\n",
    "for text in re.finditer(pattern, string) :\n",
    "    print(text.group(), text.span())"
   ]
  },
  {
   "cell_type": "code",
   "execution_count": 37,
   "id": "a30a4a22",
   "metadata": {},
   "outputs": [
    {
     "name": "stdout",
     "output_type": "stream",
     "text": [
      "['Twelve is ', ' and Eighty nine is ', '.']\n",
      "['Twelve:', ' Eighty nine:', '.']\n"
     ]
    }
   ],
   "source": [
    "\"\"\"\n",
    "re.split method splits the string where there is a match and returns a \n",
    "list of strings where the splits have occurred.\n",
    "\"\"\"\n",
    "string = 'Twelve:12 Eighty nine:89.'\n",
    "string2 = 'Twelve is 12 and Eighty nine is 89.'\n",
    "pattern = '\\d+'\n",
    "\n",
    "result = re.split(pattern, string2) \n",
    "print(result)\n",
    "#say you are given with a text containing numbers. You are asked to plot the \"wordcloud\" w/o the numbers.\n",
    "# you can have the entire text split up by the numbers using re.split() and then join the list of strings.\n",
    "#Then you can visualize the resultant string/text as wordcloud.\n",
    "\n",
    "result2 = re.split(pattern, string)\n",
    "print(result2)"
   ]
  },
  {
   "cell_type": "code",
   "execution_count": 40,
   "id": "26991865",
   "metadata": {},
   "outputs": [
    {
     "name": "stdout",
     "output_type": "stream",
     "text": [
      "abc 12de 23 \n",
      " f45 6\n",
      "abc12de23f456\n",
      "Shubham has enrolled in SNU. Shubham opted for DOM305.\n"
     ]
    }
   ],
   "source": [
    "# Program to remove all whitespaces\n",
    "\n",
    "# multiline string\n",
    "string = 'abc 12\\\n",
    "de 23 \\n f45 6'\n",
    "print(string)\n",
    "\n",
    "# matches all whitespace characters\n",
    "pattern = '\\s+'\n",
    "\n",
    "# empty string\n",
    "replace = ''\n",
    "\n",
    "new_string = re.sub(pattern, replace, string) \n",
    "print(new_string)\n",
    "\n",
    "new_string2 = re.sub(\"ABD\",\"Shubham\",text_sample_3)\n",
    "print(new_string2)"
   ]
  },
  {
   "cell_type": "code",
   "execution_count": 41,
   "id": "bdd5c8f4",
   "metadata": {},
   "outputs": [
    {
     "name": "stdout",
     "output_type": "stream",
     "text": [
      "None\n",
      "pattern not found\n",
      "0\n"
     ]
    }
   ],
   "source": [
    "string = \"Python is fun\"\n",
    "\n",
    "# check if 'Python' is at the beginning\n",
    "match = re.search('Julia', string)\n",
    "\n",
    "print(match)\n",
    "if match:\n",
    "    print(\"pattern found inside the string\")\n",
    "    x = 1\n",
    "else:\n",
    "    print(\"pattern not found\")\n",
    "    x= 0\n",
    "\n",
    "# x is a dummy variable if search string is found (value = 1); if not found (value = 0)\n",
    "print(x)"
   ]
  },
  {
   "cell_type": "code",
   "execution_count": 57,
   "id": "429cd11e",
   "metadata": {},
   "outputs": [
    {
     "name": "stdout",
     "output_type": "stream",
     "text": [
      "111\n"
     ]
    }
   ],
   "source": [
    "# The group() method returns the part of the string where there is a match.\n",
    "\n",
    "\n",
    "string = 'that is 1111 number'\n",
    "\n",
    "# r means raw string\n",
    "pattern = r'\\d{3}'\n",
    "\n",
    "# match variable contains a Match object.\n",
    "match = re.search(pattern, string)\n",
    "\n",
    "if match:\n",
    "  print(match.group())\n",
    "else:\n",
    "  print(\"pattern not found\")"
   ]
  },
  {
   "cell_type": "code",
   "execution_count": 58,
   "id": "78ddd50c",
   "metadata": {},
   "outputs": [
    {
     "name": "stdout",
     "output_type": "stream",
     "text": [
      "['111']\n"
     ]
    }
   ],
   "source": [
    "match = re.findall(pattern, string) \n",
    "print(match)\n"
   ]
  },
  {
   "cell_type": "code",
   "execution_count": 79,
   "id": "09efd0cb",
   "metadata": {},
   "outputs": [
    {
     "name": "stdout",
     "output_type": "stream",
     "text": [
      "<re.Match object; span=(1, 9), match='9801 356'>\n",
      "['9801 356', '2102 111']\n",
      "9801 356 (1, 9)\n",
      "2102 111 (11, 19)\n"
     ]
    }
   ],
   "source": [
    "string = '39801 356, 2102 1111'\n",
    "\n",
    "# Three digit number followed by space followed by two digit number\n",
    "pattern = r'\\d{4} \\d{3}'\n",
    "\n",
    "# match variable contains a Match object.\n",
    "match_1 = re.search(pattern, string) \n",
    "print(match_1)\n",
    "\n",
    "match_2 = re.findall(pattern, string) \n",
    "print(match_2)\n",
    "\n",
    "match_3 = re.finditer(pattern, string)\n",
    "for text in match_3 :\n",
    "    print(text.group(), text.span())"
   ]
  },
  {
   "cell_type": "code",
   "execution_count": 84,
   "id": "ff6755e2",
   "metadata": {},
   "outputs": [
    {
     "name": "stdout",
     "output_type": "stream",
     "text": [
      "<re.Match object; span=(0, 3), match='123'>\n",
      "<re.Match object; span=(0, 1), match='1'>\n",
      "None\n",
      "None\n"
     ]
    }
   ],
   "source": [
    "# Positive Integers\n",
    "pattern = '^\\d+$'\n",
    "str_true = ('123', '1', )\n",
    "str_false = ('abc', '1.1', )\n",
    "\n",
    "for t in str_true:\n",
    "    print(re.match(pattern, t))\n",
    "\n",
    "for t in str_false:\n",
    "    print(re.match(pattern, t))\n"
   ]
  },
  {
   "cell_type": "code",
   "execution_count": 88,
   "outputs": [
    {
     "name": "stdout",
     "output_type": "stream",
     "text": [
      "<re.Match object; span=(0, 3), match='124'>\n",
      "None\n",
      "<re.Match object; span=(0, 1), match='6'>\n",
      "None\n",
      "<re.Match object; span=(0, 2), match='54'>\n"
     ]
    }
   ],
   "source": [
    "str_val = ('124','5.5','6','djf',54)\n",
    "pattern = '^\\d+$'\n",
    "for t in str_val:\n",
    "    print(re.match(pattern, str(t)))"
   ],
   "metadata": {
    "collapsed": false
   }
  },
  {
   "cell_type": "code",
   "execution_count": 93,
   "id": "6940c50d",
   "metadata": {},
   "outputs": [
    {
     "name": "stdout",
     "output_type": "stream",
     "text": [
      "<re.Match object; span=(0, 4), match='-123'>\n",
      "(0, 4)\n",
      "<re.Match object; span=(0, 2), match='-1'>\n",
      "(0, 2)\n",
      "None\n",
      "None\n",
      "None\n"
     ]
    }
   ],
   "source": [
    "# Negative Integers\n",
    "pattern = '^-\\d+$'\n",
    "str_true = ('-123', '-1', )\n",
    "str_false = ('123', '-abc', '-1.1', )\n",
    "\n",
    "for t in str_true:\n",
    "    print(re.match(pattern, t))\n",
    "    print(re.match(pattern, str(t)).span())\n",
    "\n",
    "for t in str_false:\n",
    "    print(re.match(pattern, t))"
   ]
  },
  {
   "cell_type": "code",
   "execution_count": 97,
   "id": "4b35555c",
   "metadata": {},
   "outputs": [
    {
     "name": "stdout",
     "output_type": "stream",
     "text": [
      "<re.Match object; span=(0, 1), match='1'>\n",
      "<re.Match object; span=(0, 3), match='123'>\n",
      "<re.Match object; span=(0, 5), match='1.234'>\n",
      "None\n",
      "None\n",
      "None\n"
     ]
    }
   ],
   "source": [
    "# positive numbers\n",
    "pattern = '^\\d*\\.{0,1}\\d+$'\n",
    "\n",
    "str_true = ('1', '123', '1.234', )            \n",
    "str_false = ('-abc', '-123', '-123.0')\n",
    "for t in str_true:\n",
    "    print(re.match(pattern, t))\n",
    "\n",
    "for t in str_false:\n",
    "    print(re.match(pattern, t))\n"
   ]
  },
  {
   "cell_type": "code",
   "execution_count": 100,
   "outputs": [
    {
     "name": "stdout",
     "output_type": "stream",
     "text": [
      "(0, 4) -123\n",
      "(0, 2) -1\n",
      "(0, 1) 1\n",
      "(0, 3) 123\n",
      "None\n",
      "None\n",
      "<re.Match object; span=(0, 3), match='-11'>\n"
     ]
    }
   ],
   "source": [
    "# all integers\n",
    "pattern = '^-{0,1}\\d+$'\n",
    "str_true = ('-123', '-1', '1', '123',)\n",
    "str_false = ('123.0', '-abc', '-11', )\n",
    "\n",
    "for t in str_true:\n",
    "    print(re.match(pattern, t).span(), re.match(pattern, t).group())\n",
    "\n",
    "for t in str_false:\n",
    "    print(re.match(pattern, t))"
   ],
   "metadata": {
    "collapsed": false
   }
  },
  {
   "cell_type": "code",
   "execution_count": 104,
   "id": "a03e0355",
   "metadata": {},
   "outputs": [
    {
     "name": "stdout",
     "output_type": "stream",
     "text": [
      "<re.Match object; span=(0, 2), match='-1'>\n",
      "<re.Match object; span=(0, 4), match='-123'>\n",
      "<re.Match object; span=(0, 6), match='-123.0'>\n",
      "<re.Match object; span=(0, 4), match='-.56'>\n",
      "None\n",
      "None\n",
      "None\n",
      "None\n"
     ]
    }
   ],
   "source": [
    "# negative numbers\n",
    "pattern = '^-\\d*\\.{0,1}\\d+$'\n",
    "str_true = ('-1', '-123', '-123.0', '-.56' )\n",
    "str_false = ('-abc', '1', '123', '1.234', )\n",
    "\n",
    "for t in str_true:\n",
    "    print(re.match(pattern, t))\n",
    "\n",
    "for t in str_false:\n",
    "    print(re.match(pattern, t))"
   ]
  },
  {
   "cell_type": "code",
   "execution_count": 107,
   "id": "1671153d",
   "metadata": {},
   "outputs": [
    {
     "name": "stdout",
     "output_type": "stream",
     "text": [
      "<re.Match object; span=(0, 1), match='1'>\n",
      "<re.Match object; span=(0, 3), match='123'>\n",
      "<re.Match object; span=(0, 5), match='1.234'>\n",
      "<re.Match object; span=(0, 4), match='-123'>\n",
      "<re.Match object; span=(0, 6), match='-123.0'>\n",
      "None\n"
     ]
    }
   ],
   "source": [
    "#all numbers \n",
    "pattern = '^-{0,1}\\d*\\.{0,1}\\d+$'\n",
    "# what does the -{0,1} mean?\n",
    "# the -{0,1} means that the - sign can appear 0 or 1 times.\n",
    "\n",
    "str_true = ('1', '123', '1.234', '-123', '-123.0')\n",
    "str_false2 = ('-abc',)\n",
    "\n",
    "for t in str_true:\n",
    "    print(re.match(pattern, t))\n",
    "\n",
    "for t in str_false2:\n",
    "    print(re.match(pattern, t))\n",
    "\n",
    "\n"
   ]
  },
  {
   "cell_type": "code",
   "execution_count": null,
   "id": "39310fbb",
   "metadata": {},
   "outputs": [],
   "source": []
  }
 ],
 "metadata": {
  "kernelspec": {
   "display_name": "Python 3 (ipykernel)",
   "language": "python",
   "name": "python3"
  },
  "language_info": {
   "codemirror_mode": {
    "name": "ipython",
    "version": 3
   },
   "file_extension": ".py",
   "mimetype": "text/x-python",
   "name": "python",
   "nbconvert_exporter": "python",
   "pygments_lexer": "ipython3",
   "version": "3.11.2"
  }
 },
 "nbformat": 4,
 "nbformat_minor": 5
}
