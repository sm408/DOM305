{
 "cells": [
  {
   "cell_type": "code",
   "execution_count": 1,
   "id": "a15b808f",
   "metadata": {},
   "outputs": [],
   "source": [
    "import json\n",
    "import re"
   ]
  },
  {
   "cell_type": "code",
   "execution_count": 2,
   "id": "d2b28d25",
   "metadata": {},
   "outputs": [
    {
     "name": "stdout",
     "output_type": "stream",
     "text": [
      "['Hotels', 'hotels']\n"
     ]
    }
   ],
   "source": [
    "text_article_body2 = \"Apeejay Surrendra Park Hotels which owns the famous bakery brand Flurys on Wednesday filed its draft red herring prospectus. So mant hotels in city\"\n",
    "print(re.findall('[H|h]otel[s]', text_article_body2))"
   ]
  },
  {
   "cell_type": "code",
   "execution_count": 12,
   "outputs": [
    {
     "name": "stdout",
     "output_type": "stream",
     "text": [
      "['Hotels', 'hotels', 'hotel']\n"
     ]
    }
   ],
   "source": [
    "text_article_body2 = \"Apeejay Surrendra Park Hotels which owns the famous bakery brand Flurys on Wednesday filed its draft red herring prospectus. So mant hotels in city. Let us find a hotel.\"\n",
    "print(re.findall('[H|h]otel[s]?', text_article_body2))"
   ],
   "metadata": {
    "collapsed": false
   }
  },
  {
   "cell_type": "code",
   "execution_count": 10,
   "outputs": [
    {
     "name": "stdout",
     "output_type": "stream",
     "text": [
      "['Park']\n"
     ]
    }
   ],
   "source": [
    "text_article_body2 = \"Apeejay Surrendra Park Hotels which owns the famous bakery brand Flurys on Wednesday filed its draft red herring prospectus. So mant hotels in city. Let us find a hotel.\"\n",
    "print(re.findall('Park', text_article_body2))"
   ],
   "metadata": {
    "collapsed": false
   }
  },
  {
   "cell_type": "code",
   "execution_count": 17,
   "id": "d082139a",
   "metadata": {},
   "outputs": [
    {
     "name": "stdout",
     "output_type": "stream",
     "text": [
      "January 26\n",
      "['1991', '1999', '2000', '2001', '2002']\n"
     ]
    }
   ],
   "source": [
    "text_bs_4 = \"His Budget 1991 was in the backdrop of the forex crisis; Budget 1999 was in the year of the Pokhran blasts; Budget 2000 was at the time of the Kargil war; and Budget 2001 was presented the year a devastating earthquake shook Gujarat on January 26.Sinha’s Budget 2002 also saw the maximum rollbacks; he went back on some five Budget proposals. For example, the Budget proposal of 5% service tax was revised and the service tax was rolled back for the savings\"\n",
    "# Get tge years mentioned in the text\n",
    "pattern = r'(Jan(uary)?|Feb(ruary)?|Mar(ch)?|Apr(il)?|May|Jun(e)?|Jul(y)?|Aug(ust)?|Sep(tember)?|Oct(ober)?|Nov(ember)?|Dec(ember)?)\\s+(0[1-9]|1\\d|2\\d|3[01])'\n",
    "print(re.search(pattern, text_bs_4).group())\n",
    "print(re.findall(r'\\d{4}',text_bs_4))"
   ]
  },
  {
   "cell_type": "code",
   "execution_count": 19,
   "id": "d371e678",
   "metadata": {},
   "outputs": [
    {
     "name": "stdout",
     "output_type": "stream",
     "text": [
      "['I', 's', 'a', 'i', 'l', 'm', 'y', '3', 's', 'h', 'i', 'p', 's', 'o', 'n', 't', 'h', 'e', '7', 's', 'e', 'a', 's', '.']\n",
      "[' ', ' ', ' ', ' ', ' ', ' ', ' ', ' ', '.']\n",
      "['I', ' ', 's', 'a', 'i', 'l', ' ', 'm', 'y', ' ', ' ', 's', 'h', 'i', 'p', 's', ' ', 'o', 'n', ' ', 't', 'h', 'e', ' ', ' ', 's', 'e', 'a', 's', '.']\n"
     ]
    }
   ],
   "source": [
    "negation = 'I sail my 3 ships on the 7 seas.'\n",
    "\n",
    "negation01 = re.findall('\\S', negation)\n",
    "print(negation01)\n",
    "\n",
    "negation02 = re.findall('\\W', negation)\n",
    "print(negation02)\n",
    "\n",
    "negation03 = re.findall('\\D', negation)\n",
    "print(negation03)\n",
    "\n",
    "# The difference between \\s vs \\S; \\w vs \\W; \\d vs \\D\n",
    "# \\s matches any whitespace character\n",
    "# \\S matches any non-whitespace character\n",
    "# \\w matches any alphanumeric character\n",
    "# \\W matches any non-alphanumeric character\n",
    "# \\d matches any digit\n",
    "# \\D matches any non-digit\n"
   ]
  },
  {
   "cell_type": "code",
   "execution_count": 28,
   "id": "5f6703ae",
   "metadata": {},
   "outputs": [
    {
     "name": "stdout",
     "output_type": "stream",
     "text": [
      "['2.99', '5.99', '3.50']\n",
      "['penguin ', 'whale ']\n",
      "{'penguin ': '2.99', 'whale ': '5.99'}\n"
     ]
    }
   ],
   "source": [
    "lookaround = 'A penguin costs 2.99, a whale costs 5.99, I only have 3.50 left.'\n",
    "\n",
    "# What is the cost of each animal?\n",
    "# What animals are for sale?\n",
    "# Creating an Animal Prices dictionary Data Frame\n",
    "costs = re.findall('\\d\\.\\d{2}', lookaround)\n",
    "print(costs)\n",
    "\n",
    "animals = re.findall('\\w+\\s(?=costs)', lookaround)\n",
    "print(animals)\n",
    "# how does it find the animals. Explain.\n",
    "# It finds the animals because it is looking for the word costs and then it looks for the word before it.\n",
    "\n",
    "animal_cost = dict(zip(animals, costs))\n",
    "print(animal_cost)\n"
   ]
  },
  {
   "cell_type": "code",
   "execution_count": null,
   "id": "930ad051",
   "metadata": {},
   "outputs": [],
   "source": []
  },
  {
   "cell_type": "code",
   "execution_count": 37,
   "id": "6d0c0435",
   "metadata": {},
   "outputs": [
    {
     "name": "stdout",
     "output_type": "stream",
     "text": [
      "['penguin', 'whale']\n"
     ]
    }
   ],
   "source": [
    "# The basic formula for a look ahead is as follows: \"match this(?=if followed by this)\"\n",
    "# Look Ahead\n",
    "list_animals = re.findall('\\w+\\s(?=costs)', lookaround)\n",
    "\n",
    "\n",
    "# remove the spaces from the list of animals\n",
    "list_animals = [animal.strip() for animal in list_animals]\n",
    "print(list_animals)"
   ]
  },
  {
   "cell_type": "code",
   "execution_count": 27,
   "id": "cf2cc2c8",
   "metadata": {},
   "outputs": [
    {
     "name": "stdout",
     "output_type": "stream",
     "text": [
      "[' 2.99', ' 5.99']\n"
     ]
    }
   ],
   "source": [
    "# Look behind\n",
    "list_costs = re.findall('(?<=costs)\\s\\d\\.\\d{2}', lookaround)\n",
    "print(list_costs)"
   ]
  },
  {
   "cell_type": "code",
   "execution_count": 36,
   "outputs": [
    {
     "name": "stdout",
     "output_type": "stream",
     "text": [
      "['2.99', '5.99']\n"
     ]
    }
   ],
   "source": [
    "# remove the spaces from the list of costs\n",
    "list_costs = re.findall('(?<=costs)\\s\\d\\.\\d{2}', lookaround)\n",
    "list_costs = [cost.strip() for cost in list_costs]\n",
    "print(list_costs)"
   ],
   "metadata": {
    "collapsed": false
   }
  },
  {
   "cell_type": "code",
   "execution_count": 38,
   "outputs": [
    {
     "name": "stdout",
     "output_type": "stream",
     "text": [
      "{'penguin': '2.99', 'whale': '5.99'}\n"
     ]
    }
   ],
   "source": [
    "# zip the two lists together\n",
    "animal_cost = dict(zip(list_animals, list_costs))\n",
    "print(animal_cost)"
   ],
   "metadata": {
    "collapsed": false
   }
  },
  {
   "cell_type": "code",
   "execution_count": 50,
   "outputs": [
    {
     "name": "stdout",
     "output_type": "stream",
     "text": [
      "         0     1\n",
      "0  penguin  2.99\n",
      "1    whale  5.99\n"
     ]
    }
   ],
   "source": [
    "# convert to pandas dataframe\n",
    "import pandas as pd\n",
    "df_animal_cost = pd.DataFrame(animal_cost.items())\n",
    "print(df_animal_cost)\n",
    "\n",
    "# save it as a json file\n",
    "import json\n",
    "json.dump(animal_cost, open('animal_cost.json', 'w'))\n"
   ],
   "metadata": {
    "collapsed": false
   }
  },
  {
   "cell_type": "code",
   "execution_count": 53,
   "id": "b1392bcd",
   "metadata": {},
   "outputs": [
    {
     "name": "stdout",
     "output_type": "stream",
     "text": [
      "['Amanda', 'lindsay', 'Gianne']\n"
     ]
    }
   ],
   "source": [
    "#positive lookahead with ?=\n",
    "text = \"Amanda:Female,Gerrard:Male,lindsay:Female,Gianne:Female,Mike:Male\"\n",
    "list_females = re.findall('([A-Z | a-z]\\w+):(?=Female)',text)\n",
    "print(list_females)"
   ]
  },
  {
   "cell_type": "code",
   "execution_count": 59,
   "id": "a9616369",
   "metadata": {},
   "outputs": [
    {
     "data": {
      "text/plain": "['Gerrard', 'Mike']"
     },
     "execution_count": 59,
     "metadata": {},
     "output_type": "execute_result"
    }
   ],
   "source": [
    "#negative lookahead with ?!\n",
    "text = \"Amanda:Female,Gerrard:Male,Lindsay:Female,Gianne:Female,Mike:Male\"\n",
    "\n",
    "re.findall('([A-Z]\\w+):(?!Female)',text)"
   ]
  },
  {
   "cell_type": "code",
   "execution_count": 65,
   "id": "a4a7ef49",
   "metadata": {},
   "outputs": [
    {
     "data": {
      "text/plain": "['{blue,yellow,green}']"
     },
     "execution_count": 65,
     "metadata": {},
     "output_type": "execute_result"
    }
   ],
   "source": [
    "#positive lookbehind with ?<=\n",
    "text = \"fruits={apple,banana,orange} animals={dog,cat,rabbit} colors={blue,yellow,green}\"\n",
    "\n",
    "re.findall('(?<=colors)=({[\\w,]+})',text)"
   ]
  },
  {
   "cell_type": "code",
   "execution_count": 66,
   "id": "5b0a93ee",
   "metadata": {},
   "outputs": [
    {
     "data": {
      "text/plain": "['{apple,banana,orange}', '{dog,cat,rabbit}']"
     },
     "execution_count": 66,
     "metadata": {},
     "output_type": "execute_result"
    }
   ],
   "source": [
    "#negative lookbehind with ?<!\n",
    "text = \"fruits={apple,banana,orange} animals={dog,cat,rabbit} colors={blue,yellow,green}\"\n",
    "\n",
    "re.findall('(?<!colors)=({[\\w,]+})',text)"
   ]
  },
  {
   "cell_type": "code",
   "execution_count": null,
   "id": "d465b69e",
   "metadata": {},
   "outputs": [],
   "source": []
  },
  {
   "cell_type": "code",
   "execution_count": null,
   "id": "72e1ef84",
   "metadata": {},
   "outputs": [],
   "source": []
  },
  {
   "cell_type": "code",
   "execution_count": null,
   "id": "665965cf",
   "metadata": {},
   "outputs": [],
   "source": []
  }
 ],
 "metadata": {
  "kernelspec": {
   "display_name": "Python 3 (ipykernel)",
   "language": "python",
   "name": "python3"
  },
  "language_info": {
   "codemirror_mode": {
    "name": "ipython",
    "version": 3
   },
   "file_extension": ".py",
   "mimetype": "text/x-python",
   "name": "python",
   "nbconvert_exporter": "python",
   "pygments_lexer": "ipython3",
   "version": "3.11.2"
  }
 },
 "nbformat": 4,
 "nbformat_minor": 5
}
