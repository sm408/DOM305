{
 "cells": [
  {
   "cell_type": "code",
   "execution_count": 1,
   "id": "5731b5e1",
   "metadata": {},
   "outputs": [],
   "source": [
    "from bs4 import BeautifulSoup \n",
    "import json,re \n",
    "\n"
   ]
  },
  {
   "cell_type": "code",
   "execution_count": 2,
   "id": "02d23b1a",
   "metadata": {},
   "outputs": [
    {
     "name": "stdout",
     "output_type": "stream",
     "text": [
      "['04/10/2022', '05/09/2022']\n"
     ]
    }
   ],
   "source": [
    "text_statement = \"Today date is 04/10/2022. The exam is on 05/09/2022.\"\n",
    "print(re.findall(r'\\d{2}/\\d{2}/\\d{4}', text_statement))\n",
    "#Only drawback in this searching method is we dont know the date pattern: mm/dd/yyyy OR dd/mm/yyyy"
   ]
  },
  {
   "cell_type": "code",
   "execution_count": 3,
   "id": "b851399a",
   "metadata": {},
   "outputs": [
    {
     "name": "stdout",
     "output_type": "stream",
     "text": [
      "[('04', '10', '20'), ('05', '09', '20')]\n",
      "None\n",
      "04/10/2022\n",
      "<callable_iterator object at 0x7f93101d7490>\n",
      "04/10/2022\n",
      "05/09/2022\n"
     ]
    }
   ],
   "source": [
    "pattern = r'(0[1-9]|1[0-2])\\/(0[1-9]|1\\d|2\\d|3[01])\\/(19|20)\\d{2}'\n",
    "print(re.findall(pattern, text_statement))\n",
    "print(re.match(pattern, text_statement))\n",
    "print(re.search(pattern, text_statement).group())\n",
    "print(re.finditer(pattern, text_statement))\n",
    "\n",
    "for t in re.finditer(pattern, text_statement):\n",
    "    print(t.group())"
   ]
  },
  {
   "cell_type": "code",
   "execution_count": 4,
   "id": "4817525e",
   "metadata": {},
   "outputs": [
    {
     "ename": "error",
     "evalue": "global flags not at the start of the expression at position 31",
     "output_type": "error",
     "traceback": [
      "\u001B[0;31m---------------------------------------------------------------------------\u001B[0m",
      "\u001B[0;31merror\u001B[0m                                     Traceback (most recent call last)",
      "Cell \u001B[0;32mIn[4], line 9\u001B[0m\n\u001B[1;32m      6\u001B[0m str_false \u001B[38;5;241m=\u001B[39m (\u001B[38;5;124m'\u001B[39m\u001B[38;5;124m22:00pm\u001B[39m\u001B[38;5;124m'\u001B[39m, \u001B[38;5;124m'\u001B[39m\u001B[38;5;124m14:00\u001B[39m\u001B[38;5;124m'\u001B[39m, \u001B[38;5;124m'\u001B[39m\u001B[38;5;124m3:12\u001B[39m\u001B[38;5;124m'\u001B[39m, \u001B[38;5;124m'\u001B[39m\u001B[38;5;124m03:12pm\u001B[39m\u001B[38;5;124m'\u001B[39m, )\n\u001B[1;32m      8\u001B[0m \u001B[38;5;28;01mfor\u001B[39;00m t \u001B[38;5;129;01min\u001B[39;00m str_true:\n\u001B[0;32m----> 9\u001B[0m     \u001B[38;5;28mprint\u001B[39m(\u001B[43mre\u001B[49m\u001B[38;5;241;43m.\u001B[39;49m\u001B[43mmatch\u001B[49m\u001B[43m(\u001B[49m\u001B[43mpattern\u001B[49m\u001B[43m,\u001B[49m\u001B[43m \u001B[49m\u001B[43mt\u001B[49m\u001B[43m)\u001B[49m)\n\u001B[1;32m     11\u001B[0m \u001B[38;5;28;01mfor\u001B[39;00m t \u001B[38;5;129;01min\u001B[39;00m str_false:\n\u001B[1;32m     12\u001B[0m     \u001B[38;5;28mprint\u001B[39m(re\u001B[38;5;241m.\u001B[39mmatch(pattern, t))\n",
      "File \u001B[0;32m/usr/lib64/python3.11/re/__init__.py:166\u001B[0m, in \u001B[0;36mmatch\u001B[0;34m(pattern, string, flags)\u001B[0m\n\u001B[1;32m    163\u001B[0m \u001B[38;5;28;01mdef\u001B[39;00m \u001B[38;5;21mmatch\u001B[39m(pattern, string, flags\u001B[38;5;241m=\u001B[39m\u001B[38;5;241m0\u001B[39m):\n\u001B[1;32m    164\u001B[0m \u001B[38;5;250m    \u001B[39m\u001B[38;5;124;03m\"\"\"Try to apply the pattern at the start of the string, returning\u001B[39;00m\n\u001B[1;32m    165\u001B[0m \u001B[38;5;124;03m    a Match object, or None if no match was found.\"\"\"\u001B[39;00m\n\u001B[0;32m--> 166\u001B[0m     \u001B[38;5;28;01mreturn\u001B[39;00m \u001B[43m_compile\u001B[49m\u001B[43m(\u001B[49m\u001B[43mpattern\u001B[49m\u001B[43m,\u001B[49m\u001B[43m \u001B[49m\u001B[43mflags\u001B[49m\u001B[43m)\u001B[49m\u001B[38;5;241m.\u001B[39mmatch(string)\n",
      "File \u001B[0;32m/usr/lib64/python3.11/re/__init__.py:294\u001B[0m, in \u001B[0;36m_compile\u001B[0;34m(pattern, flags)\u001B[0m\n\u001B[1;32m    288\u001B[0m     \u001B[38;5;28;01mimport\u001B[39;00m \u001B[38;5;21;01mwarnings\u001B[39;00m\n\u001B[1;32m    289\u001B[0m     warnings\u001B[38;5;241m.\u001B[39mwarn(\u001B[38;5;124m\"\u001B[39m\u001B[38;5;124mThe re.TEMPLATE/re.T flag is deprecated \u001B[39m\u001B[38;5;124m\"\u001B[39m\n\u001B[1;32m    290\u001B[0m               \u001B[38;5;124m\"\u001B[39m\u001B[38;5;124mas it is an undocumented flag \u001B[39m\u001B[38;5;124m\"\u001B[39m\n\u001B[1;32m    291\u001B[0m               \u001B[38;5;124m\"\u001B[39m\u001B[38;5;124mwithout an obvious purpose. \u001B[39m\u001B[38;5;124m\"\u001B[39m\n\u001B[1;32m    292\u001B[0m               \u001B[38;5;124m\"\u001B[39m\u001B[38;5;124mDon\u001B[39m\u001B[38;5;124m'\u001B[39m\u001B[38;5;124mt use it.\u001B[39m\u001B[38;5;124m\"\u001B[39m,\n\u001B[1;32m    293\u001B[0m               \u001B[38;5;167;01mDeprecationWarning\u001B[39;00m)\n\u001B[0;32m--> 294\u001B[0m p \u001B[38;5;241m=\u001B[39m \u001B[43m_compiler\u001B[49m\u001B[38;5;241;43m.\u001B[39;49m\u001B[43mcompile\u001B[49m\u001B[43m(\u001B[49m\u001B[43mpattern\u001B[49m\u001B[43m,\u001B[49m\u001B[43m \u001B[49m\u001B[43mflags\u001B[49m\u001B[43m)\u001B[49m\n\u001B[1;32m    295\u001B[0m \u001B[38;5;28;01mif\u001B[39;00m \u001B[38;5;129;01mnot\u001B[39;00m (flags \u001B[38;5;241m&\u001B[39m DEBUG):\n\u001B[1;32m    296\u001B[0m     \u001B[38;5;28;01mif\u001B[39;00m \u001B[38;5;28mlen\u001B[39m(_cache) \u001B[38;5;241m>\u001B[39m\u001B[38;5;241m=\u001B[39m _MAXCACHE:\n\u001B[1;32m    297\u001B[0m         \u001B[38;5;66;03m# Drop the oldest item\u001B[39;00m\n",
      "File \u001B[0;32m/usr/lib64/python3.11/re/_compiler.py:743\u001B[0m, in \u001B[0;36mcompile\u001B[0;34m(p, flags)\u001B[0m\n\u001B[1;32m    741\u001B[0m \u001B[38;5;28;01mif\u001B[39;00m isstring(p):\n\u001B[1;32m    742\u001B[0m     pattern \u001B[38;5;241m=\u001B[39m p\n\u001B[0;32m--> 743\u001B[0m     p \u001B[38;5;241m=\u001B[39m \u001B[43m_parser\u001B[49m\u001B[38;5;241;43m.\u001B[39;49m\u001B[43mparse\u001B[49m\u001B[43m(\u001B[49m\u001B[43mp\u001B[49m\u001B[43m,\u001B[49m\u001B[43m \u001B[49m\u001B[43mflags\u001B[49m\u001B[43m)\u001B[49m\n\u001B[1;32m    744\u001B[0m \u001B[38;5;28;01melse\u001B[39;00m:\n\u001B[1;32m    745\u001B[0m     pattern \u001B[38;5;241m=\u001B[39m \u001B[38;5;28;01mNone\u001B[39;00m\n",
      "File \u001B[0;32m/usr/lib64/python3.11/re/_parser.py:980\u001B[0m, in \u001B[0;36mparse\u001B[0;34m(str, flags, state)\u001B[0m\n\u001B[1;32m    977\u001B[0m state\u001B[38;5;241m.\u001B[39mflags \u001B[38;5;241m=\u001B[39m flags\n\u001B[1;32m    978\u001B[0m state\u001B[38;5;241m.\u001B[39mstr \u001B[38;5;241m=\u001B[39m \u001B[38;5;28mstr\u001B[39m\n\u001B[0;32m--> 980\u001B[0m p \u001B[38;5;241m=\u001B[39m \u001B[43m_parse_sub\u001B[49m\u001B[43m(\u001B[49m\u001B[43msource\u001B[49m\u001B[43m,\u001B[49m\u001B[43m \u001B[49m\u001B[43mstate\u001B[49m\u001B[43m,\u001B[49m\u001B[43m \u001B[49m\u001B[43mflags\u001B[49m\u001B[43m \u001B[49m\u001B[38;5;241;43m&\u001B[39;49m\u001B[43m \u001B[49m\u001B[43mSRE_FLAG_VERBOSE\u001B[49m\u001B[43m,\u001B[49m\u001B[43m \u001B[49m\u001B[38;5;241;43m0\u001B[39;49m\u001B[43m)\u001B[49m\n\u001B[1;32m    981\u001B[0m p\u001B[38;5;241m.\u001B[39mstate\u001B[38;5;241m.\u001B[39mflags \u001B[38;5;241m=\u001B[39m fix_flags(\u001B[38;5;28mstr\u001B[39m, p\u001B[38;5;241m.\u001B[39mstate\u001B[38;5;241m.\u001B[39mflags)\n\u001B[1;32m    983\u001B[0m \u001B[38;5;28;01mif\u001B[39;00m source\u001B[38;5;241m.\u001B[39mnext \u001B[38;5;129;01mis\u001B[39;00m \u001B[38;5;129;01mnot\u001B[39;00m \u001B[38;5;28;01mNone\u001B[39;00m:\n",
      "File \u001B[0;32m/usr/lib64/python3.11/re/_parser.py:455\u001B[0m, in \u001B[0;36m_parse_sub\u001B[0;34m(source, state, verbose, nested)\u001B[0m\n\u001B[1;32m    453\u001B[0m start \u001B[38;5;241m=\u001B[39m source\u001B[38;5;241m.\u001B[39mtell()\n\u001B[1;32m    454\u001B[0m \u001B[38;5;28;01mwhile\u001B[39;00m \u001B[38;5;28;01mTrue\u001B[39;00m:\n\u001B[0;32m--> 455\u001B[0m     itemsappend(\u001B[43m_parse\u001B[49m\u001B[43m(\u001B[49m\u001B[43msource\u001B[49m\u001B[43m,\u001B[49m\u001B[43m \u001B[49m\u001B[43mstate\u001B[49m\u001B[43m,\u001B[49m\u001B[43m \u001B[49m\u001B[43mverbose\u001B[49m\u001B[43m,\u001B[49m\u001B[43m \u001B[49m\u001B[43mnested\u001B[49m\u001B[43m \u001B[49m\u001B[38;5;241;43m+\u001B[39;49m\u001B[43m \u001B[49m\u001B[38;5;241;43m1\u001B[39;49m\u001B[43m,\u001B[49m\n\u001B[1;32m    456\u001B[0m \u001B[43m                       \u001B[49m\u001B[38;5;129;43;01mnot\u001B[39;49;00m\u001B[43m \u001B[49m\u001B[43mnested\u001B[49m\u001B[43m \u001B[49m\u001B[38;5;129;43;01mand\u001B[39;49;00m\u001B[43m \u001B[49m\u001B[38;5;129;43;01mnot\u001B[39;49;00m\u001B[43m \u001B[49m\u001B[43mitems\u001B[49m\u001B[43m)\u001B[49m)\n\u001B[1;32m    457\u001B[0m     \u001B[38;5;28;01mif\u001B[39;00m \u001B[38;5;129;01mnot\u001B[39;00m sourcematch(\u001B[38;5;124m\"\u001B[39m\u001B[38;5;124m|\u001B[39m\u001B[38;5;124m\"\u001B[39m):\n\u001B[1;32m    458\u001B[0m         \u001B[38;5;28;01mbreak\u001B[39;00m\n",
      "File \u001B[0;32m/usr/lib64/python3.11/re/_parser.py:841\u001B[0m, in \u001B[0;36m_parse\u001B[0;34m(source, state, verbose, nested, first)\u001B[0m\n\u001B[1;32m    839\u001B[0m \u001B[38;5;28;01mif\u001B[39;00m flags \u001B[38;5;129;01mis\u001B[39;00m \u001B[38;5;28;01mNone\u001B[39;00m:  \u001B[38;5;66;03m# global flags\u001B[39;00m\n\u001B[1;32m    840\u001B[0m     \u001B[38;5;28;01mif\u001B[39;00m \u001B[38;5;129;01mnot\u001B[39;00m first \u001B[38;5;129;01mor\u001B[39;00m subpattern:\n\u001B[0;32m--> 841\u001B[0m         \u001B[38;5;28;01mraise\u001B[39;00m source\u001B[38;5;241m.\u001B[39merror(\u001B[38;5;124m'\u001B[39m\u001B[38;5;124mglobal flags not at the start \u001B[39m\u001B[38;5;124m'\u001B[39m\n\u001B[1;32m    842\u001B[0m                            \u001B[38;5;124m'\u001B[39m\u001B[38;5;124mof the expression\u001B[39m\u001B[38;5;124m'\u001B[39m,\n\u001B[1;32m    843\u001B[0m                            source\u001B[38;5;241m.\u001B[39mtell() \u001B[38;5;241m-\u001B[39m start)\n\u001B[1;32m    844\u001B[0m     verbose \u001B[38;5;241m=\u001B[39m state\u001B[38;5;241m.\u001B[39mflags \u001B[38;5;241m&\u001B[39m SRE_FLAG_VERBOSE\n\u001B[1;32m    845\u001B[0m     \u001B[38;5;28;01mcontinue\u001B[39;00m\n",
      "\u001B[0;31merror\u001B[0m: global flags not at the start of the expression at position 31"
     ]
    }
   ],
   "source": [
    "# 12-hour format for the time\n",
    "\n",
    "pattern = r'^(1[012]|[1-9]):[0-5][0-9](\\s)?(?i)(am|pm)$'\n",
    "\n",
    "str_true = ('2:00pm', '7:30 AM', '12:05 am', )\n",
    "str_false = ('22:00pm', '14:00', '3:12', '03:12pm', )\n",
    "\n",
    "for t in str_true:\n",
    "    print(re.match(pattern, t))\n",
    "    \n",
    "for t in str_false:\n",
    "    print(re.match(pattern, t))"
   ]
  },
  {
   "cell_type": "code",
   "execution_count": null,
   "id": "6cb81176",
   "metadata": {},
   "outputs": [],
   "source": [
    "# 24-hour format for the time\n",
    "\n",
    "pattern = r'^([0-1]{1}[0-9]{1}|20|21|22|23):[0-5]{1}[0-9]{1}$'\n",
    "str_true = ('14:00', '00:30', '23:34')\n",
    "str_false = ('22:00pm', '4:00', )\n",
    "\n",
    "for t in str_true:\n",
    "    print(re.match(pattern, t))\n",
    "    \n",
    "for t in str_false:\n",
    "    print(re.match(pattern, t))"
   ]
  },
  {
   "cell_type": "code",
   "execution_count": null,
   "id": "2cc93560",
   "metadata": {},
   "outputs": [],
   "source": [
    "text_email = 'The primary email address is john.doe@gmail.com, while the secondary is john.doe@univ.edu.de'\n",
    "pattern = r'\\w+([.-]?\\w+)*@\\w+([.-]?\\w+)*(\\.\\w{2,3})+'\n",
    "\n",
    "print(re.search(pattern, text_email))\n",
    "for t in re.finditer(pattern, text_email):\n",
    "    print(t.group())"
   ]
  },
  {
   "cell_type": "code",
   "execution_count": null,
   "id": "d077e49c",
   "metadata": {},
   "outputs": [],
   "source": []
  },
  {
   "cell_type": "code",
   "execution_count": null,
   "id": "09bac9d5",
   "metadata": {},
   "outputs": [],
   "source": []
  },
  {
   "cell_type": "code",
   "execution_count": null,
   "id": "607f736c",
   "metadata": {},
   "outputs": [],
   "source": [
    "sourcedir = '../spring2023_dom305_webscraping/BuzStd_news_items_2/'\n",
    "file_html1 = sourcedir+'push-for-infrastructure-120010101170_1.html'\n",
    "file1 = open(file_html1,'r')\n",
    "soup1 = BeautifulSoup(file1, \"lxml\")\n",
    "\n",
    "scriptldjson = soup1('script',{'type':'application/ld+json'})\n",
    "\n",
    "jsontextvar = scriptldjson[2].contents[0].replace('\\\\r\\\\n','\\r\\n').encode('utf-8').decode('unicode_escape')\n",
    "loadjsonvar = json.loads(jsontextvar,strict=False)\n",
    "\n",
    "articlebody = loadjsonvar['articleBody']\n",
    "articleauthor = loadjsonvar['author']\n",
    "\n",
    "# print(articleauthor, articlebody)\n",
    "\n",
    "text_article_body = articlebody.strip().replace('\\n','').replace('ldquo','').replace('rdquo','').replace('&;','')\n",
    "print(text_article_body)\n",
    "\n",
    "\n"
   ]
  },
  {
   "cell_type": "code",
   "execution_count": null,
   "id": "ac0c0121",
   "metadata": {},
   "outputs": [],
   "source": [
    "#above example get the amount in Rs\n",
    "print(re.findall(r'Rs\\s\\d+', text_article_body))\n",
    "\n",
    "#get the year\n",
    "print(re.findall(r'\\d{4}', text_article_body))\n",
    "\n",
    "#alternate\n",
    "print(re.findall(r'[1-2][0-9]{3}',text_article_body))"
   ]
  },
  {
   "cell_type": "code",
   "execution_count": null,
   "id": "87f323bc",
   "metadata": {},
   "outputs": [],
   "source": [
    "#how will you get the trillion?\n"
   ]
  },
  {
   "cell_type": "code",
   "execution_count": null,
   "id": "0ac57f5d",
   "metadata": {},
   "outputs": [],
   "source": [
    "sourcedir = '../spring2023_dom305_webscraping/BuzStd_news_items_2/'\n",
    "file_html2 = sourcedir+'surendra-park-hotels-arm-flurys-files-papers-for-rs-1000-crore-ipo-120010101167_1.html'\n",
    "file2 = open(file_html2,'r')\n",
    "soup2 = BeautifulSoup(file2, \"lxml\")\n",
    "\n",
    "scriptldjson = soup2('script',{'type':'application/ld+json'})\n",
    "\n",
    "jsontextvar = scriptldjson[2].contents[0].replace('\\\\r\\\\n','\\r\\n').encode('utf-8').decode('unicode_escape')\n",
    "loadjsonvar = json.loads(jsontextvar,strict=False)\n",
    "\n",
    "articlebody = loadjsonvar['articleBody']\n",
    "articleauthor = loadjsonvar['author']\n",
    "\n",
    "print(articleauthor, articlebody)\n",
    "\n",
    "text_article_body = articlebody.strip().replace('\\n','').replace('ldquo','').replace('rdquo','').replace('&;','')\n",
    "print(text_article_body)\n",
    "\n",
    "\n"
   ]
  },
  {
   "cell_type": "code",
   "execution_count": null,
   "id": "cb8e623d",
   "metadata": {},
   "outputs": [],
   "source": [
    "#Get the amount in crore\n"
   ]
  },
  {
   "cell_type": "code",
   "execution_count": null,
   "id": "20de4178",
   "metadata": {},
   "outputs": [],
   "source": []
  },
  {
   "cell_type": "code",
   "execution_count": null,
   "id": "82ebaa58",
   "metadata": {},
   "outputs": [],
   "source": [
    "text_bs_2 = \"Furthermore, the stability data showed that ZyCoV-D can be stored at 2 to 8 degrees Celsius for the long term and at 25 degrees Celsius for short term (a few months).\"\n",
    "#Can you get the data for the numbers in the text\"\n",
    "\n",
    "#Can you get the data for the range of \"2 to 8 degree\"\n"
   ]
  },
  {
   "cell_type": "code",
   "execution_count": null,
   "id": "b0b6f438",
   "metadata": {},
   "outputs": [],
   "source": [
    "text_bs_3 = \"Oil steadied near $53 a barrel as signs of tightening supplies around the world offset concerns over the pandemic’s latest hit to demand. US industry data pointed to a sharp drop in the nation’s crude stockpiles last week.\"\n",
    "#Get the dollar value with dollar sign"
   ]
  },
  {
   "cell_type": "code",
   "execution_count": null,
   "id": "71e8eb35",
   "metadata": {},
   "outputs": [],
   "source": [
    "text_bs_4 = \"His Budget 1991 was in the backdrop of the forex crisis; Budget 1999 was in the year of the Pokhran blasts; Budget 2000 was at the time of the Kargil war; and Budget 2001 was presented the year a devastating earthquake shook Gujarat on January 26.Sinha’s Budget 2002 also saw the maximum rollbacks; he went back on some five Budget proposals. For example, the Budget proposal of 5% service tax was revised and the service tax was rolled back for the savings\"\n",
    "# Get the years mentioned in the text\n",
    "\n",
    "# Get the date mentioned in the text"
   ]
  },
  {
   "cell_type": "code",
   "execution_count": null,
   "id": "19720de2",
   "metadata": {},
   "outputs": [],
   "source": []
  }
 ],
 "metadata": {
  "kernelspec": {
   "display_name": "Python 3 (ipykernel)",
   "language": "python",
   "name": "python3"
  },
  "language_info": {
   "codemirror_mode": {
    "name": "ipython",
    "version": 3
   },
   "file_extension": ".py",
   "mimetype": "text/x-python",
   "name": "python",
   "nbconvert_exporter": "python",
   "pygments_lexer": "ipython3",
   "version": "3.9.10"
  }
 },
 "nbformat": 4,
 "nbformat_minor": 5
}
