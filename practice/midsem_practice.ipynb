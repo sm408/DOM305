{
 "cells": [
  {
   "cell_type": "code",
   "execution_count": 10,
   "outputs": [
    {
     "name": "stdout",
     "output_type": "stream",
     "text": [
      "dict_items([('stu1', 45), ('stu2', 49)])\n",
      "\n",
      "stu1 45\n",
      "stu2 49\n",
      "\n",
      "stu1 45\n",
      "stu2 49\n"
     ]
    }
   ],
   "source": [
    "#cxreate and print dictionary\n",
    "\n",
    "dictionary_ex = {\"stu1\":45,\"stu2\":49}\n",
    "print(dictionary_ex.items())\n",
    "\n",
    "print(\"\")\n",
    "\n",
    "for keys, values in dictionary_ex.items():\n",
    "    print(keys, values)\n",
    "\n",
    "print(\"\")\n",
    "\n",
    "for keys in dictionary_ex:\n",
    "    print(keys, dictionary_ex[keys])"
   ],
   "metadata": {
    "collapsed": false
   }
  },
  {
   "cell_type": "code",
   "execution_count": 11,
   "metadata": {
    "collapsed": true
   },
   "outputs": [
    {
     "name": "stdout",
     "output_type": "stream",
     "text": [
      "46\n"
     ]
    }
   ],
   "source": [
    "dictionary_ex[\"stu1\"] = 46\n",
    "print(dictionary_ex[\"stu1\"])"
   ]
  },
  {
   "cell_type": "code",
   "execution_count": null,
   "outputs": [],
   "source": [],
   "metadata": {
    "collapsed": false
   }
  }
 ],
 "metadata": {
  "kernelspec": {
   "display_name": "Python 3",
   "language": "python",
   "name": "python3"
  },
  "language_info": {
   "codemirror_mode": {
    "name": "ipython",
    "version": 2
   },
   "file_extension": ".py",
   "mimetype": "text/x-python",
   "name": "python",
   "nbconvert_exporter": "python",
   "pygments_lexer": "ipython2",
   "version": "2.7.6"
  }
 },
 "nbformat": 4,
 "nbformat_minor": 0
}
