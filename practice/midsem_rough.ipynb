{
 "cells": [
  {
   "cell_type": "code",
   "execution_count": 8,
   "metadata": {
    "collapsed": true
   },
   "outputs": [],
   "source": [
    "l1 = [1,2,3]\n",
    "l2 = [\"a\",\"b\",\"c\"]\n",
    "\n",
    "dict_zip = dict(zip(l1,l2))"
   ]
  },
  {
   "cell_type": "code",
   "execution_count": 9,
   "outputs": [
    {
     "ename": "KeyError",
     "evalue": "10",
     "output_type": "error",
     "traceback": [
      "\u001B[0;31m---------------------------------------------------------------------------\u001B[0m",
      "\u001B[0;31mKeyError\u001B[0m                                  Traceback (most recent call last)",
      "Cell \u001B[0;32mIn[9], line 2\u001B[0m\n\u001B[1;32m      1\u001B[0m jersey \u001B[38;5;241m=\u001B[39m {\u001B[38;5;124m\"\u001B[39m\u001B[38;5;124msachin\u001B[39m\u001B[38;5;124m\"\u001B[39m:\u001B[38;5;241m10\u001B[39m, \u001B[38;5;124m\"\u001B[39m\u001B[38;5;124mvirat\u001B[39m\u001B[38;5;124m\"\u001B[39m:\u001B[38;5;241m18\u001B[39m}\n\u001B[0;32m----> 2\u001B[0m \u001B[38;5;28mprint\u001B[39m(\u001B[43mjersey\u001B[49m\u001B[43m[\u001B[49m\u001B[38;5;241;43m10\u001B[39;49m\u001B[43m]\u001B[49m)\n",
      "\u001B[0;31mKeyError\u001B[0m: 10"
     ]
    }
   ],
   "source": [
    "jersey = {\"sachin\":10, \"virat\":18}\n",
    "print(jersey[10])"
   ],
   "metadata": {
    "collapsed": false
   }
  },
  {
   "cell_type": "code",
   "execution_count": 12,
   "outputs": [
    {
     "name": "stdout",
     "output_type": "stream",
     "text": [
      "[1, 2, 3, 4, 5, 6]\n"
     ]
    }
   ],
   "source": [
    "l1 = [1,2,3]\n",
    "l1 = l1 + [4,5,6]\n",
    "print(l1)"
   ],
   "metadata": {
    "collapsed": false
   }
  },
  {
   "cell_type": "code",
   "execution_count": 13,
   "outputs": [
    {
     "name": "stdout",
     "output_type": "stream",
     "text": [
      "3.5\n"
     ]
    }
   ],
   "source": [
    "mean_val = sum(l1)/len(l1)\n",
    "print(mean_val)"
   ],
   "metadata": {
    "collapsed": false
   }
  },
  {
   "cell_type": "code",
   "execution_count": 17,
   "outputs": [
    {
     "ename": "ModuleNotFoundError",
     "evalue": "No module named 'openpyxl'",
     "output_type": "error",
     "traceback": [
      "\u001B[0;31m---------------------------------------------------------------------------\u001B[0m",
      "\u001B[0;31mModuleNotFoundError\u001B[0m                       Traceback (most recent call last)",
      "Cell \u001B[0;32mIn[17], line 1\u001B[0m\n\u001B[0;32m----> 1\u001B[0m \u001B[38;5;28;01mimport\u001B[39;00m \u001B[38;5;21;01mopenpyxl\u001B[39;00m\n",
      "\u001B[0;31mModuleNotFoundError\u001B[0m: No module named 'openpyxl'"
     ]
    }
   ],
   "source": [
    "import openpyxl\n"
   ],
   "metadata": {
    "collapsed": false
   }
  },
  {
   "cell_type": "code",
   "execution_count": 23,
   "outputs": [
    {
     "name": "stdout",
     "output_type": "stream",
     "text": [
      "90\n"
     ]
    }
   ],
   "source": [
    "l1 = [10,23,5,56,78,90]\n",
    "print(l1[-1])"
   ],
   "metadata": {
    "collapsed": false
   }
  },
  {
   "cell_type": "code",
   "execution_count": 26,
   "outputs": [
    {
     "name": "stdout",
     "output_type": "stream",
     "text": [
      "85\n"
     ]
    }
   ],
   "source": [
    "grades = {\"s1\":90,\"s2\":65}\n",
    "grades[\"s1\"] = grades[\"s1\"]-5\n",
    "print(grades[\"s1\"])"
   ],
   "metadata": {
    "collapsed": false
   }
  },
  {
   "cell_type": "code",
   "execution_count": 29,
   "outputs": [
    {
     "name": "stdout",
     "output_type": "stream",
     "text": [
      "{1, 2, 3, 4, 5}\n"
     ]
    }
   ],
   "source": [
    "import Counter from\n",
    "l3 = [1,1,2,3,4,4,4,5]\n",
    "dict_3 = set(l3)\n",
    "print(dict_3)"
   ],
   "metadata": {
    "collapsed": false
   }
  },
  {
   "cell_type": "code",
   "execution_count": 31,
   "outputs": [],
   "source": [
    "jsondata = {\"menu\":{\n",
    "    \"id\":\"file\",\n",
    "    \"value\":\"File\",\n",
    "    \"popup\":{\n",
    "        \"menuitem\":[\n",
    "            {\"value\":\"new\",\"onclick\": \"CreateNewDoc()\"},\n",
    "            {\"value\":\"close\", \"onclick\":\"close()\"}\n",
    "        ]\n",
    "    }\n",
    "}}\n",
    "\n"
   ],
   "metadata": {
    "collapsed": false
   }
  },
  {
   "cell_type": "code",
   "execution_count": 32,
   "outputs": [
    {
     "name": "stdout",
     "output_type": "stream",
     "text": [
      "CreateNewDoc()\n"
     ]
    }
   ],
   "source": [
    "#write a code such that the output is \"CreateNewDoc()\"\n",
    "print(jsondata[\"menu\"][\"popup\"][\"menuitem\"][0][\"onclick\"])"
   ],
   "metadata": {
    "collapsed": false
   }
  },
  {
   "cell_type": "code",
   "execution_count": 35,
   "outputs": [],
   "source": [
    "dict_grades_section = {'A': [25,34,45],'B':[31,24,35],'C':[25,25,35],'D':[35,44,35]}\n",
    "\n",
    "import numpy as np\n",
    "\n",
    "# write a code such that it creates a dictionary with key as section and value as mean and standard deviation of the grades\n",
    "# write a code such that it creates a dictionary with key as section and value as mean and standard deviation of the grades\n",
    "# output should be {'A': [34.0, 8.0], 'B': [30.0, 4.0], 'C': [28.333333333333332, 4.714045207910575], 'D': [38.0, 4.0]}"
   ],
   "metadata": {
    "collapsed": false
   }
  },
  {
   "cell_type": "code",
   "execution_count": 39,
   "outputs": [
    {
     "name": "stdout",
     "output_type": "stream",
     "text": [
      "{'A': [34.666666666666664, 8.178562764256865], 'B': [30.0, 4.546060565661952], 'C': [28.333333333333332, 4.714045207910316], 'D': [38.0, 4.242640687119285]}\n"
     ]
    }
   ],
   "source": [
    "# write a code such that it creates a dictionary with key as section and value as mean and standard deviation of the grades\n",
    "\n",
    "#create the dictionary\n",
    "dict_grades_section = {'A': [25,34,45],'B':[31,24,35],'C':[25,25,35],'D':[35,44,35]}\n",
    "\n",
    "import numpy as np\n",
    "\n",
    "#initialize the output dictionary\n",
    "dictionary_mean_standarddev = {}\n",
    "\n",
    "#iterate over the dictionary\n",
    "for key in dict_grades_section:\n",
    "    #calculate the mean and standard deviation\n",
    "    mean = np.mean(dict_grades_section[key])\n",
    "    std = np.std(dict_grades_section[key])\n",
    "    #add the mean and standard deviation to the output dictionary\n",
    "    mean_dev = [mean,std]\n",
    "    dictionary_mean_standarddev [key] = mean_dev\n",
    "print(dictionary_mean_standarddev )"
   ],
   "metadata": {
    "collapsed": false
   }
  }
 ],
 "metadata": {
  "kernelspec": {
   "display_name": "Python 3",
   "language": "python",
   "name": "python3"
  },
  "language_info": {
   "codemirror_mode": {
    "name": "ipython",
    "version": 2
   },
   "file_extension": ".py",
   "mimetype": "text/x-python",
   "name": "python",
   "nbconvert_exporter": "python",
   "pygments_lexer": "ipython2",
   "version": "2.7.6"
  }
 },
 "nbformat": 4,
 "nbformat_minor": 0
}
