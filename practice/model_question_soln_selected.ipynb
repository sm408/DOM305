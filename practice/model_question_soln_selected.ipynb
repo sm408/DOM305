{
 "cells": [
  {
   "cell_type": "code",
   "execution_count": null,
   "id": "53495c36",
   "metadata": {},
   "outputs": [],
   "source": [
    "\"\"\"\n",
    "Question 8\n",
    "\n",
    "Method 1\n",
    "you can save the xml as a string as below\n",
    "\"\"\"\n",
    "from collections import defaultdict \n",
    "import xml.etree.ElementTree as ET\n",
    "\n",
    "xstr = '<?xml version=\"1.0\"?><data><country name=\"Liechtenstein\"><rank>1</rank><year>2008</year><gdppc>141100</gdppc><neighbor name=\"Austria\" direction=\"E\"/><neighbor name=\"Switzerland\" direction=\"W\"/></country><country name=\"Singapore\"><rank>4</rank><year>2011</year><gdppc>59900</gdppc><neighbor name=\"Malaysia\" direction=\"N\"/></country><country name=\"Panama\"><rank>68</rank><year>2011</year><gdppc>13600</gdppc><neighbor name=\"Costa Rica\" direction=\"W\"/><neighbor name=\"Colombia\" direction=\"E\"/></country></data>'\n",
    "\n",
    "root = ET.fromstring(xstr)\n",
    "dict_country_neigh = defaultdict(list)\n",
    "for item in root.findall(\"./country\") :\n",
    "    countrydict = item.attrib\n",
    "    \n",
    "    print(\"country\", countrydict['name'])\n",
    "    for neigh in item.findall(\"neighbor\"):\n",
    "        neighdict = neigh.attrib\n",
    "        print(\"neighbors\", neigh.tag, neighdict['name'])\n",
    "        dict_country_neigh[countrydict['name']].append(neighdict['name'])\n",
    "\n",
    "print(dict_country_neigh)\n"
   ]
  },
  {
   "cell_type": "code",
   "execution_count": 1,
   "id": "8a175ef3",
   "metadata": {},
   "outputs": [
    {
     "data": {
      "text/plain": "'\\nMethod 2\\nYou can save the xml in a xml file and used ET.parse()\\n'"
     },
     "execution_count": 1,
     "metadata": {},
     "output_type": "execute_result"
    }
   ],
   "source": [
    "\"\"\"\n",
    "Method 2\n",
    "You can save the xml in a xml file and used ET.parse()\n",
    "\"\"\""
   ]
  },
  {
   "cell_type": "code",
   "execution_count": null,
   "outputs": [],
   "source": [],
   "metadata": {
    "collapsed": false
   }
  }
 ],
 "metadata": {
  "kernelspec": {
   "display_name": "Python 3 (ipykernel)",
   "language": "python",
   "name": "python3"
  },
  "language_info": {
   "codemirror_mode": {
    "name": "ipython",
    "version": 3
   },
   "file_extension": ".py",
   "mimetype": "text/x-python",
   "name": "python",
   "nbconvert_exporter": "python",
   "pygments_lexer": "ipython3",
   "version": "3.9.10"
  }
 },
 "nbformat": 4,
 "nbformat_minor": 5
}
