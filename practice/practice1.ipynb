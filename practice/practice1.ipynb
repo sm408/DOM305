{
 "cells": [
  {
   "cell_type": "code",
   "execution_count": 1,
   "metadata": {
    "collapsed": true
   },
   "outputs": [],
   "source": [
    "import json\n",
    "import pandas as pd\n",
    "import numpy as np\n",
    "import glob\n",
    "from _collections import defaultdict"
   ]
  },
  {
   "cell_type": "code",
   "execution_count": 4,
   "outputs": [
    {
     "name": "stdout",
     "output_type": "stream",
     "text": [
      "['Sr. No', 'Indicator', 'Source', 'Periodicity/ Latest available data', 'Andhra Pradesh', 'Arunachal Pradesh', 'Assam', 'Bihar', 'Chhattisgarh', 'Delhi', 'Goa', 'Gujarat', 'Haryana', 'Himachal Pradesh', 'Jammu and Kashmir', 'Jharkhand', 'Karnataka', 'Kerala', 'Madhya Pradesh', 'Maharashtra', 'Manipur', 'Meghalaya', 'Mizoram', 'Nagaland', 'Odisha', 'Punjab', 'Rajasthan', 'Sikkim', 'Tamil Nadu', 'Tripura', 'Uttar Pradesh', 'Uttarakhand', 'West Bengal']\n"
     ]
    }
   ],
   "source": [
    "file_read = \"per_capita_spend.csv\"\n",
    "\n",
    "df = pd.read_csv(file_read)\n",
    "\n",
    "list_header = list(df.columns.values)\n",
    "\n",
    "print(list_header)"
   ],
   "metadata": {
    "collapsed": false
   }
  },
  {
   "cell_type": "code",
   "execution_count": 5,
   "outputs": [
    {
     "name": "stdout",
     "output_type": "stream",
     "text": [
      "    Sr. No                                          Indicator  Uttar Pradesh\n",
      "0     1.00            Per Capita NSDP at 2004-05 prices (Rs.)             28\n",
      "1     2.00    Growth in Per Capita NSDP at 2004-05 prices (%)             20\n",
      "2     2.10                          Growth rate in GSDP-Total             16\n",
      "3     2.20                    Growth rate in GSDP-Agriculture              9\n",
      "4     2.30                       Growth rate in GSDP-Industry             22\n",
      "5     2.40                       Growth rate in GSDP-services             13\n",
      "6     3.00                                     Area (Sq. Km.)              5\n",
      "7     4.00                                Population (number)              1\n",
      "8     5.00                   Population Density (Per Sq. Km.)              5\n",
      "9     6.00  Decadal Growth Rate of Population (2001-2011) (%)             11\n",
      "10    7.00                    Sex Ratio (Females/ 1000 Males)             24\n",
      "11    8.00  Sex Ratio (0-6 years) (Female children/ 1000 m...             21\n",
      "12    9.00                            Total Literacy Rate (%)             23\n",
      "13    9.10                                           Male (%)             22\n",
      "14    9.20                                         Female (%)             25\n",
      "15   10.00                         Gender Gap in Literacy (%)             23\n",
      "16   11.00  Infant Mortality Rate (IMR) (per 1000 live bir...             26\n",
      "17   12.00  Maternal Mortality Rate (MMR) (per 100000 live...             16\n",
      "18   13.00          Total Fertility Rate (TFR) (Birth/ woman)             19\n",
      "19   14.00  Neo Natal Mortality Rate (NMR) (per 1000 live ...             18\n",
      "20   15.00  Under 5 Mortality Rate (U-5MR) (per 1000 live ...             17\n",
      "21   16.00                                     Birth Rate (%)             28\n",
      "22   17.00                                     Death Rate (%)             25\n",
      "23   18.00                           Highway Length per sq km             13\n",
      "24   19.00                           State Highways per sq km             20\n",
      "25   20.00        Per Capita Consumption of Electricity (kWh)             24\n",
      "26   21.00            Total Rail Route (km) per sq km of area              8\n",
      "27   22.00                             Rural Tele Density (%)             23\n",
      "28   23.00                             Urban Tele Density (%)             22\n",
      "29   24.00    Unemployment Rate (Usual Status (adjusted)) (%)              7\n",
      "30   25.10                    Dropout Rate: Primary Level (%)             22\n",
      "31   25.20              Dropout Rate: Upper Primary Level (%)             15\n",
      "32   26.11           Gross Enrolment Ratio: Primary Level (%)              3\n",
      "33   26.12             Net Enrolment Ratio: Primary Level (%)             13\n",
      "34   26.21     Gross Enrolment Ratio: Upper Primary Level (%)              2\n",
      "35   26.22       Net Enrolment Ratio: Upper Primary Level (%)              2\n",
      "36   27.00                Household availing banking services             23\n",
      "37   28.00   Households with latrine facility within premises              7\n",
      "38   29.00  Safe Drinking Water (Tap/Handpump/Tubewell) (%...             28\n",
      "39   30.10                      Forest Cover (area in sq.Km.)              8\n",
      "40   30.20              Forest Cover (% of geographical area)              4\n"
     ]
    }
   ],
   "source": [
    "print(df[[\"Sr. No\", \"Indicator\",\"Uttar Pradesh\"]])"
   ],
   "metadata": {
    "collapsed": false
   }
  },
  {
   "cell_type": "code",
   "execution_count": null,
   "outputs": [],
   "source": [
    "for index, data in df.iterrows():\n",
    "    sta"
   ],
   "metadata": {
    "collapsed": false
   }
  }
 ],
 "metadata": {
  "kernelspec": {
   "display_name": "Python 3",
   "language": "python",
   "name": "python3"
  },
  "language_info": {
   "codemirror_mode": {
    "name": "ipython",
    "version": 2
   },
   "file_extension": ".py",
   "mimetype": "text/x-python",
   "name": "python",
   "nbconvert_exporter": "python",
   "pygments_lexer": "ipython2",
   "version": "2.7.6"
  }
 },
 "nbformat": 4,
 "nbformat_minor": 0
}
