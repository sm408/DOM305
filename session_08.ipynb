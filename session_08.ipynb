{
 "cells": [
  {
   "cell_type": "code",
   "execution_count": null,
   "metadata": {
    "collapsed": true
   },
   "outputs": [],
   "source": [
    "import pandas as pd\n",
    "import numpy as np\n",
    "import glob\n",
    "from _collections import defaultdict"
   ]
  },
  {
   "cell_type": "code",
   "execution_count": null,
   "outputs": [],
   "source": [
    "\"\"\"\n",
    "Reading multiple files using glob module\n",
    "\"\"\"\n",
    "\n",
    "filelist = glob.glob(\"csv_for_glob/*.csv\")\n",
    "filelist.sort()\n",
    "print(filelist)"
   ],
   "metadata": {
    "collapsed": false
   }
  },
  {
   "cell_type": "code",
   "execution_count": null,
   "outputs": [],
   "source": [
    "dict_states_headers  = defaultdict(lambda : defaultdict(list))\n",
    "\n",
    "\n",
    "for files in filelist:\n",
    "    df = pd.read_csv(files)\n",
    "    for index, data in df[1:].iterrows():\n",
    "        states_ut = data['State/UTs']\n",
    "        value_agri = data['Agriculture and Allied Activities']\n",
    "        value_rural = data['Rural Development']\n",
    "        value_energy = data['Energy']\n",
    "        value_transport = data['Transport']\n",
    "        value_genecon = data['General Economic Services']\n",
    "\n",
    "        dict_states_headers[states_ut]['Agriculture and Allied Activities'].append(value_agri)\n",
    "        dict_states_headers[states_ut]['Rural Development'].append(value_rural)\n",
    "        dict_states_headers[states_ut]['Energy'].append(value_energy)\n",
    "        dict_states_headers[states_ut]['Transport'].append(value_transport)\n",
    "        dict_states_headers[states_ut]['General Economic Survey'].append(value_genecon)\n",
    "        # print(data['State/UTs'], data['Agriculture and Allied Activities'])\n",
    "\n",
    "print(dict_states_headers)"
   ],
   "metadata": {
    "collapsed": false
   }
  },
  {
   "cell_type": "code",
   "execution_count": null,
   "outputs": [],
   "source": [
    "print(filelist[0])\n",
    "\n",
    "df0 = pd.read_csv(filelist[0])\n",
    "list_headers = list(df0.columns)\n",
    "print(list_headers)\n",
    "\n",
    "\n",
    "list_data_header = list_headers[1:-1]\n",
    "print(list_data_header)"
   ],
   "metadata": {
    "collapsed": false
   }
  },
  {
   "cell_type": "code",
   "execution_count": null,
   "outputs": [],
   "source": [
    "for i in range (0, len(list_data_header),1):\n",
    "    print(i,list_data_header[i])"
   ],
   "metadata": {
    "collapsed": false
   }
  },
  {
   "cell_type": "markdown",
   "source": [
    "Json.dumps just makes a string out of the dictionary in json format\n",
    "while json.dump dums the dat ain a file in json format"
   ],
   "metadata": {
    "collapsed": false
   }
  },
  {
   "cell_type": "code",
   "execution_count": null,
   "outputs": [],
   "source": [
    "import json\n",
    "\n",
    "# creating a json string\n",
    "\n",
    "json_str_dict_states = json.dumps(dict_states_headers)\n",
    "#json.dumps is for formatted json string\n",
    "print(json_str_dict_states)"
   ],
   "metadata": {
    "collapsed": false
   }
  },
  {
   "cell_type": "code",
   "execution_count": null,
   "outputs": [],
   "source": [
    "# saving data in a json file\n",
    "\n",
    "jsonoutfile = \"jsonexamples/example_dict_json_01.json\"\n",
    "with open(jsonoutfile,\"w\") as write_file:\n",
    "    json.dump(dict_states_headers,write_file)"
   ],
   "metadata": {
    "collapsed": false
   }
  },
  {
   "cell_type": "code",
   "execution_count": 10,
   "outputs": [
    {
     "name": "stdout",
     "output_type": "stream",
     "text": [
      "   S.No - Col.1 Name of State/UT - Col.2  Total Length (Col. 6+7) - Col.3  \\\n",
      "0             1           Andhra Pradesh                            118.0   \n",
      "1             2        Arunachal Pradesh                              NaN   \n",
      "2             3                    Assam                            113.0   \n",
      "3             4                   Bihar                             529.0   \n",
      "4             5             Chhattisgarh                            169.0   \n",
      "5             6                      Goa                              0.0   \n",
      "6             7                 Gujarat                             462.0   \n",
      "7             8                 Haryana                             131.0   \n",
      "8             9        Himachal Pradesh                              99.0   \n",
      "9            10          Jammu & Kashmir                              0.0   \n",
      "10           11                Jharkhand                            181.0   \n",
      "11           12                Karnataka                           1441.0   \n",
      "12           13                  Kerala                             252.0   \n",
      "13           14          Madhya Pradesh                             797.0   \n",
      "14           15              Maharashtra                            343.0   \n",
      "15           16                  Manipur                              0.0   \n",
      "16           17                Meghalaya                            132.0   \n",
      "17           18                 Mizoram                             134.0   \n",
      "18           19                 Nagaland                              0.0   \n",
      "19           20                   Odisha                             70.0   \n",
      "20           21                   Punjab                            449.0   \n",
      "21           22                Rajasthan                            388.0   \n",
      "22           23                   Sikkim                              0.0   \n",
      "23           24              Tamil Nadu                             844.0   \n",
      "24           25                Telangana                            126.0   \n",
      "25           26                  Tripura                              0.0   \n",
      "26           27              Uttarakhand                            165.0   \n",
      "27           28           Uttar Pradesh                              24.0   \n",
      "28           29              West Bengal                            216.0   \n",
      "29           30            A & N Islands                              0.0   \n",
      "30           31            UT Chandigarh                              0.0   \n",
      "31           32     Dadra & Nagar Haveli                              0.0   \n",
      "32           33              Daman & Diu                              0.0   \n",
      "33           34                    Delhi                             52.0   \n",
      "34           35              Lakshadweep                              0.0   \n",
      "35           36               Puducherry                              0.0   \n",
      "\n",
      "    Surfaced - W.B.M. - Col.4  Surfaced - B.T./C.C - Col.5  \\\n",
      "0                        34.0                         81.0   \n",
      "1                         NaN                          NaN   \n",
      "2                        21.0                         77.0   \n",
      "3                       148.0                        360.0   \n",
      "4                        27.0                        140.0   \n",
      "5                         0.0                          0.0   \n",
      "6                       235.0                        213.0   \n",
      "7                         9.0                        122.0   \n",
      "8                        35.0                         40.0   \n",
      "9                         0.0                          0.0   \n",
      "10                       26.0                        153.0   \n",
      "11                      132.0                       1284.0   \n",
      "12                       47.0                        186.0   \n",
      "13                      302.0                        440.0   \n",
      "14                      183.0                        124.0   \n",
      "15                        0.0                          0.0   \n",
      "16                        6.0                        111.0   \n",
      "17                        3.0                         21.0   \n",
      "18                        0.0                          0.0   \n",
      "19                       37.0                         31.0   \n",
      "20                       28.0                        393.0   \n",
      "21                       11.0                        375.0   \n",
      "22                        0.0                          0.0   \n",
      "23                      165.0                        616.0   \n",
      "24                       22.0                        104.0   \n",
      "25                        0.0                          0.0   \n",
      "26                        4.0                        145.0   \n",
      "27                        0.0                         19.0   \n",
      "28                        8.0                        161.0   \n",
      "29                        0.0                          0.0   \n",
      "30                        0.0                          0.0   \n",
      "31                        0.0                          0.0   \n",
      "32                        0.0                          0.0   \n",
      "33                        1.0                         51.0   \n",
      "34                        0.0                          0.0   \n",
      "35                        0.0                          0.0   \n",
      "\n",
      "    Surfaced - Total (Col. 4+5) - Col.6  Unsurfaced - Col.7  \n",
      "0                                 115.0                 3.0  \n",
      "1                                   NaN                 NaN  \n",
      "2                                  98.0                15.0  \n",
      "3                                 508.0                21.0  \n",
      "4                                 167.0                 2.0  \n",
      "5                                   0.0                 0.0  \n",
      "6                                 448.0                14.0  \n",
      "7                                 131.0                 0.0  \n",
      "8                                  75.0                24.0  \n",
      "9                                   0.0                 0.0  \n",
      "10                                179.0                 2.0  \n",
      "11                               1416.0                24.0  \n",
      "12                                233.0                19.0  \n",
      "13                                742.0                55.0  \n",
      "14                                307.0                36.0  \n",
      "15                                  0.0                 0.0  \n",
      "16                                117.0                15.0  \n",
      "17                                 24.0               110.0  \n",
      "18                                  0.0                 0.0  \n",
      "19                                 68.0                 2.0  \n",
      "20                                421.0                28.0  \n",
      "21                                386.0                 2.0  \n",
      "22                                  0.0                 0.0  \n",
      "23                                781.0                63.0  \n",
      "24                                126.0                 0.0  \n",
      "25                                  0.0                 0.0  \n",
      "26                                149.0                15.0  \n",
      "27                                 19.0                 5.0  \n",
      "28                                169.0                47.0  \n",
      "29                                  0.0                 0.0  \n",
      "30                                  0.0                 0.0  \n",
      "31                                  0.0                 0.0  \n",
      "32                                  0.0                 0.0  \n",
      "33                                 52.0                 0.0  \n",
      "34                                  0.0                 0.0  \n",
      "35                                  0.0                 0.0  \n"
     ]
    }
   ],
   "source": [
    "df4 = pd.read_csv(\"other_files/Road_Transport_BRS_2017-18_AnnexureElect7_5.csv\")\n",
    "\n",
    "#print df4 except the last row\n",
    "print(df4[:-1])"
   ],
   "metadata": {
    "collapsed": false
   }
  }
 ],
 "metadata": {
  "kernelspec": {
   "display_name": "Python 3",
   "language": "python",
   "name": "python3"
  },
  "language_info": {
   "codemirror_mode": {
    "name": "ipython",
    "version": 2
   },
   "file_extension": ".py",
   "mimetype": "text/x-python",
   "name": "python",
   "nbconvert_exporter": "python",
   "pygments_lexer": "ipython2",
   "version": "2.7.6"
  }
 },
 "nbformat": 4,
 "nbformat_minor": 0
}
