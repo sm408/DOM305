{
 "cells": [
  {
   "cell_type": "code",
   "execution_count": null,
   "metadata": {
    "collapsed": true
   },
   "outputs": [],
   "source": [
    "import pandas as pd\n",
    "import numpy as np\n",
    "import glob\n",
    "from _collections import defaultdict"
   ]
  },
  {
   "cell_type": "code",
   "execution_count": null,
   "outputs": [],
   "source": [
    "\"\"\"\n",
    "Reading multiple files using glob module\n",
    "\"\"\"\n",
    "\n",
    "filelist = glob.glob(\"csv_for_glob/*.csv\")\n",
    "filelist.sort()\n",
    "print(filelist)"
   ],
   "metadata": {
    "collapsed": false
   }
  },
  {
   "cell_type": "code",
   "execution_count": null,
   "outputs": [],
   "source": [
    "dict_states_headers  = defaultdict(lambda : defaultdict(list))\n",
    "\n",
    "\n",
    "for files in filelist:\n",
    "    df = pd.read_csv(files)\n",
    "    for index, data in df[1:].iterrows():\n",
    "        states_ut = data['State/UTs']\n",
    "        value_agri = data['Agriculture and Allied Activities']\n",
    "        value_rural = data['Rural Development']\n",
    "        value_energy = data['Energy']\n",
    "        value_transport = data['Transport']\n",
    "        value_genecon = data['General Economic Services']\n",
    "\n",
    "        dict_states_headers[states_ut]['Agriculture and Allied Activities'].append(value_agri)\n",
    "        dict_states_headers[states_ut]['Rural Development'].append(value_rural)\n",
    "        dict_states_headers[states_ut]['Energy'].append(value_energy)\n",
    "        dict_states_headers[states_ut]['Transport'].append(value_transport)\n",
    "        dict_states_headers[states_ut]['General Economic Survey'].append(value_genecon)\n",
    "        # print(data['State/UTs'], data['Agriculture and Allied Activities'])\n",
    "\n",
    "print(dict_states_headers)"
   ],
   "metadata": {
    "collapsed": false
   }
  },
  {
   "cell_type": "code",
   "execution_count": null,
   "outputs": [],
   "source": [
    "print(filelist[0])\n",
    "\n",
    "df0 = pd.read_csv(filelist[0])\n",
    "list_headers = list(df0.columns)\n",
    "print(list_headers)\n",
    "\n",
    "\n",
    "list_data_header = list_headers[1:-1]\n",
    "print(list_data_header)"
   ],
   "metadata": {
    "collapsed": false
   }
  },
  {
   "cell_type": "code",
   "execution_count": null,
   "outputs": [],
   "source": [
    "for i in range (0, len(list_data_header),1):\n",
    "    print(i,list_data_header[i])"
   ],
   "metadata": {
    "collapsed": false
   }
  },
  {
   "cell_type": "markdown",
   "source": [
    "Json.dumps just makes a string out of the dictionary in json format\n",
    "while json.dump dums the dat ain a file in json format"
   ],
   "metadata": {
    "collapsed": false
   }
  },
  {
   "cell_type": "code",
   "execution_count": null,
   "outputs": [],
   "source": [
    "import json\n",
    "\n",
    "# creating a json string\n",
    "\n",
    "json_str_dict_states = json.dumps(dict_states_headers)\n",
    "#json.dumps is for formatted json string\n",
    "print(json_str_dict_states)"
   ],
   "metadata": {
    "collapsed": false
   }
  },
  {
   "cell_type": "code",
   "execution_count": null,
   "outputs": [],
   "source": [
    "# saving data in a json file\n",
    "\n",
    "jsonoutfile = \"jsonexamples/example_dict_json_01.json\"\n",
    "with open(jsonoutfile,\"w\") as write_file:\n",
    "    json.dump(dict_states_headers,write_file)"
   ],
   "metadata": {
    "collapsed": false
   }
  },
  {
   "cell_type": "code",
   "execution_count": null,
   "outputs": [],
   "source": [
    "df4 = pd.read_csv(\"other_files/Road_Transport_BRS_2017-18_AnnexureElect7_5.csv\")\n",
    "\n",
    "#print df4 except the last row\n",
    "print(df4[:-1])"
   ],
   "metadata": {
    "collapsed": false
   }
  }
 ],
 "metadata": {
  "kernelspec": {
   "display_name": "Python 3",
   "language": "python",
   "name": "python3"
  },
  "language_info": {
   "codemirror_mode": {
    "name": "ipython",
    "version": 2
   },
   "file_extension": ".py",
   "mimetype": "text/x-python",
   "name": "python",
   "nbconvert_exporter": "python",
   "pygments_lexer": "ipython2",
   "version": "2.7.6"
  }
 },
 "nbformat": 4,
 "nbformat_minor": 0
}
