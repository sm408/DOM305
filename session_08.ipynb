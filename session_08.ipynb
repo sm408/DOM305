{
 "cells": [
  {
   "cell_type": "markdown",
   "source": [
    "glob\n",
    "json dump, dumps\n"
   ],
   "metadata": {
    "collapsed": false
   }
  },
  {
   "cell_type": "code",
   "execution_count": 1,
   "metadata": {
    "collapsed": true
   },
   "outputs": [],
   "source": [
    "import pandas as pd\n",
    "import numpy as np\n",
    "import glob\n",
    "from _collections import defaultdict"
   ]
  },
  {
   "cell_type": "code",
   "execution_count": 2,
   "outputs": [
    {
     "name": "stdout",
     "output_type": "stream",
     "text": [
      "['csv_for_glob/Tab_7.3.1_outlay_expenditure.csv', 'csv_for_glob/Tab_7.3.3_outlay_expenditure.csv', 'csv_for_glob/Tab_7.3.4_outlay_expenditure.csv', 'csv_for_glob/Tab_7.3.5_outlay_expenditure.csv', 'csv_for_glob/Tab_7.3.6_outlay_expenditure.csv']\n"
     ]
    }
   ],
   "source": [
    "\"\"\"\n",
    "Reading multiple files using glob module\n",
    "\"\"\"\n",
    "\n",
    "filelist = glob.glob(\"csv_for_glob/*.csv\")\n",
    "filelist.sort()\n",
    "print(filelist)"
   ],
   "metadata": {
    "collapsed": false
   }
  },
  {
   "cell_type": "code",
   "execution_count": 3,
   "outputs": [
    {
     "name": "stdout",
     "output_type": "stream",
     "text": [
      "defaultdict(<function <lambda> at 0x7fb399ddd6c0>, {'Andhra Pradesh': defaultdict(<class 'list'>, {'Agriculture and Allied Activities': [85717.39, 153162.84, 185351.0, 204495.0, 269509.01], 'Rural Development': [144803.51, 308775.47, 403519.0, 424308.0, 549662.55], 'Energy': [4649.83, 3026.13, 53104.0, 65593.0, 41541.8], 'Transport': [168905.12, 210171.95, 194871.0, 292865.0, 364506.0], 'General Economic Survey': [122857.89, 89672.88, 38541.0, 123043.0, 157093.38]}), 'Arunachal Pradesh': defaultdict(<class 'list'>, {'Agriculture and Allied Activities': [8926.24, 8078.0, 11195.0, 8660.0, 10023.6], 'Rural Development': [2446.84, 4151.0, 7859.0, 3439.0, 2674.95], 'Energy': [11883.52, 35971.0, 32057.0, 22464.0, 23299.1], 'Transport': [23407.55, 54360.0, 73653.0, 25240.0, 39413.35], 'General Economic Survey': [10088.77, 8057.0, 13388.0, 180541.0, 168471.11]}), 'Assam': defaultdict(<class 'list'>, {'Agriculture and Allied Activities': [12290.03, 41022.89, 56587.0, 69692.0, 81523.05], 'Rural Development': [20696.55, 39688.65, 83846.0, 82328.0, 88872.0], 'Energy': [35455.0, 16507.03, 23362.0, 43925.0, 34864.3], 'Transport': [29634.74, 49101.84, 52017.0, 85265.0, 109687.9], 'General Economic Survey': [29414.72, 27601.58, 17379.0, 22545.0, 37103.59]}), 'Bihar': defaultdict(<class 'list'>, {'Agriculture and Allied Activities': [30990.14, 62766.22, 124030.0, 222369.0, 192405.03], 'Rural Development': [65270.77, 93570.84, 80398.0, 93068.0, 117250.2], 'Energy': [27043.83, 84994.34, 160877.0, 82578.0, 186786.6], 'Transport': [334600.29, 368951.74, 493279.0, 484428.0, 535370.69], 'General Economic Survey': [17205.95, 18048.66, 34710.0, 72077.0, 181608.07]}), 'Chhattisgarh': defaultdict(<class 'list'>, {'Agriculture and Allied Activities': [24030.6], 'Rural Development': [45313.72], 'Energy': [11132.83], 'Transport': [134366.96], 'General Economic Survey': [25263.22]}), 'Goa': defaultdict(<class 'list'>, {'Agriculture and Allied Activities': [4633.35, 6167.91, 7275.0, 14462.0, 20408.25], 'Rural Development': [2442.92, 4652.07, 5054.0, 12653.0, 12861.2], 'Energy': [13033.16, 20122.36, 19154.0, 20330.0, 30280.0], 'Transport': [14030.24, 26231.43, 36059.0, 36469.0, 39608.76], 'General Economic Survey': [3136.06, 25118.29, 13418.0, 10332.0, 35304.33]}), 'Gujarat': defaultdict(<class 'list'>, {'Agriculture and Allied Activities': [89057.06, 175735.16, 207535.0, 257797.0, 307557.71], 'Rural Development': [47021.53, 58013.45, 108544.0, 155711.0, 146725.7], 'Energy': [60772.32, 96327.46, 334328.0, 201901.0, 379036.0], 'Transport': [118304.14, 264493.0, 342587.0, 371077.0, 501646.0], 'General Economic Survey': [35313.69, 59032.32, 85989.0, 154027.0, 164787.76]}), 'Haryana': defaultdict(<class 'list'>, {'Agriculture and Allied Activities': [10608.39, 36684.5, 56100.0, 88834.0, 78794.0], 'Rural Development': [36711.57, 59221.9, 69397.0, 94162.0, 107017.0], 'Energy': [85714.51, 103227.11, 96865.0, 115836.0, 135910.0], 'Transport': [53359.11, 130984.1, 104178.0, 124233.0, 146594.0], 'General Economic Survey': [5153.02, 30122.16, 17120.0, 25439.0, 32590.0]}), 'Himachal Pradesh': defaultdict(<class 'list'>, {'Agriculture and Allied Activities': [11389.06, 24380.0, 33115.0, 29840.0, 35618.0], 'Rural Development': [8513.89, 14755.0, 16800.0, 23790.0, 17191.0], 'Energy': [11005.24, 21774.0, 32594.0, 46160.0, 53192.0], 'Transport': [35584.13, 65709.0, 53700.0, 62190.0, 73693.0], 'General Economic Survey': [7722.51, 9299.0, 8863.0, 7217.0, 9365.0]}), 'Jammu and Kashmir': defaultdict(<class 'list'>, {'Agriculture and Allied Activities': [7727.2, 16381.08, 18945.0, 21788.0, 23267.28], 'Rural Development': [12699.25, 10079.62, 12660.0, 13302.0, 5806.84], 'Energy': [66907.94, 51022.24, 50654.0, 47800.0, 45407.97], 'Transport': [88555.23, 98885.72, 112238.0, 81941.0, 58867.14], 'General Economic Survey': [30941.75, 27662.31, 29089.0, 100031.0, 103857.9]}), 'Jharkhand': defaultdict(<class 'list'>, {'Agriculture and Allied Activities': [24185.33, 25157.0, 41619.0, 64938.0, 65743.0], 'Rural Development': [96414.37, 107502.0, 125171.0, 173645.0, 170769.0], 'Energy': [47685.0, 53190.0, 35968.0, 40000.0, 117800.0], 'Transport': [46542.0, 92443.0, 98949.0, 147500.0, 217500.0], 'General Economic Survey': [7091.3, 22339.0, 55245.0, 126236.0, 159763.34]}), 'Karnataka': defaultdict(<class 'list'>, {'Agriculture and Allied Activities': [141505.12, 169160.63, 209273.0, 365306.0, 378552.0], 'Rural Development': [103548.22, 104125.72, 113873.0, 144992.0, 143265.0], 'Energy': [205071.72, 355283.49, 305772.0, 440658.0, 482255.0], 'Transport': [267477.98, 304739.25, 370430.0, 427154.0, 448555.0], 'General Economic Survey': [47417.23, 71786.19, 96042.0, 106680.0, 104832.0]}), 'Kerala': defaultdict(<class 'list'>, {'Agriculture and Allied Activities': [20463.63, 48136.9, 58150.0, 96263.0, 123641.0], 'Rural Development': [20675.65, 32221.65, 37583.0, 46127.0, 44287.0], 'Energy': [54795.56, 73363.44, 65895.0, 112300.0, 116541.0], 'Transport': [69402.07, 111521.15, 152873.0, 113439.0, 119581.0], 'General Economic Survey': [18328.54, 38761.21, 27332.0, 33775.0, 27656.0]}), 'Madhya Pradesh': defaultdict(<class 'list'>, {'Agriculture and Allied Activities': [61908.22, 96268.17, 171968.0, 178121.0, 206606.17], 'Rural Development': [133911.42, 117860.81, 146715.0, 195493.0, 194596.24], 'Energy': [118594.36, 157311.5, 176710.0, 198791.0, 274987.11], 'Transport': [202023.86, 211724.97, 260895.0, 254196.0, 361034.01], 'General Economic Survey': [31147.49, 35241.29, 34903.0, 70203.0, 60241.11]}), 'Maharashtra': defaultdict(<class 'list'>, {'Agriculture and Allied Activities': [130299.0, 189245.0, 222617.0, 255027.0, 286962.0], 'Rural Development': [91929.0, 78394.0, 75568.0, 118238.0, 150356.0], 'Energy': [139820.0, 227938.0, 231433.0, 304636.0, 306254.0], 'Transport': [176125.0, 390790.0, 356586.0, 477549.0, 557549.0], 'General Economic Survey': [49043.0, 56653.0, 52424.0, 73888.0, 73199.0]}), 'Manipur': defaultdict(<class 'list'>, {'Agriculture and Allied Activities': [2259.31, 4381.45, 6216.0, 6640.0, 10358.36], 'Rural Development': [3740.27, 5616.12, 5409.0, 6222.0, 16041.0], 'Energy': [14244.08, 14976.21, 13495.0, 17131.0, 13550.0], 'Transport': [2512.0, 11981.17, 11586.0, 23983.0, 6206.0], 'General Economic Survey': [51470.61, 65539.0, 6811.0, 56836.0, 121952.92]}), 'Meghalaya': defaultdict(<class 'list'>, {'Agriculture and Allied Activities': [7430.17, 14006.07, 27278.0, 25180.0, 42750.0], 'Rural Development': [9386.11, 10672.46, 15739.0, 21146.0, 16601.0], 'Energy': [23418.31, 31365.4, 51560.0, 56632.0, 51780.0], 'Transport': [16237.36, 21192.96, 25791.0, 30004.0, 47356.0], 'General Economic Survey': [2449.1, 2533.17, 12360.0, 24203.0, 44596.0]}), 'Mizoram': defaultdict(<class 'list'>, {'Agriculture and Allied Activities': [5844.98, 5746.74, 6099.0, 34539.0, 44547.47], 'Rural Development': [4705.26, 3128.33, 3956.0, 3336.0, 4929.03], 'Energy': [6756.11, 10161.73, 7359.0, 9086.0, 9709.14], 'Transport': [13371.94, 7415.99, 13318.0, 9320.0, 33522.6], 'General Economic Survey': [3450.94, 6626.87, 7993.0, 8293.0, 18149.4]}), 'Nagaland': defaultdict(<class 'list'>, {'Agriculture and Allied Activities': [7105.67, 11149.13, 13799.0, 18473.0, 21733.0], 'Rural Development': [7191.74, 11936.3, 11236.0, 6496.0, 3849.0], 'Energy': [4277.21, 8092.0, 5869.0, 8106.0, 11210.0], 'Transport': [7399.85, 16068.8, 12798.0, 21152.0, 32484.0], 'General Economic Survey': [4975.52, 10063.06, 14228.0, 19022.0, 37876.0]}), 'Orissa': defaultdict(<class 'list'>, {'Agriculture and Allied Activities': [17618.17, 37805.2, 71158.0, 114663.0], 'Rural Development': [13735.98, 17739.0, 27690.0, 31806.0], 'Energy': [32989.63, 24557.5, 68393.0, 68840.0], 'Transport': [40813.83, 96018.96, 142893.0, 133226.0], 'General Economic Survey': [26013.78, 19712.97, 20117.0, 32976.0]}), 'Punjab': defaultdict(<class 'list'>, {'Agriculture and Allied Activities': [15099.2, 13944.04, 44129.0, 43410.0, 50639.55], 'Rural Development': [39806.48, 59700.06, 103193.0, 102139.0, 30290.9], 'Energy': [153558.98, 126721.89, 235261.0, 331166.0, 331349.0], 'Transport': [127493.8, 84736.28, 164887.0, 156562.0, 164459.0], 'General Economic Survey': [22671.55, 5225.24, 7339.0, 28707.0, 30342.58]}), 'Rajasthan': defaultdict(<class 'list'>, {'Agriculture and Allied Activities': [46527.89, 82845.23, 180411.0, 111216.0, 143498.57], 'Rural Development': [73923.36, 140799.03, 136156.0, 278341.0, 325642.62], 'Energy': [569237.98, 776324.0, 905606.0, 1206700.0, 1272604.64], 'Transport': [67821.63, 77124.58, 129146.0, 136728.0, 225702.25], 'General Economic Survey': [69386.59, 7109.73, 10396.0, 24777.0, 48681.19]}), 'Sikkim': defaultdict(<class 'list'>, {'Agriculture and Allied Activities': [3663.57, 5586.35, 4720.0, 3921.0, 6679.75], 'Rural Development': [10537.61, 23097.83, 7615.0, 17282.0, 47035.39], 'Energy': [3866.07, 8579.54, 5921.0, 2554.0, 4113.26], 'Transport': [4606.94, 8750.67, 5469.0, 7655.0, 10980.82], 'General Economic Survey': [2259.73, 4194.7, 2269.0, 20547.0, 13074.68]}), 'Tamil Nadu': defaultdict(<class 'list'>, {'Agriculture and Allied Activities': [91502.96, 155292.0, 137761.0, 205252.0, 238695.81], 'Rural Development': [147091.02, 190227.0, 342420.0, 274887.0, 415562.92], 'Energy': [229183.76, 277828.0, 275664.0, 206780.0, 151720.34], 'Transport': [238748.9, 229598.0, 196947.0, 139284.0, 152235.21], 'General Economic Survey': [21870.84, 8956.0, 5618.0, 141070.0, 200750.55]}), 'Tripura': defaultdict(<class 'list'>, {'Agriculture and Allied Activities': [7571.67, 12661.65, 13799.0, 7489.0, 13800.0], 'Rural Development': [11557.25, 10585.22, 7044.0, 9465.0, 12064.69], 'Energy': [6765.97, 8947.2, 4011.0, 1816.0, 2495.9], 'Transport': [17914.81, 32523.07, 21153.0, 18676.0, 18050.4], 'General Economic Survey': [1116.53, 1215.21, 1464.0, 1195.0, 46143.4]}), 'Uttar Pradesh': defaultdict(<class 'list'>, {'Agriculture and Allied Activities': [172875.37, 267173.46, 320738.0, 338277.0, 484153.0], 'Rural Development': [175223.17, 327773.26, 354165.0, 391899.0, 152675.0], 'Energy': [455280.91, 595351.15, 610412.0, 578901.0, 395180.0], 'Transport': [454137.23, 379768.36, 431709.0, 309728.0, 282214.0], 'General Economic Survey': [10186.51, 21994.14, 33304.0, 93661.0, 579126.0]}), 'Uttaranchal': defaultdict(<class 'list'>, {'Agriculture and Allied Activities': [31451.03], 'Rural Development': [20503.72], 'Energy': [39427.77], 'Transport': [83426.05], 'General Economic Survey': [8289.54]}), 'West Bengal': defaultdict(<class 'list'>, {'Agriculture and Allied Activities': [36590.01, 60232.1, 67495.0, 86762.0, 123697.7], 'Rural Development': [71204.2, 93790.42, 102844.0, 143565.0, 158726.55], 'Energy': [173407.0, 148300.38, 39904.0, 168857.0, 346057.0], 'Transport': [55652.67, 94435.03, 83515.0, 125594.0, 166147.25], 'General Economic Survey': [3157.49, 3010.06, 1748.0, 11259.0, 15379.98]}), 'Union Territories Total': defaultdict(<class 'list'>, {'Agriculture and Allied Activities': [13400.1, 19890.0, 30444.0, 33633.87], 'Rural Development': [29816.89, 24623.0, 32173.0, 36782.03], 'Energy': [141445.8, 44105.0, 288282.0, 130456.39], 'Transport': [255679.49, 412501.0, 471324.0, 466591.02], 'General Economic Survey': [8245.38, 16109.0, 24322.0, 48909.16]}), 'Andaman and Nicobar Islands': defaultdict(<class 'list'>, {'Agriculture and Allied Activities': [1506.85, 3262.19, 3189.0, 5731.0, 4938.0], 'Rural Development': [3766.74, 5215.74, 5007.0, 5956.0, 6799.0], 'Energy': [2853.38, 3890.42, 4282.0, 6890.0, 5870.0], 'Transport': [24054.86, 30599.85, 29481.0, 55234.0, 59099.0], 'General Economic Survey': [1743.63, 2591.56, 2533.0, 5668.0, 4365.0]}), 'Chandigarh': defaultdict(<class 'list'>, {'Agriculture and Allied Activities': [102.02, 51.93, 37.0, 54.0, 131.0], 'Rural Development': [947.14, 135.0, 500.0, 600.0, 560.0], 'Energy': [2553.94, 1078.67, 2123.0, 3970.0, 3375.0], 'Transport': [1965.58, 1062.9, 769.0, 651.0, 6470.0], 'General Economic Survey': [422.22, 240.58, 504.0, 685.0, 1415.0]}), 'Dadra and Nagar Haveli': defaultdict(<class 'list'>, {'Agriculture and Allied Activities': [312.72, 450.31, 524.0, 958.0, 1096.0], 'Rural Development': [314.57, 529.92, 1198.0, 1469.0, 2888.0], 'Energy': [2262.45, 4178.76, 2905.0, 4758.0, 16949.0], 'Transport': [1915.19, 3715.87, 5137.0, 7534.0, 13877.0], 'General Economic Survey': [258.04, 276.14, 1608.0, 1063.0, 1205.0]}), 'Daman and Diu': defaultdict(<class 'list'>, {'Agriculture and Allied Activities': [183.03, 466.1, 694.0, 1518.0, 1636.0], 'Rural Development': [324.31, 997.41, 936.0, 1262.0, 1522.0], 'Energy': [1153.86, 2195.0, 2331.0, 3699.0, 6700.0], 'Transport': [3499.56, 4531.33, 5263.0, 8683.0, 22960.0], 'General Economic Survey': [205.25, 322.09, 384.0, 1654.0, 2039.0]}), 'Delhi': defaultdict(<class 'list'>, {'Agriculture and Allied Activities': [1417.26, 472.0, nan, nan, 0.0], 'Rural Development': [19996.66, 16137.56, 11154.0, 16222.0, 16222.0], 'Energy': [125795.0, 339.36, 25084.0, 250900.0, 85961.0], 'Transport': [204996.1, 420814.11, 345049.0, 354795.0, 337200.0], 'General Economic Survey': [2206.44, 625.8, 830.0, 1680.0, 22457.0]}), 'Lakshadweep': defaultdict(<class 'list'>, {'Agriculture and Allied Activities': [2790.69, 3199.56, 3434.0, 3250.0, 3150.0], 'Rural Development': [200.11, 257.4, 427.0, 520.0, 650.0], 'Energy': [2346.51, 948.0, 2466.0, 2550.0, 1800.0], 'Transport': [12159.58, 11053.97, 13957.0, 16200.0, 10750.0], 'General Economic Survey': [47.8, 627.14, 676.0, 890.0, 1562.0]}), 'Puducherry': defaultdict(<class 'list'>, {'Agriculture and Allied Activities': [7087.53, 10444.17, 12012.0, 18933.0, 22682.87], 'Rural Development': [4267.36, 4113.07, 5401.0, 6144.0, 8141.03], 'Energy': [4480.66, 6106.36, 4914.0, 15515.0, 9801.39], 'Transport': [7088.62, 8359.18, 12845.0, 28227.0, 16235.02], 'General Economic Survey': [3362.0, 3956.66, 9574.0, 12682.0, 15866.16]}), 'Chattisgarh': defaultdict(<class 'list'>, {'Agriculture and Allied Activities': [82336.25, 119661.0, 162169.0, 228424.0], 'Rural Development': [29593.95, 37551.0, 49614.0, 66097.0], 'Energy': [18142.1, 28256.0, 28690.0, 126356.0], 'Transport': [88281.09, 83875.0, 144332.0, 274074.0], 'General Economic Survey': [59187.55, 9990.0, 61299.0, 82189.0]}), 'Uttarakhand': defaultdict(<class 'list'>, {'Agriculture and Allied Activities': [24492.11, 28517.0, 52148.0, 48160.62], 'Rural Development': [19498.17, 28162.0, 56874.0, 70662.23], 'Energy': [38283.73, 12776.0, 40396.0, 61222.93], 'Transport': [82196.17, 95708.0, 116314.0, 124831.68], 'General Economic Survey': [4130.15, 7353.0, 14506.0, 21926.78]}), 'Union Territories Total ': defaultdict(<class 'list'>, {'Agriculture and Allied Activities': [18346.26], 'Rural Development': [27386.1], 'Energy': [18736.57], 'Transport': [480137.21], 'General Economic Survey': [8639.97]}), 'Odisha': defaultdict(<class 'list'>, {'Agriculture and Allied Activities': [134211.45], 'Rural Development': [40138.5], 'Energy': [250925.0], 'Transport': [187329.0], 'General Economic Survey': [49776.67]})})\n"
     ]
    }
   ],
   "source": [
    "dict_states_headers  = defaultdict(lambda : defaultdict(list))\n",
    "\n",
    "\n",
    "for files in filelist:\n",
    "    df = pd.read_csv(files)\n",
    "    for index, data in df[1:].iterrows():\n",
    "        states_ut = data['State/UTs']\n",
    "        value_agri = data['Agriculture and Allied Activities']\n",
    "        value_rural = data['Rural Development']\n",
    "        value_energy = data['Energy']\n",
    "        value_transport = data['Transport']\n",
    "        value_genecon = data['General Economic Services']\n",
    "\n",
    "        dict_states_headers[states_ut]['Agriculture and Allied Activities'].append(value_agri)\n",
    "        dict_states_headers[states_ut]['Rural Development'].append(value_rural)\n",
    "        dict_states_headers[states_ut]['Energy'].append(value_energy)\n",
    "        dict_states_headers[states_ut]['Transport'].append(value_transport)\n",
    "        dict_states_headers[states_ut]['General Economic Survey'].append(value_genecon)\n",
    "        # print(data['State/UTs'], data['Agriculture and Allied Activities'])\n",
    "\n",
    "print(dict_states_headers)"
   ],
   "metadata": {
    "collapsed": false
   }
  },
  {
   "cell_type": "code",
   "execution_count": 4,
   "outputs": [
    {
     "name": "stdout",
     "output_type": "stream",
     "text": [
      "csv_for_glob/Tab_7.3.1_outlay_expenditure.csv\n",
      "['State/UTs', 'Agriculture and Allied Activities', 'Rural Development', 'Special Area Programmes', 'Irrigation and Flood Control', 'Energy', 'Industry and Minerals', 'Transport', 'Science Technology and Environment', 'General Economic Services', 'Social Services', 'General Services', 'Total']\n",
      "['Agriculture and Allied Activities', 'Rural Development', 'Special Area Programmes', 'Irrigation and Flood Control', 'Energy', 'Industry and Minerals', 'Transport', 'Science Technology and Environment', 'General Economic Services', 'Social Services', 'General Services']\n"
     ]
    }
   ],
   "source": [
    "print(filelist[0])\n",
    "\n",
    "df0 = pd.read_csv(filelist[0])\n",
    "list_headers = list(df0.columns)\n",
    "print(list_headers)\n",
    "\n",
    "\n",
    "list_data_header = list_headers[1:-1]\n",
    "print(list_data_header)"
   ],
   "metadata": {
    "collapsed": false
   }
  },
  {
   "cell_type": "code",
   "execution_count": 5,
   "outputs": [
    {
     "name": "stdout",
     "output_type": "stream",
     "text": [
      "0 Agriculture and Allied Activities\n",
      "1 Rural Development\n",
      "2 Special Area Programmes\n",
      "3 Irrigation and Flood Control\n",
      "4 Energy\n",
      "5 Industry and Minerals\n",
      "6 Transport\n",
      "7 Science Technology and Environment\n",
      "8 General Economic Services\n",
      "9 Social Services\n",
      "10 General Services\n"
     ]
    }
   ],
   "source": [
    "for i in range (0, len(list_data_header),1):\n",
    "    print(i,list_data_header[i])"
   ],
   "metadata": {
    "collapsed": false
   }
  },
  {
   "cell_type": "markdown",
   "source": [
    "Json.dumps just makes a string out of the dictionary in json format\n",
    "while json.dump dums the dat ain a file in json format"
   ],
   "metadata": {
    "collapsed": false
   }
  },
  {
   "cell_type": "code",
   "execution_count": 6,
   "outputs": [
    {
     "name": "stdout",
     "output_type": "stream",
     "text": [
      "{\"Andhra Pradesh\": {\"Agriculture and Allied Activities\": [85717.39, 153162.84, 185351.0, 204495.0, 269509.01], \"Rural Development\": [144803.51, 308775.47, 403519.0, 424308.0, 549662.55], \"Energy\": [4649.83, 3026.13, 53104.0, 65593.0, 41541.8], \"Transport\": [168905.12, 210171.95, 194871.0, 292865.0, 364506.0], \"General Economic Survey\": [122857.89, 89672.88, 38541.0, 123043.0, 157093.38]}, \"Arunachal Pradesh\": {\"Agriculture and Allied Activities\": [8926.24, 8078.0, 11195.0, 8660.0, 10023.6], \"Rural Development\": [2446.84, 4151.0, 7859.0, 3439.0, 2674.95], \"Energy\": [11883.52, 35971.0, 32057.0, 22464.0, 23299.1], \"Transport\": [23407.55, 54360.0, 73653.0, 25240.0, 39413.35], \"General Economic Survey\": [10088.77, 8057.0, 13388.0, 180541.0, 168471.11]}, \"Assam\": {\"Agriculture and Allied Activities\": [12290.03, 41022.89, 56587.0, 69692.0, 81523.05], \"Rural Development\": [20696.55, 39688.65, 83846.0, 82328.0, 88872.0], \"Energy\": [35455.0, 16507.03, 23362.0, 43925.0, 34864.3], \"Transport\": [29634.74, 49101.84, 52017.0, 85265.0, 109687.9], \"General Economic Survey\": [29414.72, 27601.58, 17379.0, 22545.0, 37103.59]}, \"Bihar\": {\"Agriculture and Allied Activities\": [30990.14, 62766.22, 124030.0, 222369.0, 192405.03], \"Rural Development\": [65270.77, 93570.84, 80398.0, 93068.0, 117250.2], \"Energy\": [27043.83, 84994.34, 160877.0, 82578.0, 186786.6], \"Transport\": [334600.29, 368951.74, 493279.0, 484428.0, 535370.69], \"General Economic Survey\": [17205.95, 18048.66, 34710.0, 72077.0, 181608.07]}, \"Chhattisgarh\": {\"Agriculture and Allied Activities\": [24030.6], \"Rural Development\": [45313.72], \"Energy\": [11132.83], \"Transport\": [134366.96], \"General Economic Survey\": [25263.22]}, \"Goa\": {\"Agriculture and Allied Activities\": [4633.35, 6167.91, 7275.0, 14462.0, 20408.25], \"Rural Development\": [2442.92, 4652.07, 5054.0, 12653.0, 12861.2], \"Energy\": [13033.16, 20122.36, 19154.0, 20330.0, 30280.0], \"Transport\": [14030.24, 26231.43, 36059.0, 36469.0, 39608.76], \"General Economic Survey\": [3136.06, 25118.29, 13418.0, 10332.0, 35304.33]}, \"Gujarat\": {\"Agriculture and Allied Activities\": [89057.06, 175735.16, 207535.0, 257797.0, 307557.71], \"Rural Development\": [47021.53, 58013.45, 108544.0, 155711.0, 146725.7], \"Energy\": [60772.32, 96327.46, 334328.0, 201901.0, 379036.0], \"Transport\": [118304.14, 264493.0, 342587.0, 371077.0, 501646.0], \"General Economic Survey\": [35313.69, 59032.32, 85989.0, 154027.0, 164787.76]}, \"Haryana\": {\"Agriculture and Allied Activities\": [10608.39, 36684.5, 56100.0, 88834.0, 78794.0], \"Rural Development\": [36711.57, 59221.9, 69397.0, 94162.0, 107017.0], \"Energy\": [85714.51, 103227.11, 96865.0, 115836.0, 135910.0], \"Transport\": [53359.11, 130984.1, 104178.0, 124233.0, 146594.0], \"General Economic Survey\": [5153.02, 30122.16, 17120.0, 25439.0, 32590.0]}, \"Himachal Pradesh\": {\"Agriculture and Allied Activities\": [11389.06, 24380.0, 33115.0, 29840.0, 35618.0], \"Rural Development\": [8513.89, 14755.0, 16800.0, 23790.0, 17191.0], \"Energy\": [11005.24, 21774.0, 32594.0, 46160.0, 53192.0], \"Transport\": [35584.13, 65709.0, 53700.0, 62190.0, 73693.0], \"General Economic Survey\": [7722.51, 9299.0, 8863.0, 7217.0, 9365.0]}, \"Jammu and Kashmir\": {\"Agriculture and Allied Activities\": [7727.2, 16381.08, 18945.0, 21788.0, 23267.28], \"Rural Development\": [12699.25, 10079.62, 12660.0, 13302.0, 5806.84], \"Energy\": [66907.94, 51022.24, 50654.0, 47800.0, 45407.97], \"Transport\": [88555.23, 98885.72, 112238.0, 81941.0, 58867.14], \"General Economic Survey\": [30941.75, 27662.31, 29089.0, 100031.0, 103857.9]}, \"Jharkhand\": {\"Agriculture and Allied Activities\": [24185.33, 25157.0, 41619.0, 64938.0, 65743.0], \"Rural Development\": [96414.37, 107502.0, 125171.0, 173645.0, 170769.0], \"Energy\": [47685.0, 53190.0, 35968.0, 40000.0, 117800.0], \"Transport\": [46542.0, 92443.0, 98949.0, 147500.0, 217500.0], \"General Economic Survey\": [7091.3, 22339.0, 55245.0, 126236.0, 159763.34]}, \"Karnataka\": {\"Agriculture and Allied Activities\": [141505.12, 169160.63, 209273.0, 365306.0, 378552.0], \"Rural Development\": [103548.22, 104125.72, 113873.0, 144992.0, 143265.0], \"Energy\": [205071.72, 355283.49, 305772.0, 440658.0, 482255.0], \"Transport\": [267477.98, 304739.25, 370430.0, 427154.0, 448555.0], \"General Economic Survey\": [47417.23, 71786.19, 96042.0, 106680.0, 104832.0]}, \"Kerala\": {\"Agriculture and Allied Activities\": [20463.63, 48136.9, 58150.0, 96263.0, 123641.0], \"Rural Development\": [20675.65, 32221.65, 37583.0, 46127.0, 44287.0], \"Energy\": [54795.56, 73363.44, 65895.0, 112300.0, 116541.0], \"Transport\": [69402.07, 111521.15, 152873.0, 113439.0, 119581.0], \"General Economic Survey\": [18328.54, 38761.21, 27332.0, 33775.0, 27656.0]}, \"Madhya Pradesh\": {\"Agriculture and Allied Activities\": [61908.22, 96268.17, 171968.0, 178121.0, 206606.17], \"Rural Development\": [133911.42, 117860.81, 146715.0, 195493.0, 194596.24], \"Energy\": [118594.36, 157311.5, 176710.0, 198791.0, 274987.11], \"Transport\": [202023.86, 211724.97, 260895.0, 254196.0, 361034.01], \"General Economic Survey\": [31147.49, 35241.29, 34903.0, 70203.0, 60241.11]}, \"Maharashtra\": {\"Agriculture and Allied Activities\": [130299.0, 189245.0, 222617.0, 255027.0, 286962.0], \"Rural Development\": [91929.0, 78394.0, 75568.0, 118238.0, 150356.0], \"Energy\": [139820.0, 227938.0, 231433.0, 304636.0, 306254.0], \"Transport\": [176125.0, 390790.0, 356586.0, 477549.0, 557549.0], \"General Economic Survey\": [49043.0, 56653.0, 52424.0, 73888.0, 73199.0]}, \"Manipur\": {\"Agriculture and Allied Activities\": [2259.31, 4381.45, 6216.0, 6640.0, 10358.36], \"Rural Development\": [3740.27, 5616.12, 5409.0, 6222.0, 16041.0], \"Energy\": [14244.08, 14976.21, 13495.0, 17131.0, 13550.0], \"Transport\": [2512.0, 11981.17, 11586.0, 23983.0, 6206.0], \"General Economic Survey\": [51470.61, 65539.0, 6811.0, 56836.0, 121952.92]}, \"Meghalaya\": {\"Agriculture and Allied Activities\": [7430.17, 14006.07, 27278.0, 25180.0, 42750.0], \"Rural Development\": [9386.11, 10672.46, 15739.0, 21146.0, 16601.0], \"Energy\": [23418.31, 31365.4, 51560.0, 56632.0, 51780.0], \"Transport\": [16237.36, 21192.96, 25791.0, 30004.0, 47356.0], \"General Economic Survey\": [2449.1, 2533.17, 12360.0, 24203.0, 44596.0]}, \"Mizoram\": {\"Agriculture and Allied Activities\": [5844.98, 5746.74, 6099.0, 34539.0, 44547.47], \"Rural Development\": [4705.26, 3128.33, 3956.0, 3336.0, 4929.03], \"Energy\": [6756.11, 10161.73, 7359.0, 9086.0, 9709.14], \"Transport\": [13371.94, 7415.99, 13318.0, 9320.0, 33522.6], \"General Economic Survey\": [3450.94, 6626.87, 7993.0, 8293.0, 18149.4]}, \"Nagaland\": {\"Agriculture and Allied Activities\": [7105.67, 11149.13, 13799.0, 18473.0, 21733.0], \"Rural Development\": [7191.74, 11936.3, 11236.0, 6496.0, 3849.0], \"Energy\": [4277.21, 8092.0, 5869.0, 8106.0, 11210.0], \"Transport\": [7399.85, 16068.8, 12798.0, 21152.0, 32484.0], \"General Economic Survey\": [4975.52, 10063.06, 14228.0, 19022.0, 37876.0]}, \"Orissa\": {\"Agriculture and Allied Activities\": [17618.17, 37805.2, 71158.0, 114663.0], \"Rural Development\": [13735.98, 17739.0, 27690.0, 31806.0], \"Energy\": [32989.63, 24557.5, 68393.0, 68840.0], \"Transport\": [40813.83, 96018.96, 142893.0, 133226.0], \"General Economic Survey\": [26013.78, 19712.97, 20117.0, 32976.0]}, \"Punjab\": {\"Agriculture and Allied Activities\": [15099.2, 13944.04, 44129.0, 43410.0, 50639.55], \"Rural Development\": [39806.48, 59700.06, 103193.0, 102139.0, 30290.9], \"Energy\": [153558.98, 126721.89, 235261.0, 331166.0, 331349.0], \"Transport\": [127493.8, 84736.28, 164887.0, 156562.0, 164459.0], \"General Economic Survey\": [22671.55, 5225.24, 7339.0, 28707.0, 30342.58]}, \"Rajasthan\": {\"Agriculture and Allied Activities\": [46527.89, 82845.23, 180411.0, 111216.0, 143498.57], \"Rural Development\": [73923.36, 140799.03, 136156.0, 278341.0, 325642.62], \"Energy\": [569237.98, 776324.0, 905606.0, 1206700.0, 1272604.64], \"Transport\": [67821.63, 77124.58, 129146.0, 136728.0, 225702.25], \"General Economic Survey\": [69386.59, 7109.73, 10396.0, 24777.0, 48681.19]}, \"Sikkim\": {\"Agriculture and Allied Activities\": [3663.57, 5586.35, 4720.0, 3921.0, 6679.75], \"Rural Development\": [10537.61, 23097.83, 7615.0, 17282.0, 47035.39], \"Energy\": [3866.07, 8579.54, 5921.0, 2554.0, 4113.26], \"Transport\": [4606.94, 8750.67, 5469.0, 7655.0, 10980.82], \"General Economic Survey\": [2259.73, 4194.7, 2269.0, 20547.0, 13074.68]}, \"Tamil Nadu\": {\"Agriculture and Allied Activities\": [91502.96, 155292.0, 137761.0, 205252.0, 238695.81], \"Rural Development\": [147091.02, 190227.0, 342420.0, 274887.0, 415562.92], \"Energy\": [229183.76, 277828.0, 275664.0, 206780.0, 151720.34], \"Transport\": [238748.9, 229598.0, 196947.0, 139284.0, 152235.21], \"General Economic Survey\": [21870.84, 8956.0, 5618.0, 141070.0, 200750.55]}, \"Tripura\": {\"Agriculture and Allied Activities\": [7571.67, 12661.65, 13799.0, 7489.0, 13800.0], \"Rural Development\": [11557.25, 10585.22, 7044.0, 9465.0, 12064.69], \"Energy\": [6765.97, 8947.2, 4011.0, 1816.0, 2495.9], \"Transport\": [17914.81, 32523.07, 21153.0, 18676.0, 18050.4], \"General Economic Survey\": [1116.53, 1215.21, 1464.0, 1195.0, 46143.4]}, \"Uttar Pradesh\": {\"Agriculture and Allied Activities\": [172875.37, 267173.46, 320738.0, 338277.0, 484153.0], \"Rural Development\": [175223.17, 327773.26, 354165.0, 391899.0, 152675.0], \"Energy\": [455280.91, 595351.15, 610412.0, 578901.0, 395180.0], \"Transport\": [454137.23, 379768.36, 431709.0, 309728.0, 282214.0], \"General Economic Survey\": [10186.51, 21994.14, 33304.0, 93661.0, 579126.0]}, \"Uttaranchal\": {\"Agriculture and Allied Activities\": [31451.03], \"Rural Development\": [20503.72], \"Energy\": [39427.77], \"Transport\": [83426.05], \"General Economic Survey\": [8289.54]}, \"West Bengal\": {\"Agriculture and Allied Activities\": [36590.01, 60232.1, 67495.0, 86762.0, 123697.7], \"Rural Development\": [71204.2, 93790.42, 102844.0, 143565.0, 158726.55], \"Energy\": [173407.0, 148300.38, 39904.0, 168857.0, 346057.0], \"Transport\": [55652.67, 94435.03, 83515.0, 125594.0, 166147.25], \"General Economic Survey\": [3157.49, 3010.06, 1748.0, 11259.0, 15379.98]}, \"Union Territories Total\": {\"Agriculture and Allied Activities\": [13400.1, 19890.0, 30444.0, 33633.87], \"Rural Development\": [29816.89, 24623.0, 32173.0, 36782.03], \"Energy\": [141445.8, 44105.0, 288282.0, 130456.39], \"Transport\": [255679.49, 412501.0, 471324.0, 466591.02], \"General Economic Survey\": [8245.38, 16109.0, 24322.0, 48909.16]}, \"Andaman and Nicobar Islands\": {\"Agriculture and Allied Activities\": [1506.85, 3262.19, 3189.0, 5731.0, 4938.0], \"Rural Development\": [3766.74, 5215.74, 5007.0, 5956.0, 6799.0], \"Energy\": [2853.38, 3890.42, 4282.0, 6890.0, 5870.0], \"Transport\": [24054.86, 30599.85, 29481.0, 55234.0, 59099.0], \"General Economic Survey\": [1743.63, 2591.56, 2533.0, 5668.0, 4365.0]}, \"Chandigarh\": {\"Agriculture and Allied Activities\": [102.02, 51.93, 37.0, 54.0, 131.0], \"Rural Development\": [947.14, 135.0, 500.0, 600.0, 560.0], \"Energy\": [2553.94, 1078.67, 2123.0, 3970.0, 3375.0], \"Transport\": [1965.58, 1062.9, 769.0, 651.0, 6470.0], \"General Economic Survey\": [422.22, 240.58, 504.0, 685.0, 1415.0]}, \"Dadra and Nagar Haveli\": {\"Agriculture and Allied Activities\": [312.72, 450.31, 524.0, 958.0, 1096.0], \"Rural Development\": [314.57, 529.92, 1198.0, 1469.0, 2888.0], \"Energy\": [2262.45, 4178.76, 2905.0, 4758.0, 16949.0], \"Transport\": [1915.19, 3715.87, 5137.0, 7534.0, 13877.0], \"General Economic Survey\": [258.04, 276.14, 1608.0, 1063.0, 1205.0]}, \"Daman and Diu\": {\"Agriculture and Allied Activities\": [183.03, 466.1, 694.0, 1518.0, 1636.0], \"Rural Development\": [324.31, 997.41, 936.0, 1262.0, 1522.0], \"Energy\": [1153.86, 2195.0, 2331.0, 3699.0, 6700.0], \"Transport\": [3499.56, 4531.33, 5263.0, 8683.0, 22960.0], \"General Economic Survey\": [205.25, 322.09, 384.0, 1654.0, 2039.0]}, \"Delhi\": {\"Agriculture and Allied Activities\": [1417.26, 472.0, NaN, NaN, 0.0], \"Rural Development\": [19996.66, 16137.56, 11154.0, 16222.0, 16222.0], \"Energy\": [125795.0, 339.36, 25084.0, 250900.0, 85961.0], \"Transport\": [204996.1, 420814.11, 345049.0, 354795.0, 337200.0], \"General Economic Survey\": [2206.44, 625.8, 830.0, 1680.0, 22457.0]}, \"Lakshadweep\": {\"Agriculture and Allied Activities\": [2790.69, 3199.56, 3434.0, 3250.0, 3150.0], \"Rural Development\": [200.11, 257.4, 427.0, 520.0, 650.0], \"Energy\": [2346.51, 948.0, 2466.0, 2550.0, 1800.0], \"Transport\": [12159.58, 11053.97, 13957.0, 16200.0, 10750.0], \"General Economic Survey\": [47.8, 627.14, 676.0, 890.0, 1562.0]}, \"Puducherry\": {\"Agriculture and Allied Activities\": [7087.53, 10444.17, 12012.0, 18933.0, 22682.87], \"Rural Development\": [4267.36, 4113.07, 5401.0, 6144.0, 8141.03], \"Energy\": [4480.66, 6106.36, 4914.0, 15515.0, 9801.39], \"Transport\": [7088.62, 8359.18, 12845.0, 28227.0, 16235.02], \"General Economic Survey\": [3362.0, 3956.66, 9574.0, 12682.0, 15866.16]}, \"Chattisgarh\": {\"Agriculture and Allied Activities\": [82336.25, 119661.0, 162169.0, 228424.0], \"Rural Development\": [29593.95, 37551.0, 49614.0, 66097.0], \"Energy\": [18142.1, 28256.0, 28690.0, 126356.0], \"Transport\": [88281.09, 83875.0, 144332.0, 274074.0], \"General Economic Survey\": [59187.55, 9990.0, 61299.0, 82189.0]}, \"Uttarakhand\": {\"Agriculture and Allied Activities\": [24492.11, 28517.0, 52148.0, 48160.62], \"Rural Development\": [19498.17, 28162.0, 56874.0, 70662.23], \"Energy\": [38283.73, 12776.0, 40396.0, 61222.93], \"Transport\": [82196.17, 95708.0, 116314.0, 124831.68], \"General Economic Survey\": [4130.15, 7353.0, 14506.0, 21926.78]}, \"Union Territories Total \": {\"Agriculture and Allied Activities\": [18346.26], \"Rural Development\": [27386.1], \"Energy\": [18736.57], \"Transport\": [480137.21], \"General Economic Survey\": [8639.97]}, \"Odisha\": {\"Agriculture and Allied Activities\": [134211.45], \"Rural Development\": [40138.5], \"Energy\": [250925.0], \"Transport\": [187329.0], \"General Economic Survey\": [49776.67]}}\n"
     ]
    }
   ],
   "source": [
    "import json\n",
    "\n",
    "# creating a json string\n",
    "\n",
    "json_str_dict_states = json.dumps(dict_states_headers)\n",
    "#json.dumps is for formatted json string\n",
    "print(json_str_dict_states)"
   ],
   "metadata": {
    "collapsed": false
   }
  },
  {
   "cell_type": "code",
   "execution_count": 7,
   "outputs": [],
   "source": [
    "# saving data in a json file\n",
    "\n",
    "jsonoutfile = \"jsonexamples/example_dict_json_01.json\"\n",
    "with open(jsonoutfile,\"w\") as write_file:\n",
    "    json.dump(dict_states_headers,write_file)"
   ],
   "metadata": {
    "collapsed": false
   }
  },
  {
   "cell_type": "code",
   "execution_count": 8,
   "outputs": [
    {
     "name": "stdout",
     "output_type": "stream",
     "text": [
      "   S.No - Col.1 Name of State/UT - Col.2  Total Length (Col. 6+7) - Col.3  \\\n",
      "0             1           Andhra Pradesh                            118.0   \n",
      "1             2        Arunachal Pradesh                              NaN   \n",
      "2             3                    Assam                            113.0   \n",
      "3             4                   Bihar                             529.0   \n",
      "4             5             Chhattisgarh                            169.0   \n",
      "5             6                      Goa                              0.0   \n",
      "6             7                 Gujarat                             462.0   \n",
      "7             8                 Haryana                             131.0   \n",
      "8             9        Himachal Pradesh                              99.0   \n",
      "9            10          Jammu & Kashmir                              0.0   \n",
      "10           11                Jharkhand                            181.0   \n",
      "11           12                Karnataka                           1441.0   \n",
      "12           13                  Kerala                             252.0   \n",
      "13           14          Madhya Pradesh                             797.0   \n",
      "14           15              Maharashtra                            343.0   \n",
      "15           16                  Manipur                              0.0   \n",
      "16           17                Meghalaya                            132.0   \n",
      "17           18                 Mizoram                             134.0   \n",
      "18           19                 Nagaland                              0.0   \n",
      "19           20                   Odisha                             70.0   \n",
      "20           21                   Punjab                            449.0   \n",
      "21           22                Rajasthan                            388.0   \n",
      "22           23                   Sikkim                              0.0   \n",
      "23           24              Tamil Nadu                             844.0   \n",
      "24           25                Telangana                            126.0   \n",
      "25           26                  Tripura                              0.0   \n",
      "26           27              Uttarakhand                            165.0   \n",
      "27           28           Uttar Pradesh                              24.0   \n",
      "28           29              West Bengal                            216.0   \n",
      "29           30            A & N Islands                              0.0   \n",
      "30           31            UT Chandigarh                              0.0   \n",
      "31           32     Dadra & Nagar Haveli                              0.0   \n",
      "32           33              Daman & Diu                              0.0   \n",
      "33           34                    Delhi                             52.0   \n",
      "34           35              Lakshadweep                              0.0   \n",
      "35           36               Puducherry                              0.0   \n",
      "\n",
      "    Surfaced - W.B.M. - Col.4  Surfaced - B.T./C.C - Col.5  \\\n",
      "0                        34.0                         81.0   \n",
      "1                         NaN                          NaN   \n",
      "2                        21.0                         77.0   \n",
      "3                       148.0                        360.0   \n",
      "4                        27.0                        140.0   \n",
      "5                         0.0                          0.0   \n",
      "6                       235.0                        213.0   \n",
      "7                         9.0                        122.0   \n",
      "8                        35.0                         40.0   \n",
      "9                         0.0                          0.0   \n",
      "10                       26.0                        153.0   \n",
      "11                      132.0                       1284.0   \n",
      "12                       47.0                        186.0   \n",
      "13                      302.0                        440.0   \n",
      "14                      183.0                        124.0   \n",
      "15                        0.0                          0.0   \n",
      "16                        6.0                        111.0   \n",
      "17                        3.0                         21.0   \n",
      "18                        0.0                          0.0   \n",
      "19                       37.0                         31.0   \n",
      "20                       28.0                        393.0   \n",
      "21                       11.0                        375.0   \n",
      "22                        0.0                          0.0   \n",
      "23                      165.0                        616.0   \n",
      "24                       22.0                        104.0   \n",
      "25                        0.0                          0.0   \n",
      "26                        4.0                        145.0   \n",
      "27                        0.0                         19.0   \n",
      "28                        8.0                        161.0   \n",
      "29                        0.0                          0.0   \n",
      "30                        0.0                          0.0   \n",
      "31                        0.0                          0.0   \n",
      "32                        0.0                          0.0   \n",
      "33                        1.0                         51.0   \n",
      "34                        0.0                          0.0   \n",
      "35                        0.0                          0.0   \n",
      "\n",
      "    Surfaced - Total (Col. 4+5) - Col.6  Unsurfaced - Col.7  \n",
      "0                                 115.0                 3.0  \n",
      "1                                   NaN                 NaN  \n",
      "2                                  98.0                15.0  \n",
      "3                                 508.0                21.0  \n",
      "4                                 167.0                 2.0  \n",
      "5                                   0.0                 0.0  \n",
      "6                                 448.0                14.0  \n",
      "7                                 131.0                 0.0  \n",
      "8                                  75.0                24.0  \n",
      "9                                   0.0                 0.0  \n",
      "10                                179.0                 2.0  \n",
      "11                               1416.0                24.0  \n",
      "12                                233.0                19.0  \n",
      "13                                742.0                55.0  \n",
      "14                                307.0                36.0  \n",
      "15                                  0.0                 0.0  \n",
      "16                                117.0                15.0  \n",
      "17                                 24.0               110.0  \n",
      "18                                  0.0                 0.0  \n",
      "19                                 68.0                 2.0  \n",
      "20                                421.0                28.0  \n",
      "21                                386.0                 2.0  \n",
      "22                                  0.0                 0.0  \n",
      "23                                781.0                63.0  \n",
      "24                                126.0                 0.0  \n",
      "25                                  0.0                 0.0  \n",
      "26                                149.0                15.0  \n",
      "27                                 19.0                 5.0  \n",
      "28                                169.0                47.0  \n",
      "29                                  0.0                 0.0  \n",
      "30                                  0.0                 0.0  \n",
      "31                                  0.0                 0.0  \n",
      "32                                  0.0                 0.0  \n",
      "33                                 52.0                 0.0  \n",
      "34                                  0.0                 0.0  \n",
      "35                                  0.0                 0.0  \n"
     ]
    }
   ],
   "source": [
    "df4 = pd.read_csv(\"other_files/Road_Transport_BRS_2017-18_AnnexureElect7_5.csv\")\n",
    "\n",
    "#print df4 except the last row\n",
    "print(df4[:-1])"
   ],
   "metadata": {
    "collapsed": false
   }
  }
 ],
 "metadata": {
  "kernelspec": {
   "display_name": "Python 3",
   "language": "python",
   "name": "python3"
  },
  "language_info": {
   "codemirror_mode": {
    "name": "ipython",
    "version": 2
   },
   "file_extension": ".py",
   "mimetype": "text/x-python",
   "name": "python",
   "nbconvert_exporter": "python",
   "pygments_lexer": "ipython2",
   "version": "2.7.6"
  }
 },
 "nbformat": 4,
 "nbformat_minor": 0
}
