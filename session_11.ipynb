{
 "cells": [
  {
   "cell_type": "code",
   "execution_count": null,
   "metadata": {
    "collapsed": true
   },
   "outputs": [],
   "source": [
    "from collections import defaultdict\n",
    "import xml.etree.ElementTree as ET"
   ]
  },
  {
   "cell_type": "code",
   "execution_count": null,
   "outputs": [],
   "source": [
    "#reading the foodmenu file\n",
    "\n",
    "xmlfile_food = \"xmlfiles/food_menu.xml\"\n",
    "\n",
    "tree_food = ET.parse(xmlfile_food)\n",
    "print(tree_food)\n",
    "\n",
    "#get root element\n",
    "root_food = tree_food.getroot()\n",
    "print(root_food)\n",
    "\n",
    "for item in root_food.iter():\n",
    "    # print(item.tag)\n",
    "    if item.tag == \"description\":\n",
    "        print(item.tag,item.text)"
   ],
   "metadata": {
    "collapsed": false
   }
  },
  {
   "cell_type": "code",
   "execution_count": null,
   "outputs": [],
   "source": [
    "#reading the foodmenu file\n",
    "\n",
    "xmlfile_plant = \"xmlfiles/plant_catalog.xml\"\n",
    "\n",
    "tree_plant = ET.parse(xmlfile_plant)\n",
    "print(tree_plant)\n",
    "\n",
    "#get root element\n",
    "root_plant = tree_plant.getroot()\n",
    "print(root_plant)\n",
    "\n",
    "for item in root_plant.iter():\n",
    "    # print(item.tag)\n",
    "    if item.tag == \"PRICE\":\n",
    "        print(item.tag,item.text)"
   ],
   "metadata": {
    "collapsed": false
   }
  },
  {
   "cell_type": "code",
   "execution_count": null,
   "outputs": [],
   "source": [
    "xmlfile = \"xmlfiles/cd_catalog.xml\"\n",
    "\n",
    "#create tree object\n",
    "tree = ET.parse(xmlfile)\n",
    "print(tree)\n",
    "\n",
    "#get root element\n",
    "root = tree.getroot()\n",
    "print(root)\n",
    "\n",
    "#getting root attributes\n",
    "print(root.attrib)\n",
    "\n",
    "for item in root.iter():\n",
    "    # print(item.tag)\n",
    "    if item.tag == \"COMPANY\":\n",
    "        print(item.tag,item.text)\n"
   ],
   "metadata": {
    "collapsed": false
   }
  },
  {
   "cell_type": "code",
   "execution_count": null,
   "outputs": [],
   "source": [
    "#create empty lists to store artists and company names\n",
    "list_artist = []\n",
    "list_company = []\n",
    "\n",
    "#create list of the artist names and comany names\n",
    "for item in root.iter():\n",
    "    if item.tag == \"ARTIST\":\n",
    "        list_artist.append(item.text)\n",
    "    if item.tag == \"COMPANY\":\n",
    "        list_company.append(item.text)\n",
    "\n",
    "#zip the dictionaries\n",
    "dict_artistCompany = dict(zip(list_artist,list_company))\n",
    "# print(dict_artistCompany)\n",
    "for key,values in dict_artistCompany.items():\n",
    "    print(key,\":\",values)"
   ],
   "metadata": {
    "collapsed": false
   }
  },
  {
   "cell_type": "code",
   "execution_count": null,
   "outputs": [],
   "source": [
    "dict_cds = defaultdict(lambda : defaultdict(list))\n",
    "\n",
    "for item in root.iter():\n",
    "    if item.tag == \"TITLE\":\n",
    "        dict_cds[\"CD\"][str(item.tag)].append(item.text)\n",
    "    if item.tag == \"ARTIST\":\n",
    "        dict_cds[\"CD\"][\"ARTIST\"].append(item.text)\n",
    "    if item.tag == \"COUNTRY\":\n",
    "        dict_cds[\"CD\"][\"COUNTRY\"].append(item.text)\n",
    "    if item.tag == \"COMPANY\":\n",
    "        dict_cds[\"CD\"][\"COMPANY\"].append(item.text)\n",
    "    if item.tag == \"PRICE\":\n",
    "        dict_cds[\"CD\"][\"PRICE\"].append(item.text)\n",
    "    if item.tag == \"YEAR\":\n",
    "        dict_cds[\"CD\"][\"YEAR\"].append(item.text)\n",
    "\n",
    "print(dict_cds)\n",
    "print(dict_cds[\"CD\"].keys())"
   ],
   "metadata": {
    "collapsed": false
   }
  },
  {
   "cell_type": "code",
   "execution_count": null,
   "outputs": [],
   "source": [
    "# add all the values of xmlfile to a dictionary\n",
    "dict_cds2 = defaultdict(lambda : defaultdict(list))\n",
    "\n",
    "for item in root.iter():\n",
    "    if item.tag == \"CD\":\n",
    "        for child in item:\n",
    "            dict_cds2[\"CD\"][child.tag].append(child.text)\n",
    "\n",
    "print(dict_cds2)\n",
    "print(dict_cds[\"CD\"].keys())"
   ],
   "metadata": {
    "collapsed": false
   }
  },
  {
   "cell_type": "code",
   "execution_count": null,
   "outputs": [],
   "source": [],
   "metadata": {
    "collapsed": false
   }
  }
 ],
 "metadata": {
  "kernelspec": {
   "display_name": "Python 3",
   "language": "python",
   "name": "python3"
  },
  "language_info": {
   "codemirror_mode": {
    "name": "ipython",
    "version": 2
   },
   "file_extension": ".py",
   "mimetype": "text/x-python",
   "name": "python",
   "nbconvert_exporter": "python",
   "pygments_lexer": "ipython2",
   "version": "2.7.6"
  }
 },
 "nbformat": 4,
 "nbformat_minor": 0
}
