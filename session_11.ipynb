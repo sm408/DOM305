{
 "cells": [
  {
   "cell_type": "markdown",
   "source": [
    "xml files"
   ],
   "metadata": {
    "collapsed": false
   }
  },
  {
   "cell_type": "code",
   "execution_count": 1,
   "outputs": [],
   "source": [
    "from collections import defaultdict\n",
    "import xml.etree.ElementTree as ET"
   ],
   "metadata": {
    "collapsed": false
   }
  },
  {
   "cell_type": "code",
   "execution_count": 2,
   "outputs": [
    {
     "name": "stdout",
     "output_type": "stream",
     "text": [
      "<xml.etree.ElementTree.ElementTree object at 0x7f860dbbdf10>\n",
      "<Element 'breakfast_menu' at 0x7f860db18cc0>\n",
      "description Two of our famous Belgian Waffles with plenty of real maple syrup\n",
      "description Light Belgian waffles covered with strawberries and whipped cream\n",
      "description Light Belgian waffles covered with an assortment of fresh berries and whipped cream\n",
      "description Thick slices made from our homemade sourdough bread\n",
      "description Two eggs, bacon or sausage, toast, and our ever-popular hash browns\n"
     ]
    }
   ],
   "source": [
    "#reading the foodmenu file\n",
    "\n",
    "xmlfile_food = \"xmlfiles/food_menu.xml\"\n",
    "\n",
    "tree_food = ET.parse(xmlfile_food)\n",
    "print(tree_food)\n",
    "\n",
    "#get root element\n",
    "root_food = tree_food.getroot()\n",
    "print(root_food)\n",
    "\n",
    "for item in root_food.iter():\n",
    "    # print(item.tag)\n",
    "    if item.tag == \"description\":\n",
    "        print(item.tag,item.text)"
   ],
   "metadata": {
    "collapsed": false
   }
  },
  {
   "cell_type": "code",
   "execution_count": 3,
   "outputs": [
    {
     "name": "stdout",
     "output_type": "stream",
     "text": [
      "<xml.etree.ElementTree.ElementTree object at 0x7f860dbc4810>\n",
      "<Element 'CATALOG' at 0x7f860dbb7740>\n",
      "PRICE $2.44\n",
      "PRICE $9.37\n",
      "PRICE $6.81\n",
      "PRICE $9.90\n",
      "PRICE $6.44\n",
      "PRICE $9.03\n",
      "PRICE $4.45\n",
      "PRICE $3.99\n",
      "PRICE $3.23\n",
      "PRICE $2.98\n",
      "PRICE $2.80\n",
      "PRICE $5.59\n",
      "PRICE $6.59\n",
      "PRICE $3.90\n",
      "PRICE $3.20\n",
      "PRICE $9.04\n",
      "PRICE $6.94\n",
      "PRICE $9.58\n",
      "PRICE $8.86\n",
      "PRICE $9.16\n",
      "PRICE $4.59\n",
      "PRICE $7.16\n",
      "PRICE $9.80\n",
      "PRICE $2.57\n",
      "PRICE $9.34\n",
      "PRICE $2.78\n",
      "PRICE $7.06\n",
      "PRICE $6.56\n",
      "PRICE $7.81\n",
      "PRICE $8.56\n",
      "PRICE $9.26\n",
      "PRICE $4.36\n",
      "PRICE $7.89\n",
      "PRICE $8.60\n",
      "PRICE $5.63\n",
      "PRICE $3.02\n"
     ]
    }
   ],
   "source": [
    "#reading the foodmenu file\n",
    "\n",
    "xmlfile_plant = \"xmlfiles/plant_catalog.xml\"\n",
    "\n",
    "tree_plant = ET.parse(xmlfile_plant)\n",
    "print(tree_plant)\n",
    "\n",
    "#get root element\n",
    "root_plant = tree_plant.getroot()\n",
    "print(root_plant)\n",
    "\n",
    "for item in root_plant.iter():\n",
    "    # print(item.tag)\n",
    "    if item.tag == \"PRICE\":\n",
    "        print(item.tag,item.text)"
   ],
   "metadata": {
    "collapsed": false
   }
  },
  {
   "cell_type": "code",
   "execution_count": 4,
   "outputs": [
    {
     "name": "stdout",
     "output_type": "stream",
     "text": [
      "<xml.etree.ElementTree.ElementTree object at 0x7f860dbddf10>\n",
      "<Element 'CATALOG' at 0x7f860dbb7240>\n",
      "{}\n",
      "COMPANY Columbia\n",
      "COMPANY CBS Records\n",
      "COMPANY RCA\n",
      "COMPANY Virgin records\n",
      "COMPANY BMG\n",
      "COMPANY Polydor\n",
      "COMPANY CBS\n",
      "COMPANY Pickwick\n",
      "COMPANY Polydor\n",
      "COMPANY Atlantic\n",
      "COMPANY Mega\n",
      "COMPANY Grammy\n",
      "COMPANY Mucik Master\n",
      "COMPANY Columbia\n",
      "COMPANY Polydor\n",
      "COMPANY WEA\n",
      "COMPANY Island\n",
      "COMPANY A and M\n",
      "COMPANY Siren\n",
      "COMPANY Capitol\n",
      "COMPANY Medley\n",
      "COMPANY DECCA\n",
      "COMPANY Stax Records\n",
      "COMPANY Elektra\n",
      "COMPANY London\n",
      "COMPANY EMI\n"
     ]
    }
   ],
   "source": [
    "xmlfile = \"xmlfiles/cd_catalog.xml\"\n",
    "\n",
    "#create tree object\n",
    "tree = ET.parse(xmlfile)\n",
    "print(tree)\n",
    "\n",
    "#get root element\n",
    "root = tree.getroot()\n",
    "print(root)\n",
    "\n",
    "#getting root attributes\n",
    "print(root.attrib)\n",
    "\n",
    "for item in root.iter():\n",
    "    # print(item.tag)\n",
    "    if item.tag == \"COMPANY\":\n",
    "        print(item.tag,item.text)\n"
   ],
   "metadata": {
    "collapsed": false
   }
  },
  {
   "cell_type": "code",
   "execution_count": 5,
   "outputs": [
    {
     "name": "stdout",
     "output_type": "stream",
     "text": [
      "Bob Dylan : Columbia\n",
      "Bonnie Tyler : CBS Records\n",
      "Dolly Parton : RCA\n",
      "Gary Moore : Virgin records\n",
      "Eros Ramazzotti : BMG\n",
      "Bee Gees : Polydor\n",
      "Dr.Hook : CBS\n",
      "Rod Stewart : Pickwick\n",
      "Andrea Bocelli : Polydor\n",
      "Percy Sledge : Atlantic\n",
      "Savage Rose : Mega\n",
      "Many : Grammy\n",
      "Kenny Rogers : Mucik Master\n",
      "Will Smith : Columbia\n",
      "Van Morrison : Polydor\n",
      "Jorn Hoel : WEA\n",
      "Cat Stevens : Island\n",
      "Sam Brown : A and M\n",
      "T'Pau : Siren\n",
      "Tina Turner : Capitol\n",
      "Kim Larsen : Medley\n",
      "Luciano Pavarotti : DECCA\n",
      "Otis Redding : Stax Records\n",
      "Simply Red : Elektra\n",
      "The Communards : London\n",
      "Joe Cocker : EMI\n"
     ]
    }
   ],
   "source": [
    "#create empty lists to store artists and company names\n",
    "list_artist = []\n",
    "list_company = []\n",
    "\n",
    "#create list of the artist names and comany names\n",
    "for item in root.iter():\n",
    "    if item.tag == \"ARTIST\":\n",
    "        list_artist.append(item.text)\n",
    "    if item.tag == \"COMPANY\":\n",
    "        list_company.append(item.text)\n",
    "\n",
    "#zip the dictionaries\n",
    "dict_artistCompany = dict(zip(list_artist,list_company))\n",
    "# print(dict_artistCompany)\n",
    "for key,values in dict_artistCompany.items():\n",
    "    print(key,\":\",values)"
   ],
   "metadata": {
    "collapsed": false
   }
  },
  {
   "cell_type": "code",
   "execution_count": 6,
   "outputs": [
    {
     "name": "stdout",
     "output_type": "stream",
     "text": [
      "defaultdict(<function <lambda> at 0x7f860dbbbce0>, {'CD': defaultdict(<class 'list'>, {'TITLE': ['Empire Burlesque', 'Hide your heart', 'Greatest Hits', 'Still got the blues', 'Eros', 'One night only', 'Sylvias Mother', 'Maggie May', 'Romanza', 'When a man loves a woman', 'Black angel', '1999 Grammy Nominees', 'For the good times', 'Big Willie style', 'Tupelo Honey', 'Soulsville', 'The very best of', 'Stop', 'Bridge of Spies', 'Private Dancer', 'Midt om natten', 'Pavarotti Gala Concert', 'The dock of the bay', 'Picture book', 'Red', 'Unchain my heart'], 'ARTIST': ['Bob Dylan', 'Bonnie Tyler', 'Dolly Parton', 'Gary Moore', 'Eros Ramazzotti', 'Bee Gees', 'Dr.Hook', 'Rod Stewart', 'Andrea Bocelli', 'Percy Sledge', 'Savage Rose', 'Many', 'Kenny Rogers', 'Will Smith', 'Van Morrison', 'Jorn Hoel', 'Cat Stevens', 'Sam Brown', \"T'Pau\", 'Tina Turner', 'Kim Larsen', 'Luciano Pavarotti', 'Otis Redding', 'Simply Red', 'The Communards', 'Joe Cocker'], 'COUNTRY': ['USA', 'UK', 'USA', 'UK', 'EU', 'UK', 'UK', 'UK', 'EU', 'USA', 'EU', 'USA', 'UK', 'USA', 'UK', 'Norway', 'UK', 'UK', 'UK', 'UK', 'EU', 'UK', 'USA', 'EU', 'UK', 'USA'], 'COMPANY': ['Columbia', 'CBS Records', 'RCA', 'Virgin records', 'BMG', 'Polydor', 'CBS', 'Pickwick', 'Polydor', 'Atlantic', 'Mega', 'Grammy', 'Mucik Master', 'Columbia', 'Polydor', 'WEA', 'Island', 'A and M', 'Siren', 'Capitol', 'Medley', 'DECCA', 'Stax Records', 'Elektra', 'London', 'EMI'], 'PRICE': ['10.90', '9.90', '9.90', '10.20', '9.90', '10.90', '8.10', '8.50', '10.80', '8.70', '10.90', '10.20', '8.70', '9.90', '8.20', '7.90', '8.90', '8.90', '7.90', '8.90', '7.80', '9.90', '7.90', '7.20', '7.80', '8.20'], 'YEAR': ['1985', '1988', '1982', '1990', '1997', '1998', '1973', '1990', '1996', '1987', '1995', '1999', '1995', '1997', '1971', '1996', '1990', '1988', '1987', '1983', '1983', '1991', '1968', '1985', '1987', '1987']})})\n",
      "dict_keys(['TITLE', 'ARTIST', 'COUNTRY', 'COMPANY', 'PRICE', 'YEAR'])\n"
     ]
    }
   ],
   "source": [
    "dict_cds = defaultdict(lambda : defaultdict(list))\n",
    "\n",
    "for item in root.iter():\n",
    "    if item.tag == \"TITLE\":\n",
    "        dict_cds[\"CD\"][str(item.tag)].append(item.text)\n",
    "    if item.tag == \"ARTIST\":\n",
    "        dict_cds[\"CD\"][\"ARTIST\"].append(item.text)\n",
    "    if item.tag == \"COUNTRY\":\n",
    "        dict_cds[\"CD\"][\"COUNTRY\"].append(item.text)\n",
    "    if item.tag == \"COMPANY\":\n",
    "        dict_cds[\"CD\"][\"COMPANY\"].append(item.text)\n",
    "    if item.tag == \"PRICE\":\n",
    "        dict_cds[\"CD\"][\"PRICE\"].append(item.text)\n",
    "    if item.tag == \"YEAR\":\n",
    "        dict_cds[\"CD\"][\"YEAR\"].append(item.text)\n",
    "\n",
    "print(dict_cds)\n",
    "print(dict_cds[\"CD\"].keys())"
   ],
   "metadata": {
    "collapsed": false
   }
  },
  {
   "cell_type": "code",
   "execution_count": 7,
   "outputs": [
    {
     "name": "stdout",
     "output_type": "stream",
     "text": [
      "defaultdict(<function <lambda> at 0x7f860d9fc040>, {'CD': defaultdict(<class 'list'>, {'TITLE': ['Empire Burlesque', 'Hide your heart', 'Greatest Hits', 'Still got the blues', 'Eros', 'One night only', 'Sylvias Mother', 'Maggie May', 'Romanza', 'When a man loves a woman', 'Black angel', '1999 Grammy Nominees', 'For the good times', 'Big Willie style', 'Tupelo Honey', 'Soulsville', 'The very best of', 'Stop', 'Bridge of Spies', 'Private Dancer', 'Midt om natten', 'Pavarotti Gala Concert', 'The dock of the bay', 'Picture book', 'Red', 'Unchain my heart'], 'ARTIST': ['Bob Dylan', 'Bonnie Tyler', 'Dolly Parton', 'Gary Moore', 'Eros Ramazzotti', 'Bee Gees', 'Dr.Hook', 'Rod Stewart', 'Andrea Bocelli', 'Percy Sledge', 'Savage Rose', 'Many', 'Kenny Rogers', 'Will Smith', 'Van Morrison', 'Jorn Hoel', 'Cat Stevens', 'Sam Brown', \"T'Pau\", 'Tina Turner', 'Kim Larsen', 'Luciano Pavarotti', 'Otis Redding', 'Simply Red', 'The Communards', 'Joe Cocker'], 'COUNTRY': ['USA', 'UK', 'USA', 'UK', 'EU', 'UK', 'UK', 'UK', 'EU', 'USA', 'EU', 'USA', 'UK', 'USA', 'UK', 'Norway', 'UK', 'UK', 'UK', 'UK', 'EU', 'UK', 'USA', 'EU', 'UK', 'USA'], 'COMPANY': ['Columbia', 'CBS Records', 'RCA', 'Virgin records', 'BMG', 'Polydor', 'CBS', 'Pickwick', 'Polydor', 'Atlantic', 'Mega', 'Grammy', 'Mucik Master', 'Columbia', 'Polydor', 'WEA', 'Island', 'A and M', 'Siren', 'Capitol', 'Medley', 'DECCA', 'Stax Records', 'Elektra', 'London', 'EMI'], 'PRICE': ['10.90', '9.90', '9.90', '10.20', '9.90', '10.90', '8.10', '8.50', '10.80', '8.70', '10.90', '10.20', '8.70', '9.90', '8.20', '7.90', '8.90', '8.90', '7.90', '8.90', '7.80', '9.90', '7.90', '7.20', '7.80', '8.20'], 'YEAR': ['1985', '1988', '1982', '1990', '1997', '1998', '1973', '1990', '1996', '1987', '1995', '1999', '1995', '1997', '1971', '1996', '1990', '1988', '1987', '1983', '1983', '1991', '1968', '1985', '1987', '1987']})})\n",
      "dict_keys(['TITLE', 'ARTIST', 'COUNTRY', 'COMPANY', 'PRICE', 'YEAR'])\n"
     ]
    }
   ],
   "source": [
    "# add all the values of xmlfile to a dictionary\n",
    "dict_cds2 = defaultdict(lambda : defaultdict(list))\n",
    "\n",
    "for item in root.iter():\n",
    "    if item.tag == \"CD\":\n",
    "        for child in item:\n",
    "            dict_cds2[\"CD\"][child.tag].append(child.text)\n",
    "\n",
    "print(dict_cds2)\n",
    "print(dict_cds[\"CD\"].keys())"
   ],
   "metadata": {
    "collapsed": false
   }
  },
  {
   "cell_type": "code",
   "execution_count": 7,
   "outputs": [],
   "source": [],
   "metadata": {
    "collapsed": false
   }
  }
 ],
 "metadata": {
  "kernelspec": {
   "display_name": "Python 3",
   "language": "python",
   "name": "python3"
  },
  "language_info": {
   "codemirror_mode": {
    "name": "ipython",
    "version": 2
   },
   "file_extension": ".py",
   "mimetype": "text/x-python",
   "name": "python",
   "nbconvert_exporter": "python",
   "pygments_lexer": "ipython2",
   "version": "2.7.6"
  }
 },
 "nbformat": 4,
 "nbformat_minor": 0
}
