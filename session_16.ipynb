{
 "cells": [
  {
   "cell_type": "code",
   "execution_count": null,
   "id": "b103bb97",
   "metadata": {},
   "outputs": [],
   "source": [
    "from bs4 import BeautifulSoup\n",
    "import xml.etree.ElementTree as ET\n",
    "import urllib.request\n",
    "import time\n",
    "import random, os, glob,json\n",
    "import matplotlib.pyplot as plt\n",
    "from wordcloud import WordCloud, STOPWORDS \n"
   ]
  },
  {
   "cell_type": "code",
   "execution_count": null,
   "id": "aa293004",
   "metadata": {},
   "outputs": [],
   "source": [
    "\n",
    "def generate_wordcloud(text): \n",
    "\n",
    "    # optionally add: stopwords=STOPWORDS and change the arg below\n",
    "    # OR provide the stop words as a list\n",
    "\n",
    "    #for mac/linux users\n",
    "    print(STOPWORDS)\n",
    "    # wordcloud = WordCloud(font_path='/Library/Fonts/Microsoft/Verdana.ttf', colormap=plt.cm.Reds, stopwords = STOPWORDS, background_color = 'white',\n",
    "    #width = 1200, height = 1000).generate(str(text))\n",
    "    #for windows users\n",
    "\n",
    "    wordcloud = WordCloud(font_path=r'C:\\Windows\\Fonts\\Verdana.ttf',colormap=plt.cm.jet,stopwords = STOPWORDS, background_color = 'white',\n",
    "                            width = 1200,\n",
    "                            height = 1000).generate_from_text(str(text))\n",
    "\n",
    "    plt.imshow(wordcloud) #image magic show\n",
    "    plt.axis(\"off\")\n",
    "    plt.show()\n",
    "\n",
    "text_in = \"Spring batch of BMS Students\"\n",
    "generate_wordcloud(text_in)"
   ]
  },
  {
   "cell_type": "code",
   "execution_count": null,
   "id": "563b1a3f",
   "metadata": {},
   "outputs": [],
   "source": [
    "def extract_text_business_standard(sourcedir) :\n",
    "\n",
    "    htmlfiles = glob.glob(sourcedir+'*')\n",
    "\n",
    "    for newsfiles in htmlfiles :\n",
    "        print(newsfiles)\n",
    "\n",
    "        file1 = open(newsfiles, 'r')\n",
    "\n",
    "        soup2 = BeautifulSoup(file1, \"lxml\")\n",
    "\n",
    "        ### this will give me the data loaded in json\n",
    "        scriptldjson = soup2('script',{'type':'application/ld+json'})\n",
    "\n",
    "        ### get the text part of the script application so as to load into json\n",
    "        ### Remove the leading and trailing empty spaces in the text using strip() function\n",
    "        #The unicode_escape codec to decode the string, removing any escape sequences in the process.\n",
    "        \n",
    "        jsontextvar = scriptldjson[2].contents[0].replace('\\\\r\\\\n','\\r\\n').encode('utf-8').decode('unicode_escape')\n",
    "\n",
    "        #with strict=False statement I ignore the \"\\r\" and \"\\n\"\n",
    "        #\\r is for carriage return\n",
    "        #\\n is the newline\n",
    "\n",
    "        loadjsonvar = json.loads(jsontextvar,strict=False)\n",
    "\n",
    "        articlebody = loadjsonvar['articleBody']\n",
    "        articleauthor = loadjsonvar['author']\n",
    "\n",
    "        print(articleauthor, articlebody)\n",
    "        #the .replace('\\n','') ensures that the text data is now devoid of any newlines space\n",
    "        \n",
    "        text_article_body = articlebody.strip().replace('\\n','').replace('ldquo','').replace('rdquo','').replace('&;','')\n",
    "        print(text_article_body)\n",
    "\n",
    "        frequency_words = WordCloud().process_text(text_article_body)\n",
    "        print(frequency_words)\n",
    "\n",
    "        generate_wordcloud(text_article_body)\n",
    "\n",
    "#         wordcloud = WordCloud()\n",
    "#         wordcloud.generate_from_frequencies(frequencies=frequency_words)\n",
    "#         plt.figure()\n",
    "#         plt.imshow(wordcloud)\n",
    "#         plt.axis(\"off\")\n",
    "#         plt.show()\n",
    "        \n",
    "sourcedir = '../spring2023_dom305_webscraping/BuzStd_news_items_2/'\n",
    "extract_text_business_standard(sourcedir)"
   ]
  },
  {
   "cell_type": "code",
   "execution_count": null,
   "id": "d27f213c",
   "metadata": {},
   "outputs": [],
   "source": []
  }
 ],
 "metadata": {
  "kernelspec": {
   "display_name": "Python 3 (ipykernel)",
   "language": "python",
   "name": "python3"
  },
  "language_info": {
   "codemirror_mode": {
    "name": "ipython",
    "version": 3
   },
   "file_extension": ".py",
   "mimetype": "text/x-python",
   "name": "python",
   "nbconvert_exporter": "python",
   "pygments_lexer": "ipython3",
   "version": "3.11.2"
  }
 },
 "nbformat": 4,
 "nbformat_minor": 5
}
