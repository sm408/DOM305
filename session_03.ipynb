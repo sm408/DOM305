{
 "cells": [
  {
   "cell_type": "code",
   "execution_count": 1,
   "id": "135cc745",
   "metadata": {
    "pycharm": {
     "name": "#%%\n"
    }
   },
   "outputs": [
    {
     "name": "stdout",
     "output_type": "stream",
     "text": [
      "dict_items([('student1', 34), ('student2', 45)])\n",
      "student1 34\n",
      "student2 45\n",
      "student1 34\n",
      "student2 45\n"
     ]
    }
   ],
   "source": [
    "dictionary_ex_1 = {\"student1\":34, \"student2\":45}\n",
    "print(dictionary_ex_1.items())\n",
    "\n",
    "for keys, values in dictionary_ex_1.items() :\n",
    "    print(keys, values)\n",
    "\n",
    "for keys in dictionary_ex_1:\n",
    "    print(keys, dictionary_ex_1[keys])"
   ]
  },
  {
   "cell_type": "code",
   "execution_count": 2,
   "id": "f0147900",
   "metadata": {
    "pycharm": {
     "name": "#%%\n"
    }
   },
   "outputs": [
    {
     "name": "stdout",
     "output_type": "stream",
     "text": [
      "{'student1': {'Semester1': 56, 'Semester2': 75}}\n",
      "56\n"
     ]
    }
   ],
   "source": [
    "# nested dictionary (multiple levels of dictionary)\n",
    "dictionary_nested_ex_1 = {\"student1\":{\"Semester1\":56, \"Semester2\":75}}\n",
    "print(dictionary_nested_ex_1)\n",
    "print(dictionary_nested_ex_1['student1']['Semester1'])\n"
   ]
  },
  {
   "cell_type": "code",
   "execution_count": 3,
   "id": "9ea04a49",
   "metadata": {
    "pycharm": {
     "name": "#%%\n"
    }
   },
   "outputs": [
    {
     "name": "stdout",
     "output_type": "stream",
     "text": [
      "{'student1': {'Semester1': 56, 'Semester2': 75}, 'student2': {'Semester1': 87, 'Semester2': 99}, 'student3': {'Semester1': 68, 'Semester2': 76}}\n"
     ]
    }
   ],
   "source": [
    "dictionary_nested_ex_2 = {\"student1\":{\"Semester1\":56, \"Semester2\":75}, \"student2\":{\"Semester1\":87, \"Semester2\":99}, \"student3\":{\"Semester1\":68, \"Semester2\":76}}\n",
    "print(dictionary_nested_ex_2)"
   ]
  },
  {
   "cell_type": "code",
   "execution_count": 4,
   "id": "f97e1ba2",
   "metadata": {
    "pycharm": {
     "name": "#%%\n"
    }
   },
   "outputs": [
    {
     "name": "stdout",
     "output_type": "stream",
     "text": [
      "56\n",
      "75\n",
      "87\n",
      "99\n",
      "68\n",
      "76\n",
      "[56, 75, 87, 99, 68, 76]\n"
     ]
    }
   ],
   "source": [
    "#Question is How should we get the numerical values in the dictionary above\n",
    "list_vals_scores = [] #I am creating an empty list\n",
    "for keys1 in dictionary_nested_ex_2:\n",
    "#     print(keys1)\n",
    "    for keys2 in dictionary_nested_ex_2[keys1]:\n",
    "#         print(keys2, dictionary_nested_ex_2[keys1][keys2])\n",
    "        print(dictionary_nested_ex_2[keys1][keys2])\n",
    "        list_vals_scores.append(dictionary_nested_ex_2[keys1][keys2])\n",
    "\n",
    "print(list_vals_scores)"
   ]
  },
  {
   "cell_type": "code",
   "execution_count": 5,
   "id": "5a5eda04",
   "metadata": {
    "pycharm": {
     "name": "#%%\n"
    }
   },
   "outputs": [
    {
     "name": "stdout",
     "output_type": "stream",
     "text": [
      "[65, 45, 23, 87, 56, 90]\n",
      "[65, 45, 23, 87, 56, 90]\n"
     ]
    }
   ],
   "source": [
    "# Set structure\n",
    "\n",
    "data_input_1 = [23, 45, 56, 87, 23, 87, 65, 90, 45]\n",
    "list_data_uniq = list(set(data_input_1))\n",
    "\n",
    "print(list(set(data_input_1)))\n",
    "print(list_data_uniq)"
   ]
  },
  {
   "cell_type": "code",
   "execution_count": 6,
   "id": "aa84565b",
   "metadata": {
    "pycharm": {
     "name": "#%%\n"
    }
   },
   "outputs": [
    {
     "name": "stdout",
     "output_type": "stream",
     "text": [
      "[23, 23, 45, 45, 56, 65, 87, 87, 90]\n",
      "[90, 87, 87, 65, 56, 45, 45, 23, 23]\n"
     ]
    }
   ],
   "source": [
    "#sort the above list\n",
    "data_input_1.sort(reverse=False)\n",
    "print(data_input_1)\n",
    "\n",
    "#reverse the order\n",
    "data_input_1.reverse()\n",
    "print(data_input_1)"
   ]
  },
  {
   "cell_type": "code",
   "execution_count": 7,
   "id": "f919292c",
   "metadata": {
    "pycharm": {
     "name": "#%%\n"
    }
   },
   "outputs": [
    {
     "name": "stdout",
     "output_type": "stream",
     "text": [
      "23 90 521 57.888888888888886\n"
     ]
    }
   ],
   "source": [
    "#get the minimum value\n",
    "min_val_data_1 = min(data_input_1)\n",
    "\n",
    "#maximum\n",
    "max_val_data_1 = max(data_input_1)\n",
    "\n",
    "#total sum\n",
    "tot_val_data_1 = sum(data_input_1)\n",
    "\n",
    "# average\n",
    "mu_val_data_1 = sum(data_input_1)/len(data_input_1)\n",
    "\n",
    "print(min_val_data_1, max_val_data_1, tot_val_data_1, mu_val_data_1)\n"
   ]
  },
  {
   "cell_type": "code",
   "execution_count": 8,
   "id": "991b9edf",
   "metadata": {
    "pycharm": {
     "name": "#%%\n"
    }
   },
   "outputs": [
    {
     "name": "stdout",
     "output_type": "stream",
     "text": [
      "[1031.1234567901236, 847.4567901234569, 847.4567901234569, 50.56790123456795, 3.567901234567889, 166.12345679012338, 166.12345679012338, 1217.2345679012344, 1217.2345679012344]\n",
      "std. dev 26.331751007312658\n"
     ]
    }
   ],
   "source": [
    "list_stddev_1 = [] #empty list\n",
    "\n",
    "for val in data_input_1:\n",
    "    deviance =  val - mu_val_data_1\n",
    "    variance = deviance*deviance\n",
    "\n",
    "    list_stddev_1.append(variance)\n",
    "stddev = sum(list_stddev_1)/(len(list_stddev_1) - 1)\n",
    "\n",
    "print(list_stddev_1)\n",
    "print(\"std. dev\", stddev**0.5)"
   ]
  },
  {
   "cell_type": "code",
   "execution_count": 9,
   "id": "004601b2",
   "metadata": {
    "pycharm": {
     "name": "#%%\n"
    }
   },
   "outputs": [
    {
     "name": "stdout",
     "output_type": "stream",
     "text": [
      "{'student1': 81.8, 'student2': 70.0}\n"
     ]
    }
   ],
   "source": [
    "dictionary_students_scores = {\"student1\":[67,98,65,90,89], \"student2\":[78,45,87]}\n",
    "#question is give me a new dictionary which will have the mean score as a value\n",
    "\n",
    "dict_student_mu = {} # defining an empty dictionary\n",
    "for keys in dictionary_students_scores:\n",
    "    scores = dictionary_students_scores[keys]\n",
    "    mean_scores = sum(scores)/len(scores)\n",
    "    dict_student_mu[keys]=mean_scores\n",
    "print(dict_student_mu)\n",
    "\n",
    "#{\"student1\":{\"mean\":val_mean, \"std dev\": val_stddev}}"
   ]
  },
  {
   "cell_type": "code",
   "execution_count": 10,
   "id": "d690b695",
   "metadata": {
    "pycharm": {
     "name": "#%%\n"
    }
   },
   "outputs": [
    {
     "name": "stdout",
     "output_type": "stream",
     "text": [
      "defaultdict(<class 'list'>, {})\n",
      "defaultdict(<class 'list'>, {'student1': [67, 98, 65, 90, 89], 'student2': [78, 45, 87]})\n"
     ]
    }
   ],
   "source": [
    "from collections import defaultdict\n",
    "#defining an empty dictionary of list\n",
    "dict_of_list_1 = defaultdict(list)\n",
    "print(dict_of_list_1)\n",
    "\n",
    "for keys in dictionary_students_scores:\n",
    "    values = dictionary_students_scores[keys]\n",
    "    \n",
    "    for v in values:\n",
    "        dict_of_list_1[keys].append(v)\n",
    "print(dict_of_list_1)"
   ]
  },
  {
   "cell_type": "code",
   "execution_count": 10,
   "id": "230cc6ae",
   "metadata": {
    "pycharm": {
     "name": "#%%\n"
    }
   },
   "outputs": [],
   "source": []
  }
 ],
 "metadata": {
  "kernelspec": {
   "display_name": "Python 3 (ipykernel)",
   "language": "python",
   "name": "python3"
  },
  "language_info": {
   "codemirror_mode": {
    "name": "ipython",
    "version": 3
   },
   "file_extension": ".py",
   "mimetype": "text/x-python",
   "name": "python",
   "nbconvert_exporter": "python",
   "pygments_lexer": "ipython3",
   "version": "3.9.10"
  }
 },
 "nbformat": 4,
 "nbformat_minor": 5
}