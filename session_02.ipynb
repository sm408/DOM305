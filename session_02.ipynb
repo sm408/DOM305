{
 "cells": [
  {
   "cell_type": "code",
   "execution_count": 78,
   "id": "29389e4c",
   "metadata": {},
   "outputs": [
    {
     "name": "stdout",
     "output_type": "stream",
     "text": [
      "student1\n",
      "student2\n",
      "student3\n",
      "student4\n"
     ]
    }
   ],
   "source": [
    "list_of_students = [\"student1\", \"student2\", \"student3\", \"student4\"]\n",
    "# start with creating the for loop\n",
    "\n",
    "for k in list_of_students:\n",
    "    print(k)"
   ]
  },
  {
   "cell_type": "code",
   "execution_count": 79,
   "id": "5f8a4e2a",
   "metadata": {},
   "outputs": [
    {
     "name": "stdout",
     "output_type": "stream",
     "text": [
      "[('student1', 80), ('student2', 65), ('student3', 78), ('student4', 84)]\n"
     ]
    }
   ],
   "source": [
    "list_of_scores = [80, 65, 78, 84]\n",
    "list_students_score = list(zip(list_of_students, list_of_scores))\n",
    "print(list_students_score)"
   ]
  },
  {
   "cell_type": "code",
   "execution_count": 80,
   "id": "5376a00c",
   "metadata": {},
   "outputs": [
    {
     "name": "stdout",
     "output_type": "stream",
     "text": [
      "student1 80\n",
      "student2 65\n",
      "student3 78\n",
      "student4 84\n"
     ]
    }
   ],
   "source": [
    "#creating a for loop of the above list of tuples - method 1\n",
    "\n",
    "for (p, q) in list_students_score :\n",
    "    print(p,q)"
   ]
  },
  {
   "cell_type": "code",
   "execution_count": 81,
   "id": "208bb39d",
   "metadata": {},
   "outputs": [
    {
     "name": "stdout",
     "output_type": "stream",
     "text": [
      "student1 80\n",
      "student2 65\n",
      "student3 78\n",
      "student4 84\n"
     ]
    }
   ],
   "source": [
    "#method 2\n",
    "for k in list_students_score :\n",
    "    print(k[0], k[1])"
   ]
  },
  {
   "cell_type": "code",
   "execution_count": 82,
   "id": "4a079b3f",
   "metadata": {},
   "outputs": [
    {
     "name": "stdout",
     "output_type": "stream",
     "text": [
      "[('student1', 80, 'A'), ('student2', 65, 'B'), ('student3', 78, 'A-'), ('student4', 84, 'A')]\n"
     ]
    }
   ],
   "source": [
    "list_of_grades = [\"A\", \"B\", \"A-\", \"A\"]\n",
    "list_students_score_grades = list(zip(list_of_students, list_of_scores, list_of_grades))\n",
    "print(list_students_score_grades)"
   ]
  },
  {
   "cell_type": "code",
   "execution_count": 83,
   "id": "82b62ac2",
   "metadata": {},
   "outputs": [
    {
     "name": "stdout",
     "output_type": "stream",
     "text": [
      "[(('student1', 80), 'A'), (('student2', 65), 'B'), (('student3', 78), 'A-'), (('student4', 84), 'A')]\n"
     ]
    }
   ],
   "source": [
    "list_students_score_grades2 = list(zip(list_students_score, list_of_grades))\n",
    "print(list_students_score_grades2)\n",
    "# the above will give you a nested structure"
   ]
  },
  {
   "cell_type": "code",
   "execution_count": 84,
   "id": "0362ec85",
   "metadata": {},
   "outputs": [
    {
     "name": "stdout",
     "output_type": "stream",
     "text": [
      "student1 80 A\n",
      "student2 65 B\n",
      "student3 78 A-\n",
      "student4 84 A\n"
     ]
    }
   ],
   "source": [
    "# for (a, b, c) in list_students_score_grades:\n",
    "#     print(a,b,c)\n",
    "\n",
    "for k in list_students_score_grades:\n",
    "    print(k[0],k[1],k[2])"
   ]
  },
  {
   "cell_type": "code",
   "execution_count": 85,
   "id": "2933a582",
   "metadata": {},
   "outputs": [
    {
     "name": "stdout",
     "output_type": "stream",
     "text": [
      "student1 80 A\n",
      "student2 65 B\n",
      "student3 78 A-\n",
      "student4 84 A\n"
     ]
    }
   ],
   "source": [
    "for k in list_students_score_grades2:\n",
    "    print(k[0][0], k[0][1], k[1])"
   ]
  },
  {
   "cell_type": "code",
   "execution_count": 86,
   "id": "9aefab7c",
   "metadata": {},
   "outputs": [
    {
     "name": "stdout",
     "output_type": "stream",
     "text": [
      "['student1', 'student2', 'student3', 'student4', 'student5', 'student6']\n"
     ]
    }
   ],
   "source": [
    "#extending a list\n",
    "list_of_new_students = [\"student5\", \"student6\"]\n",
    "list_of_students.extend(list_of_new_students)\n",
    "print(list_of_students)\n"
   ]
  },
  {
   "cell_type": "code",
   "execution_count": 87,
   "id": "2ff5f680",
   "metadata": {},
   "outputs": [
    {
     "name": "stdout",
     "output_type": "stream",
     "text": [
      "['student1', 'student2', 'student3', 'student4', 'student5', 'student6', ['student8', 'student11']]\n"
     ]
    }
   ],
   "source": [
    "#appending a list\n",
    "list_new_2 = [\"student8\", \"student11\"]\n",
    "list_of_students.append(list_new_2)\n",
    "print(list_of_students)"
   ]
  },
  {
   "cell_type": "code",
   "execution_count": 88,
   "id": "508fa360",
   "metadata": {},
   "outputs": [
    {
     "name": "stdout",
     "output_type": "stream",
     "text": [
      "[9, 10, 23, 34]\n",
      "9\n",
      "9\n"
     ]
    }
   ],
   "source": [
    "# nested list structures of level 2\n",
    "list_nest_ex_1 = [[9,10,23,34],[35,2,4],[0,10,12,65],[9,11,34]]\n",
    "\n",
    "#print first list:\n",
    "print(list_nest_ex_1[0])\n",
    "\n",
    "#print the first element of the first list\n",
    "print(list_nest_ex_1[0][0])\n",
    "\n",
    "print(list_nest_ex_1[-1][0])\n",
    "\n",
    "\n",
    "# list_nest_ex_2 = [[[],[]],[[],[],[]],[[],[]],[[],[],[]]]\n"
   ]
  },
  {
   "cell_type": "code",
   "execution_count": 89,
   "id": "ff4cf724",
   "metadata": {},
   "outputs": [
    {
     "name": "stdout",
     "output_type": "stream",
     "text": [
      "dict_items([('student1', 80), ('student2', 65), ('student3', 78), ('student4', 84)])\n",
      "dict_keys(['student1', 'student2', 'student3', 'student4'])\n",
      "dict_values([80, 65, 78, 84])\n"
     ]
    }
   ],
   "source": [
    "#re-start with dictionary\n",
    "list_stud_01 = [\"student1\", \"student2\", \"student3\", \"student4\"]\n",
    "dictionary_stud_01 = dict(zip(list_stud_01, list_of_scores))\n",
    "\n",
    "# print(dictionary_stud_01)\n",
    "print(dictionary_stud_01.items())\n",
    "print(dictionary_stud_01.keys())\n",
    "print(dictionary_stud_01.values())\n"
   ]
  },
  {
   "cell_type": "code",
   "execution_count": 90,
   "id": "21c48b5c",
   "metadata": {},
   "outputs": [
    {
     "name": "stdout",
     "output_type": "stream",
     "text": [
      "student1 80\n",
      "student2 65\n",
      "student3 78\n",
      "student4 84\n"
     ]
    }
   ],
   "source": [
    "#creating the for loop for the above dictionary:\n",
    "for keys in dictionary_stud_01:\n",
    "    print(keys, dictionary_stud_01[keys])\n",
    "    "
   ]
  },
  {
   "cell_type": "code",
   "execution_count": 91,
   "id": "6d18a7f2",
   "metadata": {},
   "outputs": [
    {
     "ename": "KeyError",
     "evalue": "'student5'",
     "output_type": "error",
     "traceback": [
      "\u001B[0;31m---------------------------------------------------------------------------\u001B[0m",
      "\u001B[0;31mKeyError\u001B[0m                                  Traceback (most recent call last)",
      "Cell \u001B[0;32mIn[91], line 1\u001B[0m\n\u001B[0;32m----> 1\u001B[0m \u001B[38;5;28mprint\u001B[39m(\u001B[43mdictionary_stud_01\u001B[49m\u001B[43m[\u001B[49m\u001B[38;5;124;43m'\u001B[39;49m\u001B[38;5;124;43mstudent5\u001B[39;49m\u001B[38;5;124;43m'\u001B[39;49m\u001B[43m]\u001B[49m) \u001B[38;5;66;03m#this will be giving us KeyError\u001B[39;00m\n",
      "\u001B[0;31mKeyError\u001B[0m: 'student5'"
     ]
    }
   ],
   "source": [
    "print(dictionary_stud_01['student5']) #this will be giving us KeyError\n"
   ]
  },
  {
   "cell_type": "code",
   "execution_count": 92,
   "id": "640ca46d",
   "metadata": {},
   "outputs": [
    {
     "name": "stdout",
     "output_type": "stream",
     "text": [
      "['student5', 'student2', 'student3', 'student4']\n",
      "{'student1': 80, 'student2': 65, 'student3': 78, 'student4': 84}\n",
      "{'student5': 80, 'student2': 65, 'student3': 78, 'student4': 84}\n"
     ]
    }
   ],
   "source": [
    "list_stud_01[0] = \"student5\"\n",
    "print(list_stud_01)\n",
    "print(dictionary_stud_01)\n",
    "dictionary_stud_02 = dict(zip(list_stud_01, list_of_scores))\n",
    "print(dictionary_stud_02)\n",
    "\n"
   ]
  },
  {
   "cell_type": "code",
   "execution_count": 93,
   "id": "fe767611",
   "metadata": {},
   "outputs": [
    {
     "name": "stdout",
     "output_type": "stream",
     "text": [
      "{'student5': [9, 10, 23, 34], 'student2': [35, 2, 4], 'student3': [0, 10, 12, 65], 'student4': [9, 11, 34]}\n"
     ]
    }
   ],
   "source": [
    "dictionary_stud_vals = dict(zip(list_stud_01, list_nest_ex_1))\n",
    "\n",
    "print(dictionary_stud_vals)"
   ]
  },
  {
   "cell_type": "code",
   "execution_count": 94,
   "id": "f32703da",
   "metadata": {},
   "outputs": [
    {
     "name": "stdout",
     "output_type": "stream",
     "text": [
      "[('student5', [9, 10, 23, 34]), ('student2', [35, 2, 4]), ('student3', [0, 10, 12, 65]), ('student4', [9, 11, 34])]\n"
     ]
    }
   ],
   "source": [
    "print(list(zip(list_stud_01, list_nest_ex_1)))"
   ]
  },
  {
   "cell_type": "code",
   "execution_count": 95,
   "id": "62645135",
   "metadata": {},
   "outputs": [
    {
     "name": "stdout",
     "output_type": "stream",
     "text": [
      "34\n"
     ]
    },
    {
     "ename": "IndexError",
     "evalue": "list index out of range",
     "output_type": "error",
     "traceback": [
      "\u001B[0;31m---------------------------------------------------------------------------\u001B[0m",
      "\u001B[0;31mIndexError\u001B[0m                                Traceback (most recent call last)",
      "Cell \u001B[0;32mIn[95], line 3\u001B[0m\n\u001B[1;32m      1\u001B[0m \u001B[38;5;66;03m#question: what about the unequal length of the second element in the tuple\u001B[39;00m\n\u001B[1;32m      2\u001B[0m \u001B[38;5;28;01mfor\u001B[39;00m k \u001B[38;5;129;01min\u001B[39;00m \u001B[38;5;28mlist\u001B[39m(\u001B[38;5;28mzip\u001B[39m(list_stud_01, list_nest_ex_1)):\n\u001B[0;32m----> 3\u001B[0m     \u001B[38;5;28mprint\u001B[39m(\u001B[43mk\u001B[49m\u001B[43m[\u001B[49m\u001B[38;5;241;43m1\u001B[39;49m\u001B[43m]\u001B[49m\u001B[43m[\u001B[49m\u001B[38;5;241;43m3\u001B[39;49m\u001B[43m]\u001B[49m)\n\u001B[1;32m      5\u001B[0m \u001B[38;5;66;03m# Use of try and exception command while dealing with errors\u001B[39;00m\n\u001B[1;32m      6\u001B[0m \u001B[38;5;124;03m\"\"\"\u001B[39;00m\n\u001B[1;32m      7\u001B[0m \u001B[38;5;124;03mtry:\u001B[39;00m\n\u001B[1;32m      8\u001B[0m \u001B[38;5;124;03m    a = b\u001B[39;00m\n\u001B[1;32m      9\u001B[0m \u001B[38;5;124;03mexcept IndexError:\u001B[39;00m\n\u001B[1;32m     10\u001B[0m \u001B[38;5;124;03m    continue\u001B[39;00m\n\u001B[1;32m     11\u001B[0m \u001B[38;5;124;03m\"\"\"\u001B[39;00m\n",
      "\u001B[0;31mIndexError\u001B[0m: list index out of range"
     ]
    }
   ],
   "source": [
    "#question: what about the unequal length of the second element in the tuple\n",
    "for k in list(zip(list_stud_01, list_nest_ex_1)):\n",
    "    print(k[1][3])\n",
    "    \n",
    "# Use of try and exception command while dealing with errors\n",
    "\"\"\"\n",
    "try:\n",
    "    a = b\n",
    "except IndexError:\n",
    "    continue\n",
    "\"\"\""
   ]
  },
  {
   "cell_type": "code",
   "execution_count": null,
   "id": "f55bb30a",
   "metadata": {},
   "outputs": [],
   "source": []
  }
 ],
 "metadata": {
  "kernelspec": {
   "display_name": "Python 3 (ipykernel)",
   "language": "python",
   "name": "python3"
  },
  "language_info": {
   "codemirror_mode": {
    "name": "ipython",
    "version": 3
   },
   "file_extension": ".py",
   "mimetype": "text/x-python",
   "name": "python",
   "nbconvert_exporter": "python",
   "pygments_lexer": "ipython3",
   "version": "3.9.10"
  }
 },
 "nbformat": 4,
 "nbformat_minor": 5
}
