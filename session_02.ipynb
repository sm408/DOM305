{
 "cells": [
  {
   "cell_type": "code",
   "execution_count": null,
   "id": "29389e4c",
   "metadata": {},
   "outputs": [],
   "source": [
    "list_of_students = [\"student1\", \"student2\", \"student3\", \"student4\"]\n",
    "# start with creating the for loop\n",
    "\n",
    "for k in list_of_students:\n",
    "    print(k)"
   ]
  },
  {
   "cell_type": "code",
   "execution_count": null,
   "id": "5f8a4e2a",
   "metadata": {},
   "outputs": [],
   "source": [
    "list_of_scores = [80, 65, 78, 84]\n",
    "list_students_score = list(zip(list_of_students, list_of_scores))\n",
    "print(list_students_score)"
   ]
  },
  {
   "cell_type": "code",
   "execution_count": null,
   "id": "5376a00c",
   "metadata": {},
   "outputs": [],
   "source": [
    "#creating a for loop of the above list of tuples - method 1\n",
    "\n",
    "for (p, q) in list_students_score :\n",
    "    print(p,q)"
   ]
  },
  {
   "cell_type": "code",
   "execution_count": null,
   "id": "208bb39d",
   "metadata": {},
   "outputs": [],
   "source": [
    "#method 2\n",
    "for k in list_students_score :\n",
    "    print(k[0], k[1])"
   ]
  },
  {
   "cell_type": "code",
   "execution_count": null,
   "id": "4a079b3f",
   "metadata": {},
   "outputs": [],
   "source": [
    "list_of_grades = [\"A\", \"B\", \"A-\", \"A\"]\n",
    "list_students_score_grades = list(zip(list_of_students, list_of_scores, list_of_grades))\n",
    "print(list_students_score_grades)"
   ]
  },
  {
   "cell_type": "code",
   "execution_count": null,
   "id": "82b62ac2",
   "metadata": {},
   "outputs": [],
   "source": [
    "list_students_score_grades2 = list(zip(list_students_score, list_of_grades))\n",
    "print(list_students_score_grades2)\n",
    "# the above will give you a nested structure"
   ]
  },
  {
   "cell_type": "code",
   "execution_count": null,
   "id": "0362ec85",
   "metadata": {},
   "outputs": [],
   "source": [
    "# for (a, b, c) in list_students_score_grades:\n",
    "#     print(a,b,c)\n",
    "\n",
    "for k in list_students_score_grades:\n",
    "    print(k[0],k[1],k[2])"
   ]
  },
  {
   "cell_type": "code",
   "execution_count": null,
   "id": "2933a582",
   "metadata": {},
   "outputs": [],
   "source": [
    "for k in list_students_score_grades2:\n",
    "    print(k[0][0], k[0][1], k[1])"
   ]
  },
  {
   "cell_type": "code",
   "execution_count": null,
   "id": "9aefab7c",
   "metadata": {},
   "outputs": [],
   "source": [
    "#extending a list\n",
    "list_of_new_students = [\"student5\", \"student6\"]\n",
    "list_of_students.extend(list_of_new_students)\n",
    "print(list_of_students)\n"
   ]
  },
  {
   "cell_type": "code",
   "execution_count": null,
   "id": "2ff5f680",
   "metadata": {},
   "outputs": [],
   "source": [
    "#appending a list\n",
    "list_new_2 = [\"student8\", \"student11\"]\n",
    "list_of_students.append(list_new_2)\n",
    "print(list_of_students)"
   ]
  },
  {
   "cell_type": "code",
   "execution_count": null,
   "id": "508fa360",
   "metadata": {},
   "outputs": [],
   "source": [
    "# nested list structures of level 2\n",
    "list_nest_ex_1 = [[9,10,23,34],[35,2,4],[0,10,12,65],[9,11,34]]\n",
    "\n",
    "#print first list:\n",
    "print(list_nest_ex_1[0])\n",
    "\n",
    "#print the first element of the first list\n",
    "print(list_nest_ex_1[0][0])\n",
    "\n",
    "print(list_nest_ex_1[-1][0])\n",
    "\n",
    "\n",
    "# list_nest_ex_2 = [[[],[]],[[],[],[]],[[],[]],[[],[],[]]]\n"
   ]
  },
  {
   "cell_type": "code",
   "execution_count": null,
   "id": "ff4cf724",
   "metadata": {},
   "outputs": [],
   "source": [
    "#re-start with dictionary\n",
    "list_stud_01 = [\"student1\", \"student2\", \"student3\", \"student4\"]\n",
    "dictionary_stud_01 = dict(zip(list_stud_01, list_of_scores))\n",
    "\n",
    "# print(dictionary_stud_01)\n",
    "print(dictionary_stud_01.items())\n",
    "print(dictionary_stud_01.keys())\n",
    "print(dictionary_stud_01.values())\n"
   ]
  },
  {
   "cell_type": "code",
   "execution_count": null,
   "id": "21c48b5c",
   "metadata": {},
   "outputs": [],
   "source": [
    "#creating the for loop for the above dictionary:\n",
    "for keys in dictionary_stud_01:\n",
    "    print(keys, dictionary_stud_01[keys])\n",
    "    "
   ]
  },
  {
   "cell_type": "code",
   "execution_count": null,
   "id": "6d18a7f2",
   "metadata": {},
   "outputs": [],
   "source": [
    "print(dictionary_stud_01['student5']) #this will be giving us KeyError\n"
   ]
  },
  {
   "cell_type": "code",
   "execution_count": null,
   "id": "640ca46d",
   "metadata": {},
   "outputs": [],
   "source": [
    "list_stud_01[0] = \"student5\"\n",
    "print(list_stud_01)\n",
    "print(dictionary_stud_01)\n",
    "dictionary_stud_02 = dict(zip(list_stud_01, list_of_scores))\n",
    "print(dictionary_stud_02)"
   ]
  },
  {
   "cell_type": "code",
   "execution_count": null,
   "id": "fe767611",
   "metadata": {},
   "outputs": [],
   "source": [
    "dictionary_stud_vals = dict(zip(list_stud_01, list_nest_ex_1))\n",
    "\n",
    "print(dictionary_stud_vals)"
   ]
  },
  {
   "cell_type": "code",
   "execution_count": null,
   "id": "f32703da",
   "metadata": {},
   "outputs": [],
   "source": [
    "print(list(zip(list_stud_01, list_nest_ex_1)))"
   ]
  },
  {
   "cell_type": "code",
   "execution_count": null,
   "id": "62645135",
   "metadata": {},
   "outputs": [],
   "source": [
    "#question: what about the unequal length of the second element in the tuple\n",
    "for k in list(zip(list_stud_01, list_nest_ex_1)):\n",
    "    print(k[1][3])\n",
    "    \n",
    "# Use of try and exception command while dealing with errors\n",
    "\"\"\"\n",
    "try:\n",
    "    a = b\n",
    "except IndexError:\n",
    "    continue\n",
    "\"\"\""
   ]
  },
  {
   "cell_type": "code",
   "execution_count": null,
   "id": "f55bb30a",
   "metadata": {},
   "outputs": [],
   "source": []
  }
 ],
 "metadata": {
  "kernelspec": {
   "display_name": "Python 3 (ipykernel)",
   "language": "python",
   "name": "python3"
  },
  "language_info": {
   "codemirror_mode": {
    "name": "ipython",
    "version": 3
   },
   "file_extension": ".py",
   "mimetype": "text/x-python",
   "name": "python",
   "nbconvert_exporter": "python",
   "pygments_lexer": "ipython3",
   "version": "3.9.10"
  }
 },
 "nbformat": 4,
 "nbformat_minor": 5
}
