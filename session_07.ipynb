{
 "cells": [
  {
   "cell_type": "code",
   "execution_count": 1,
   "metadata": {
    "collapsed": true
   },
   "outputs": [],
   "source": [
    "import pandas as pd\n",
    "import numpy as np\n",
    "import glob\n",
    "from _collections import defaultdict"
   ]
  },
  {
   "cell_type": "code",
   "execution_count": 2,
   "outputs": [
    {
     "name": "stdout",
     "output_type": "stream",
     "text": [
      "['csv_for_glob/Tab_7.3.1_outlay_expenditure.csv', 'csv_for_glob/Tab_7.3.3_outlay_expenditure.csv', 'csv_for_glob/Tab_7.3.4_outlay_expenditure.csv', 'csv_for_glob/Tab_7.3.5_outlay_expenditure.csv', 'csv_for_glob/Tab_7.3.6_outlay_expenditure.csv']\n"
     ]
    }
   ],
   "source": [
    "\"\"\"\n",
    "Reading multiple files using glob module\n",
    "\"\"\"\n",
    "\n",
    "filelist = glob.glob(\"csv_for_glob/*.csv\")\n",
    "filelist.sort()\n",
    "print(filelist)"
   ],
   "metadata": {
    "collapsed": false
   }
  },
  {
   "cell_type": "code",
   "execution_count": 6,
   "outputs": [
    {
     "name": "stdout",
     "output_type": "stream",
     "text": [
      "\n",
      "csv_for_glob/Tab_7.3.1_outlay_expenditure.csv\n",
      "Index(['State/UTs', 'Agriculture and Allied Activities', 'Rural Development',\n",
      "       'Special Area Programmes', 'Irrigation and Flood Control', 'Energy',\n",
      "       'Industry and Minerals', 'Transport',\n",
      "       'Science Technology and Environment', 'General Economic Services',\n",
      "       'Social Services', 'General Services', 'Total'],\n",
      "      dtype='object')\n",
      "\n",
      "csv_for_glob/Tab_7.3.3_outlay_expenditure.csv\n",
      "Index(['State/UTs', 'Agriculture and Allied Activities', 'Rural Development',\n",
      "       'Special Area Programmes', 'Irrigation and Flood Control', 'Energy',\n",
      "       'Industry and Minerals', 'Transport',\n",
      "       'Science Technology and Environment', 'General Economic Services',\n",
      "       'Social Services', 'General Services', 'Total'],\n",
      "      dtype='object')\n",
      "\n",
      "csv_for_glob/Tab_7.3.4_outlay_expenditure.csv\n",
      "Index(['State/UTs', 'Agriculture and Allied Activities', 'Rural Development',\n",
      "       'Special Area Programmes', 'Irrigation and Flood Control', 'Energy',\n",
      "       'Industry and Minerals', 'Transport',\n",
      "       'Science Technology and Environment', 'General Economic Services',\n",
      "       'Social Services', 'General Services', 'Total'],\n",
      "      dtype='object')\n",
      "\n",
      "csv_for_glob/Tab_7.3.5_outlay_expenditure.csv\n",
      "Index(['State/UTs', 'Agriculture and Allied Activities', 'Rural Development',\n",
      "       'Special Area Programmes', 'Irrigation and Flood Control', 'Energy',\n",
      "       'Industry and Minerals', 'Transport',\n",
      "       'Science Technology and Environment', 'General Economic Services',\n",
      "       'Social Services', 'General Services', 'Total'],\n",
      "      dtype='object')\n",
      "\n",
      "csv_for_glob/Tab_7.3.6_outlay_expenditure.csv\n",
      "Index(['State/UTs', 'Agriculture and Allied Activities', 'Rural Development',\n",
      "       'Special Area Programmes', 'Irrigation and Flood Control', 'Energy',\n",
      "       'Industry and Minerals', 'Transport',\n",
      "       'Science Technology and Environment', 'General Economic Services',\n",
      "       'Social Services', 'General Services', 'Total'],\n",
      "      dtype='object')\n"
     ]
    }
   ],
   "source": [
    "# create a file loop\n",
    "\n",
    "for files in filelist:\n",
    "    print(\"\\n\"+files)\n",
    "    df = pd.read_csv(files)\n",
    "    print(df.columns)\n",
    "    # print(df.head()) #prints top 5 rows of the database"
   ],
   "metadata": {
    "collapsed": false
   }
  }
 ],
 "metadata": {
  "kernelspec": {
   "display_name": "Python 3",
   "language": "python",
   "name": "python3"
  },
  "language_info": {
   "codemirror_mode": {
    "name": "ipython",
    "version": 2
   },
   "file_extension": ".py",
   "mimetype": "text/x-python",
   "name": "python",
   "nbconvert_exporter": "python",
   "pygments_lexer": "ipython2",
   "version": "2.7.6"
  }
 },
 "nbformat": 4,
 "nbformat_minor": 0
}
