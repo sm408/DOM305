{
 "cells": [
  {
   "cell_type": "markdown",
   "source": [
    "#topics used in this notebook are:\n",
    "#1. Pandas\n",
    "#2. iterrows\n",
    "#3. emumerate\n",
    "#4. glob\n"
   ],
   "metadata": {
    "collapsed": false
   }
  },
  {
   "cell_type": "code",
   "execution_count": 1,
   "id": "81a09a4c",
   "metadata": {},
   "outputs": [],
   "source": [
    "import pandas as pd"
   ]
  },
  {
   "cell_type": "code",
   "execution_count": 2,
   "id": "bce82e7c",
   "metadata": {},
   "outputs": [
    {
     "name": "stdout",
     "output_type": "stream",
     "text": [
      "['State/UTs', 'Agriculture and Allied Activities', 'Rural Development', 'Special Area Programmes', 'Irrigation and Flood Control', 'Energy', 'Industry and Minerals', 'Transport', 'Science Technology and Environment', 'General Economic Services', 'Social Services', 'General Services', 'Total']\n"
     ]
    }
   ],
   "source": [
    "df = pd.read_csv(\"csv_for_glob/Tab_7.3.1_outlay_expenditure.csv\")\n",
    "# df.head(10)\n",
    "list_headers = list(df.columns.values)\n",
    "print(list_headers)"
   ]
  },
  {
   "cell_type": "code",
   "execution_count": 3,
   "id": "f07a57c1",
   "metadata": {},
   "outputs": [
    {
     "name": "stdout",
     "output_type": "stream",
     "text": [
      "    Rural Development      Energy\n",
      "0          1421005.38  2605978.60\n",
      "1           144803.51     4649.83\n",
      "2             2446.84    11883.52\n",
      "3            20696.55    35455.00\n",
      "4            65270.77    27043.83\n",
      "5            45313.72    11132.83\n",
      "6             2442.92    13033.16\n",
      "7            47021.53    60772.32\n",
      "8            36711.57    85714.51\n",
      "9             8513.89    11005.24\n",
      "10           12699.25    66907.94\n",
      "11           96414.37    47685.00\n",
      "12          103548.22   205071.72\n",
      "13           20675.65    54795.56\n",
      "14          133911.42   118594.36\n",
      "15           91929.00   139820.00\n",
      "16            3740.27    14244.08\n",
      "17            9386.11    23418.31\n",
      "18            4705.26     6756.11\n",
      "19            7191.74     4277.21\n",
      "20           13735.98    32989.63\n",
      "21           39806.48   153558.98\n",
      "22           73923.36   569237.98\n",
      "23           10537.61     3866.07\n",
      "24          147091.02   229183.76\n",
      "25           11557.25     6765.97\n",
      "26          175223.17   455280.91\n",
      "27           20503.72    39427.77\n",
      "28           71204.20   173407.00\n",
      "29           29816.89   141445.80\n",
      "30            3766.74     2853.38\n",
      "31             947.14     2553.94\n",
      "32             314.57     2262.45\n",
      "33             324.31     1153.86\n",
      "34           19996.66   125795.00\n",
      "35             200.11     2346.51\n",
      "36            4267.36     4480.66\n"
     ]
    }
   ],
   "source": [
    "#check the data for the headers\n",
    "print(df[[\"Rural Development\",\"Energy\"]])"
   ]
  },
  {
   "cell_type": "code",
   "execution_count": 4,
   "id": "acbb5512",
   "metadata": {},
   "outputs": [
    {
     "name": "stdout",
     "output_type": "stream",
     "text": [
      "1\n",
      "Andhra Pradesh 815918.26 85717.39 144803.51\n",
      "2\n",
      "Arunachal Pradesh 30469.99 8926.24 2446.84\n",
      "3\n",
      "Assam 56515.8 12290.03 20696.55\n",
      "4\n",
      "Bihar 240292.21 30990.14 65270.77\n",
      "5\n",
      "Chhattisgarh 326132.29 24030.6 45313.72\n",
      "6\n",
      "Goa 50238.91 4633.35 2442.92\n",
      "7\n",
      "Gujarat 679338.56 89057.06 47021.53\n",
      "8\n",
      "Haryana 272559.53 10608.39 36711.57\n",
      "9\n",
      "Himachal Pradesh 93328.83 11389.06 8513.89\n",
      "10\n",
      "Jammu and Kashmir 111054.33 7727.2 12699.25\n",
      "11\n",
      "Jharkhand 207993.0 24185.33 96414.37\n",
      "12\n",
      "Karnataka 592673.8 141505.12 103548.22\n",
      "13\n",
      "Kerala 129621.65 20463.63 20675.65\n",
      "14\n",
      "Madhya Pradesh 349119.84 61908.22 133911.42\n",
      "15\n",
      "Maharashtra 758343.0 130299.0 91929.0\n",
      "16\n",
      "Manipur 29057.83 2259.31 3740.27\n",
      "17\n",
      "Meghalaya 28096.95 7430.17 9386.11\n",
      "18\n",
      "Mizoram 28378.1 5844.98 4705.26\n",
      "19\n",
      "Nagaland 28049.04 7105.67 7191.74\n",
      "20\n",
      "Orissa 199633.32 17618.17 13735.98\n",
      "21\n",
      "Punjab 114241.31 15099.2 39806.48\n",
      "22\n",
      "Rajasthan 383490.34 46527.89 73923.36\n",
      "23\n",
      "Sikkim 23125.31 3663.57 10537.61\n",
      "24\n",
      "Tamil Nadu 566516.94 91502.96 147091.02\n",
      "25\n",
      "Tripura 38467.04 7571.67 11557.25\n",
      "26\n",
      "Uttar Pradesh 825589.05 172875.37 175223.17\n",
      "27\n",
      "Uttaranchal 146782.58 31451.03 20503.72\n",
      "28\n",
      "West Bengal 367072.51 36590.01 71204.2\n",
      "29\n",
      "Union Territories Total 595224.88 13400.1 29816.89\n",
      "30\n",
      "Andaman and Nicobar Islands 20702.31 1506.85 3766.74\n",
      "31\n",
      "Chandigarh 24023.52 102.02 947.14\n",
      "32\n",
      "Dadra and Nagar Haveli 4172.61 312.72 314.57\n",
      "33\n",
      "Daman and Diu 2750.22 183.03 324.31\n",
      "34\n",
      "Delhi 478372.47 1417.26 19996.66\n",
      "35\n",
      "Lakshadweep 3222.89 2790.69 200.11\n",
      "36\n",
      "Puducherry 61980.86 7087.53 4267.36\n"
     ]
    }
   ],
   "source": [
    "for index, data in df[1:].iterrows() : #df[1:] will skip the first row which has the Totals\n",
    "    data_social_service = data[\"Social Services\"]\n",
    "    data_agriculture = data['Agriculture and Allied Activities']\n",
    "    data_rural_dev = data['Rural Development']\n",
    "    state_names = data['State/UTs']\n",
    "    print(index)\n",
    "    print(state_names, data_social_service, data_agriculture, data_rural_dev)"
   ]
  },
  {
   "cell_type": "code",
   "execution_count": 16,
   "id": "e27b1623",
   "metadata": {},
   "outputs": [
    {
     "name": "stdout",
     "output_type": "stream",
     "text": [
      "[1882005.52, 63230.3, 286267.16, 1022119.64, 941385.0, 223616.31, 2053374.86, 819891.0, 123356.0, 163526.49, 535320.66, 1619299.0, 465013.0, 1107535.81, 2040583.0, 84157.72, 128825.0, 71583.23, 60828.0, 562386.54, 539475.67, 1081013.18, 72627.92, 1456807.02, 80394.89, 2690437.0, 344834.44, 1261167.3, 1258474.83, 62963.0, 58436.0, 19823.0, 17241.0, 960550.0, 16977.0, 122484.83] 674944.7588888889 404923.72 708582.3285428499\n"
     ]
    }
   ],
   "source": [
    "\"\"\"\n",
    "Get the descriptive stats for a given header name:\n",
    "here we do for social services\n",
    "\"\"\"\n",
    "import numpy as np\n",
    "list_soc_serv = []\n",
    "for index, data in df[1:].iterrows() : #df[1:] will skip the first row which has the Totals\n",
    "    data_social_service = data[\"Social Services\"]\n",
    "    state_names = data['State/UTs']\n",
    "    list_soc_serv.append(data_social_service)\n",
    "mean_soc_serv = np.mean(list_soc_serv)\n",
    "median_soc_serv = np.median(list_soc_serv)\n",
    "std_soc_serv = np.std(list_soc_serv)\n",
    "\n",
    "print(list_soc_serv, mean_soc_serv, median_soc_serv, std_soc_serv)"
   ]
  },
  {
   "cell_type": "code",
   "execution_count": 6,
   "id": "911e0167",
   "metadata": {},
   "outputs": [
    {
     "name": "stdout",
     "output_type": "stream",
     "text": [
      "      State/UTs  Agriculture and Allied Activities  Rural Development  \\\n",
      "0  States Total                         1109270.76         1421005.38   \n",
      "\n",
      "   Special Area Programmes  Irrigation and Flood Control     Energy  \\\n",
      "0                657826.54                    3777256.48  2605978.6   \n",
      "\n",
      "   Industry and Minerals   Transport  Science Technology and Environment  \\\n",
      "0              467356.92  2892455.43                            251025.8   \n",
      "\n",
      "   General Economic Services  Social Services  General Services       Total  \n",
      "0                  667423.87       7492100.32          351450.8  21693150.9  \n"
     ]
    }
   ],
   "source": [
    "print(df[:1])"
   ]
  },
  {
   "cell_type": "code",
   "execution_count": 7,
   "id": "8631384b",
   "metadata": {},
   "outputs": [
    {
     "name": "stdout",
     "output_type": "stream",
     "text": [
      "defaultdict(<class 'list'>, {'Andhra Pradesh': [815918.26, 85717.39, 144803.51], 'Arunachal Pradesh': [30469.99, 8926.24, 2446.84], 'Assam': [56515.8, 12290.03, 20696.55], 'Bihar': [240292.21, 30990.14, 65270.77], 'Chhattisgarh': [326132.29, 24030.6, 45313.72], 'Goa': [50238.91, 4633.35, 2442.92], 'Gujarat': [679338.56, 89057.06, 47021.53], 'Haryana': [272559.53, 10608.39, 36711.57], 'Himachal Pradesh': [93328.83, 11389.06, 8513.89], 'Jammu and Kashmir': [111054.33, 7727.2, 12699.25], 'Jharkhand': [207993.0, 24185.33, 96414.37], 'Karnataka': [592673.8, 141505.12, 103548.22], 'Kerala': [129621.65, 20463.63, 20675.65], 'Madhya Pradesh': [349119.84, 61908.22, 133911.42], 'Maharashtra': [758343.0, 130299.0, 91929.0], 'Manipur': [29057.83, 2259.31, 3740.27], 'Meghalaya': [28096.95, 7430.17, 9386.11], 'Mizoram': [28378.1, 5844.98, 4705.26], 'Nagaland': [28049.04, 7105.67, 7191.74], 'Orissa': [199633.32, 17618.17, 13735.98], 'Punjab': [114241.31, 15099.2, 39806.48], 'Rajasthan': [383490.34, 46527.89, 73923.36], 'Sikkim': [23125.31, 3663.57, 10537.61], 'Tamil Nadu': [566516.94, 91502.96, 147091.02], 'Tripura': [38467.04, 7571.67, 11557.25], 'Uttar Pradesh': [825589.05, 172875.37, 175223.17], 'Uttaranchal': [146782.58, 31451.03, 20503.72], 'West Bengal': [367072.51, 36590.01, 71204.2], 'Union Territories Total': [595224.88, 13400.1, 29816.89], 'Andaman and Nicobar Islands': [20702.31, 1506.85, 3766.74], 'Chandigarh': [24023.52, 102.02, 947.14], 'Dadra and Nagar Haveli': [4172.61, 312.72, 314.57], 'Daman and Diu': [2750.22, 183.03, 324.31], 'Delhi': [478372.47, 1417.26, 19996.66], 'Lakshadweep': [3222.89, 2790.69, 200.11], 'Puducherry': [61980.86, 7087.53, 4267.36]})\n"
     ]
    }
   ],
   "source": [
    "from collections import defaultdict\n",
    "dictionary_state_data = defaultdict(list)\n",
    "\n",
    "for index, data in df[1:].iterrows() : #df[1:] will skip the first row which has the Totals\n",
    "    data_social_service = data[\"Social Services\"]\n",
    "    data_agriculture = data['Agriculture and Allied Activities']\n",
    "    data_rural_dev = data['Rural Development']\n",
    "    state_names = data['State/UTs']\n",
    "    \n",
    "    dictionary_state_data[state_names] = [data_social_service, data_agriculture,data_rural_dev]\n",
    "#     print(state_names, data_social_service, data_agriculture, data_rural_dev)\n",
    "print(dictionary_state_data)"
   ]
  },
  {
   "cell_type": "code",
   "execution_count": 18,
   "id": "04cd1dfa",
   "metadata": {},
   "outputs": [
    {
     "name": "stdout",
     "output_type": "stream",
     "text": [
      "Agriculture and Allied Activities\n"
     ]
    }
   ],
   "source": [
    "print(list_headers[1])"
   ]
  },
  {
   "cell_type": "code",
   "execution_count": 20,
   "id": "b6734e84",
   "metadata": {},
   "outputs": [
    {
     "name": "stdout",
     "output_type": "stream",
     "text": [
      "(0, 'State/UTs')\n",
      "(1, 'Agriculture and Allied Activities')\n",
      "(2, 'Rural Development')\n",
      "(3, 'Special Area Programmes')\n",
      "(4, 'Irrigation and Flood Control')\n",
      "(5, 'Energy')\n",
      "(6, 'Industry and Minerals')\n",
      "(7, 'Transport')\n",
      "(8, 'Science Technology and Environment')\n",
      "(9, 'General Economic Services')\n",
      "(10, 'Social Services')\n",
      "(11, 'General Services')\n",
      "(12, 'Total')\n"
     ]
    }
   ],
   "source": [
    "for i in enumerate(list_headers) :\n",
    "    print(i)"
   ]
  },
  {
   "cell_type": "code",
   "execution_count": 10,
   "id": "1e5a692e",
   "metadata": {},
   "outputs": [
    {
     "name": "stdout",
     "output_type": "stream",
     "text": [
      "defaultdict(<class 'list'>, {'Andhra Pradesh': [4649.83, 43692.69, 168905.12], 'Arunachal Pradesh': [11883.52, 991.45, 23407.55], 'Assam': [35455.0, 5834.22, 29634.74], 'Bihar': [27043.83, 28907.51, 334600.29], 'Chhattisgarh': [11132.83, 18318.34, 134366.96], 'Goa': [13033.16, 2389.99, 14030.24], 'Gujarat': [60772.32, 42825.23, 118304.14], 'Haryana': [85714.51, 10873.97, 53359.11], 'Himachal Pradesh': [11005.24, 2648.24, 35584.13], 'Jammu and Kashmir': [66907.94, 8812.8, 88555.23], 'Jharkhand': [47685.0, 9497.0, 46542.0], 'Karnataka': [205071.72, 50828.15, 267477.98], 'Kerala': [54795.56, 9707.72, 69402.07], 'Madhya Pradesh': [118594.36, 21795.51, 202023.86], 'Maharashtra': [139820.0, 20933.0, 176125.0], 'Manipur': [14244.08, 6247.72, 2512.0], 'Meghalaya': [23418.31, 2841.23, 16237.36], 'Mizoram': [6756.11, 2123.6, 13371.94], 'Nagaland': [4277.21, 4644.19, 7399.85], 'Orissa': [32989.63, 16494.43, 40813.83], 'Punjab': [153558.98, 20.0, 127493.8], 'Rajasthan': [569237.98, 17017.38, 67821.63], 'Sikkim': [3866.07, 2249.98, 4606.94], 'Tamil Nadu': [229183.76, 68124.33, 238748.9], 'Tripura': [6765.97, 3848.86, 17914.81], 'Uttar Pradesh': [455280.91, 10633.96, 454137.23], 'Uttaranchal': [39427.77, 1743.93, 83426.05], 'West Bengal': [173407.0, 53311.49, 55652.67], 'Union Territories Total': [141445.8, 8280.22, 255679.49], 'Andaman and Nicobar Islands': [2853.38, 403.79, 24054.86], 'Chandigarh': [2553.94, 87.94, 1965.58], 'Dadra and Nagar Haveli': [2262.45, 24.34, 1915.19], 'Daman and Diu': [1153.86, 53.35, 3499.56], 'Delhi': [125795.0, 1411.59, 204996.1], 'Lakshadweep': [2346.51, 91.64, 12159.58], 'Puducherry': [4480.66, 6207.57, 7088.62]})\n"
     ]
    }
   ],
   "source": [
    "dictionary_state_data_2 = defaultdict(list)\n",
    "\n",
    "for index, data in df[1:].iterrows() : #df[1:] will skip the first row which has the Totals\n",
    "    \n",
    "    dictionary_state_data_2[data[list_headers[0]]] = [data[list_headers[5]], data[list_headers[6]], data[list_headers[7]]]\n",
    "print(dictionary_state_data_2)"
   ]
  },
  {
   "cell_type": "code",
   "execution_count": 11,
   "id": "291b4aca",
   "metadata": {},
   "outputs": [
    {
     "name": "stdout",
     "output_type": "stream",
     "text": [
      "['csv_for_glob/Tab_7.3.1_outlay_expenditure.csv', 'csv_for_glob/Tab_7.3.3_outlay_expenditure.csv', 'csv_for_glob/Tab_7.3.4_outlay_expenditure.csv', 'csv_for_glob/Tab_7.3.5_outlay_expenditure.csv', 'csv_for_glob/Tab_7.3.6_outlay_expenditure.csv']\n"
     ]
    }
   ],
   "source": [
    "\"\"\"\n",
    "reading multiple files using glob module\n",
    "\"\"\"\n",
    "import glob\n",
    "\n",
    "filelists = glob.glob(\"csv_for_glob/*.csv\")\n",
    "filelists.sort()\n",
    "print(filelists)"
   ]
  },
  {
   "cell_type": "code",
   "execution_count": 12,
   "id": "45c6261f",
   "metadata": {},
   "outputs": [
    {
     "name": "stdout",
     "output_type": "stream",
     "text": [
      "csv_for_glob/Tab_7.3.1_outlay_expenditure.csv\n",
      "csv_for_glob/Tab_7.3.3_outlay_expenditure.csv\n",
      "csv_for_glob/Tab_7.3.4_outlay_expenditure.csv\n",
      "csv_for_glob/Tab_7.3.5_outlay_expenditure.csv\n",
      "csv_for_glob/Tab_7.3.6_outlay_expenditure.csv\n"
     ]
    }
   ],
   "source": [
    "for files in filelists:\n",
    "    df = pd.read_csv(files)\n",
    "    print(files)\n",
    "    "
   ]
  },
  {
   "cell_type": "code",
   "execution_count": 12,
   "id": "be9f75ad",
   "metadata": {},
   "outputs": [],
   "source": []
  }
 ],
 "metadata": {
  "kernelspec": {
   "display_name": "Python 3 (ipykernel)",
   "language": "python",
   "name": "python3"
  },
  "language_info": {
   "codemirror_mode": {
    "name": "ipython",
    "version": 3
   },
   "file_extension": ".py",
   "mimetype": "text/x-python",
   "name": "python",
   "nbconvert_exporter": "python",
   "pygments_lexer": "ipython3",
   "version": "3.9.10"
  }
 },
 "nbformat": 4,
 "nbformat_minor": 5
}
