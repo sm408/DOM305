{
 "cells": [
  {
   "cell_type": "code",
   "execution_count": 1,
   "metadata": {
    "collapsed": true
   },
   "outputs": [],
   "source": [
    "from collections import defaultdict\n",
    "import xml.etree.ElementTree as ET\n",
    "import urllib.request\n",
    "import time\n",
    "import random, os"
   ]
  },
  {
   "cell_type": "code",
   "execution_count": 2,
   "outputs": [],
   "source": [
    "user_agent = 'Mozilla/5.0 (X11; Linux x86_64) AppleWebKit/537.36 (KHTML, like Gecko) Chrome/47.0.2526.106 Safari/537.36'\n",
    "headers = { 'User-Agent' : user_agent }\n"
   ],
   "metadata": {
    "collapsed": false
   }
  },
  {
   "cell_type": "code",
   "execution_count": 3,
   "outputs": [
    {
     "name": "stdout",
     "output_type": "stream",
     "text": [
      "advance-search?type=print-media&print_date=5-01-2023\n",
      "advance-search?type=print-media&print_date=6-01-2023\n",
      "advance-search?type=print-media&print_date=7-01-2023\n",
      "advance-search?type=print-media&print_date=8-01-2023\n",
      "advance-search?type=print-media&print_date=9-01-2023\n"
     ]
    }
   ],
   "source": [
    "destdir = 'spring23_DOM305_webscraping/'\n",
    "set2 = 'BS_set_2/'\n",
    "\n",
    "pathd = destdir+set2\n",
    "\n",
    "if not  os.path.exists(pathd):\n",
    "    os.makedirs(pathd)\n",
    "\n",
    "for index in range(5,10):\n",
    "    urllink = str(\"https://www.business-standard.com/advance-search?type=print-media&print_date=\"+str(index)+\"-01-2023\")\n",
    "\n",
    "    base_url = urllib.request.Request(urllink, headers=headers)     # it is requesting to open the urllink\n",
    "    urlopen = urllib.request.urlopen(base_url)      # opening the url link\n",
    "\n",
    "    url_read = urlopen.read()       # reading the page as an html file basically reads the source file\n",
    "\n",
    "    file_html = urllink.split('/')[-1]      #formatting the name of the saved file to just the last part of the links name\n",
    "    print(file_html)\n",
    "\n",
    "    file_out = open(pathd+str(file_html),\"w\")       #saving the output in a file variable\n",
    "\n",
    "    print(url_read, file=file_out)      #saving the file\n",
    "\n",
    "    time.sleep(random.randint(4,8))"
   ],
   "metadata": {
    "collapsed": false
   }
  },
  {
   "cell_type": "code",
   "execution_count": 4,
   "outputs": [
    {
     "name": "stdout",
     "output_type": "stream",
     "text": [
      "5-1-2020.html\n",
      "6-1-2020.html\n",
      "7-1-2020.html\n",
      "8-1-2020.html\n",
      "9-1-2020.html\n",
      "5-2-2020.html\n",
      "6-2-2020.html\n",
      "7-2-2020.html\n",
      "8-2-2020.html\n",
      "9-2-2020.html\n",
      "5-1-2021.html\n",
      "6-1-2021.html\n",
      "7-1-2021.html\n",
      "8-1-2021.html\n",
      "9-1-2021.html\n",
      "5-2-2021.html\n",
      "6-2-2021.html\n",
      "7-2-2021.html\n",
      "8-2-2021.html\n",
      "9-2-2021.html\n"
     ]
    }
   ],
   "source": [
    "set2 = 'BS_set_3/'\n",
    "\n",
    "pathd = destdir+set2\n",
    "\n",
    "if not  os.path.exists(pathd):\n",
    "    os.makedirs(pathd)\n",
    "for index1 in range(2020,2022):\n",
    "    for index2 in range(1,3):\n",
    "        for index in range(5,10):\n",
    "            urllink = str(\"https://www.business-standard.com/advance-search?type=print-media&print_date=\"+str(index)+\"-\"+str(index2)+\"-\"+str(index1))\n",
    "\n",
    "            base_url = urllib.request.Request(urllink, headers=headers)     # it is requesting to open the urllink\n",
    "            urlopen = urllib.request.urlopen(base_url)      # opening the url link\n",
    "\n",
    "            url_read = urlopen.read()       # reading the page as an html file basically reads the source file\n",
    "\n",
    "            file_html = str(index)+\"-\"+str(index2)+\"-\"+str(index1) + str(\".html\")   #formatting the name of the saved file to just the last part of the links name\n",
    "            print(file_html)\n",
    "\n",
    "            file_out = open(pathd+str(file_html),\"w\")       #saving the output in a file variable\n",
    "\n",
    "            print(url_read, file=file_out)      #saving the file\n",
    "\n",
    "            time.sleep(random.randint(4,8))"
   ],
   "metadata": {
    "collapsed": false
   }
  }
 ],
 "metadata": {
  "kernelspec": {
   "display_name": "Python 3",
   "language": "python",
   "name": "python3"
  },
  "language_info": {
   "codemirror_mode": {
    "name": "ipython",
    "version": 2
   },
   "file_extension": ".py",
   "mimetype": "text/x-python",
   "name": "python",
   "nbconvert_exporter": "python",
   "pygments_lexer": "ipython2",
   "version": "2.7.6"
  }
 },
 "nbformat": 4,
 "nbformat_minor": 0
}
