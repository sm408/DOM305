{
 "cells": [
  {
   "cell_type": "code",
   "execution_count": 1,
   "metadata": {
    "collapsed": true
   },
   "outputs": [
    {
     "data": {
      "text/plain": "'\\nclasses and functions in the class\\nclass in an aggregator\\nalways starts with __init__indicates a constructor\\nif you want to delete the class\\nthen you use __del__\\n'"
     },
     "execution_count": 1,
     "metadata": {},
     "output_type": "execute_result"
    }
   ],
   "source": [
    "\"\"\"\n",
    "classes and functions in the class\n",
    "class in an aggregator\n",
    "always starts with __init__indicates a constructor\n",
    "if you want to delete the class\n",
    "then you use __del__\n",
    "\"\"\""
   ]
  },
  {
   "cell_type": "code",
   "execution_count": 2,
   "outputs": [
    {
     "name": "stdout",
     "output_type": "stream",
     "text": [
      "154.0\n",
      "44.0\n",
      "<__main__.Circle object at 0x7fde751a2250>\n"
     ]
    }
   ],
   "source": [
    "\"\"\"\n",
    "Create a class called Circle\n",
    "Define the functions for\n",
    "\"\"\"\n",
    "\n",
    "class Circle():\n",
    "    def __init__(self, R):\n",
    "        self.R = R\n",
    "\n",
    "    def areacircle(self):\n",
    "        area_c = (22.0/7.0)*self.R**2\n",
    "        return area_c\n",
    "\n",
    "    def cicumference_circle(self):\n",
    "        circfrence = 2*(22.0/7.0)*self.R\n",
    "        return circfrence\n",
    "\n",
    "print(Circle(7.0).areacircle())\n",
    "print(Circle(7.0).cicumference_circle())\n",
    "print(Circle(7.0))"
   ],
   "metadata": {
    "collapsed": false
   }
  },
  {
   "cell_type": "code",
   "execution_count": 3,
   "outputs": [
    {
     "name": "stdout",
     "output_type": "stream",
     "text": [
      "56.0\n",
      "30.0\n"
     ]
    }
   ],
   "source": [
    "\"\"\"\n",
    "Create a class called Rectangle\n",
    "Define the functions for\n",
    "\"\"\"\n",
    "\n",
    "class Rectangle():\n",
    "    def __init__(self, l, b):\n",
    "        self.l = l\n",
    "        self.b = b\n",
    "\n",
    "    def area_rectangle(self):\n",
    "        area_r = self.l*self.b\n",
    "        return area_r\n",
    "\n",
    "    def perimeter_rectangle(self):\n",
    "        perimeter_r = 2*(self.l + self.b)\n",
    "        return perimeter_r\n",
    "\n",
    "print(Rectangle(7.0, 8.0).area_rectangle())\n",
    "print(Rectangle(7.0, 8.0).perimeter_rectangle())"
   ],
   "metadata": {
    "collapsed": false
   }
  },
  {
   "cell_type": "code",
   "execution_count": 4,
   "outputs": [
    {
     "name": "stdout",
     "output_type": "stream",
     "text": [
      "382.0\n",
      "504.0\n",
      "96.0\n"
     ]
    }
   ],
   "source": [
    "\"\"\"\n",
    "Creating a class for a cuboid\n",
    "and defining the functions\n",
    "\"\"\"\n",
    "\n",
    "class Cuboid():\n",
    "    def __init__(self, l, b, h):\n",
    "        self.l = l\n",
    "        self.b = b\n",
    "        self.h = h\n",
    "\n",
    "    def area_cuboid(self):\n",
    "        area_cub = 2*(self.l*self.b + self.b*self.h + self.h*self.l)\n",
    "        return area_cub\n",
    "\n",
    "    def volume_cuboid(self):\n",
    "        volume_cub = self.l*self.b*self.h\n",
    "        return volume_cub\n",
    "\n",
    "    def circumference_cuboid(self):\n",
    "        circumference_cub = 4*(self.l + self.b + self.h)\n",
    "        return circumference_cub\n",
    "\n",
    "print(Cuboid(7.0, 8.0, 9.0).area_cuboid())\n",
    "print(Cuboid(7.0, 8.0, 9.0).volume_cuboid())\n",
    "print(Cuboid(7.0, 8.0, 9.0).circumference_cuboid())"
   ],
   "metadata": {
    "collapsed": false
   }
  },
  {
   "cell_type": "code",
   "execution_count": 5,
   "outputs": [
    {
     "name": "stdout",
     "output_type": "stream",
     "text": [
      "5.5\n"
     ]
    },
    {
     "data": {
      "text/plain": "3.0276503540974917"
     },
     "execution_count": 5,
     "metadata": {},
     "output_type": "execute_result"
    }
   ],
   "source": [
    "class Demo_stats():\n",
    "    def __init__(self, data):\n",
    "        self.data = data\n",
    "\n",
    "    def mean(self):\n",
    "        mean = sum(self.data)/len(self.data)\n",
    "        return mean\n",
    "\n",
    "    def st_dev(self):\n",
    "        #call the mean function\n",
    "        mean_val = self.mean()\n",
    "\n",
    "        list_stddev_1 = [] #empty list for std dev calculation\n",
    "\n",
    "        for val in self.data:\n",
    "            deviance =  val - mean_val\n",
    "            variance = deviance*deviance\n",
    "\n",
    "            list_stddev_1.append(variance)\n",
    "        variance_val = sum(list_stddev_1)/(len(list_stddev_1) - 1)\n",
    "        stddev_val = variance_val**0.5\n",
    "\n",
    "        return stddev_val\n",
    "\n",
    "\n",
    "list_ex = [1, 2, 3, 4, 5, 6, 7, 8, 9, 10]\n",
    "\n",
    "#standard deviation of list_ex is 3.0276503540974917\n",
    "print(Demo_stats(list_ex).mean())\n",
    "\n",
    "Demo_stats(list_ex).st_dev()"
   ],
   "metadata": {
    "collapsed": false
   }
  },
  {
   "cell_type": "code",
   "execution_count": 6,
   "outputs": [
    {
     "name": "stdout",
     "output_type": "stream",
     "text": [
      "1500\n",
      "3500\n"
     ]
    }
   ],
   "source": [
    "\"\"\"\n",
    "class to simulate bank with name, account number and initial balance\n",
    "\"\"\"\n",
    "\n",
    "class Bank():\n",
    "    def __init__(self, name, acc_num, initial_balance):\n",
    "        self.name = name\n",
    "        self.acc_num = acc_num\n",
    "        self.balance = initial_balance\n",
    "\n",
    "    def deposit(self, amount):\n",
    "        self.balance += amount\n",
    "        return self.balance\n",
    "\n",
    "    def withdraw(self, amount):\n",
    "        self.balance -= amount\n",
    "        return self.balance\n",
    "\n",
    "    def balance(self):\n",
    "        return self.balance\n",
    "\n",
    "account1 = Bank(\"Shubham\", \"123456789\", 1000)\n",
    "account1.deposit(1000)\n",
    "account1.withdraw(500)\n",
    "print(account1.balance)\n",
    "\n",
    "account2 = Bank(\"Harnam\", \"123456789\", 1000)\n",
    "account2.deposit(3000)\n",
    "account2.withdraw(500)\n",
    "print(account2.balance)"
   ],
   "metadata": {
    "collapsed": false
   }
  },
  {
   "cell_type": "code",
   "execution_count": 7,
   "outputs": [
    {
     "data": {
      "text/plain": "1500"
     },
     "execution_count": 7,
     "metadata": {},
     "output_type": "execute_result"
    }
   ],
   "source": [
    "\"\"\"\n",
    "Pass a list of accounts to the bank class\n",
    "\"\"\"\n",
    "class NewBank():\n",
    "    def __init__(self, list_accounts):\n",
    "        self.list_accounts = list_accounts\n",
    "\n",
    "    def total_balance(self):\n",
    "        total_balance = 0\n",
    "        for account in self.list_accounts:\n",
    "            total_balance += account.balance\n",
    "        return total_balance\n",
    "\n",
    "    def deposit(self, amount):\n",
    "        for account in self.list_accounts:\n",
    "            account.balance += amount\n",
    "        return account.balance\n",
    "\n",
    "    def withdraw(self, amount):\n",
    "        for account in self.list_accounts:\n",
    "            account.balance -= amount\n",
    "        return account.balance\n",
    "\n",
    "account1 = Bank(\"Shubham\", \"123456789\", 1000)\n",
    "account2 = Bank(\"Harnam\", \"123456789\", 1000)\n",
    "account3 = Bank(\"Shubham\", \"123456789\", 1000)\n",
    "\n",
    "list_accounts = [account1, account2, account3]\n",
    "\n",
    "bank1 = NewBank(list_accounts)\n",
    "bank1.total_balance()\n",
    "bank1.deposit(1000)\n",
    "bank1.withdraw(500)"
   ],
   "metadata": {
    "collapsed": false
   }
  },
  {
   "cell_type": "code",
   "execution_count": 8,
   "outputs": [
    {
     "ename": "SyntaxError",
     "evalue": "incomplete input (969763094.py, line 1)",
     "output_type": "error",
     "traceback": [
      "\u001B[0;36m  Cell \u001B[0;32mIn[8], line 1\u001B[0;36m\u001B[0m\n\u001B[0;31m    \"\"\"\u001B[0m\n\u001B[0m    ^\u001B[0m\n\u001B[0;31mSyntaxError\u001B[0m\u001B[0;31m:\u001B[0m incomplete input\n"
     ]
    }
   ],
   "source": [
    "\"\"\""
   ],
   "metadata": {
    "collapsed": false
   }
  }
 ],
 "metadata": {
  "kernelspec": {
   "display_name": "Python 3",
   "language": "python",
   "name": "python3"
  },
  "language_info": {
   "codemirror_mode": {
    "name": "ipython",
    "version": 2
   },
   "file_extension": ".py",
   "mimetype": "text/x-python",
   "name": "python",
   "nbconvert_exporter": "python",
   "pygments_lexer": "ipython2",
   "version": "2.7.6"
  }
 },
 "nbformat": 4,
 "nbformat_minor": 0
}
