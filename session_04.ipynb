{
 "cells": [
  {
   "cell_type": "markdown",
   "source": [
    "lambda, defaultdict, creating functions"
   ],
   "metadata": {
    "collapsed": false
   }
  },
  {
   "cell_type": "code",
   "execution_count": 1,
   "id": "66a16d25",
   "metadata": {},
   "outputs": [
    {
     "name": "stdout",
     "output_type": "stream",
     "text": [
      "20\n"
     ]
    }
   ],
   "source": [
    "# lambda function used in python\n",
    "# lambda parameters: expressions\n",
    "x = lambda a : a+10\n",
    "print(x(10))\n",
    "\n",
    "# use in creating nested dictionaries"
   ]
  },
  {
   "cell_type": "code",
   "execution_count": 2,
   "id": "bd5f2869",
   "metadata": {},
   "outputs": [
    {
     "name": "stdout",
     "output_type": "stream",
     "text": [
      "7\n"
     ]
    }
   ],
   "source": [
    "x = lambda a,b,c : a+b-c\n",
    "print(x(10,1,4))"
   ]
  },
  {
   "cell_type": "code",
   "execution_count": 3,
   "id": "d29eb50f",
   "metadata": {},
   "outputs": [
    {
     "name": "stdout",
     "output_type": "stream",
     "text": [
      "35\n"
     ]
    }
   ],
   "source": [
    "x = lambda a,b,c : a+b*c\n",
    "print(x(3,4,8))"
   ]
  },
  {
   "cell_type": "code",
   "execution_count": 2,
   "id": "aca75e87",
   "metadata": {},
   "outputs": [
    {
     "name": "stdout",
     "output_type": "stream",
     "text": [
      "Counter({1: 3, 5: 3, 2: 2, 4: 2, 19: 1})\n",
      "Counter({1: 3, 5: 3, 2: 2, 4: 2, 19: 1})\n",
      "1 3\n",
      "5 3\n",
      "2 2\n",
      "19 1\n",
      "4 2\n"
     ]
    }
   ],
   "source": [
    "from collections import Counter, defaultdict\n",
    "list_1 = [1, 5, 5, 2, 19,1,1,4, 5, 2, 4]\n",
    "print(Counter(list_1))\n",
    "\n",
    "dict_4 = Counter(list_1)\n",
    "print(dict_4)\n",
    "\n",
    "for keys, values in Counter(list_1).items() :\n",
    "    print(keys, values)"
   ]
  },
  {
   "cell_type": "code",
   "execution_count": 5,
   "id": "1aad269d",
   "metadata": {},
   "outputs": [
    {
     "name": "stdout",
     "output_type": "stream",
     "text": [
      "defaultdict(<class 'list'>, {})\n",
      "defaultdict(<function <lambda> at 0x7ff9d1ab8720>, {})\n"
     ]
    }
   ],
   "source": [
    "\"\"\"\n",
    "lambda operator when used in creating \n",
    "nested dictionaries, the final output \n",
    "can be saved in a json file\n",
    "json: javascript object notation\n",
    "\"\"\"\n",
    "# print out the empty dictionary\n",
    "dict_ex_1 = defaultdict(list) # values will be stored in a list\n",
    "print(dict_ex_1)\n",
    "\n",
    "# nested dictionary\n",
    "dict_nest_ex_1 = defaultdict(lambda:defaultdict(list))\n",
    "#print the empty nested dictionary\n",
    "print(dict_nest_ex_1) "
   ]
  },
  {
   "cell_type": "code",
   "execution_count": 16,
   "id": "be558f7b",
   "metadata": {},
   "outputs": [
    {
     "name": "stdout",
     "output_type": "stream",
     "text": [
      "defaultdict(<class 'list'>, {'student1': [67, 98, 65, 90, 89], 'student2': [78, 45, 87]})\n"
     ]
    }
   ],
   "source": [
    "dictionary_students_scores = {\"student1\":[67,98,65,90,89], \"student2\":[78,45,87]}\n",
    "# for keys, values in dictionary_students_scores.items():\n",
    "#     mu_val = sum(values)/len(values)\n",
    "#     dict_ex_1[keys] = mu_val\n",
    "print(dict_ex_1)"
   ]
  },
  {
   "cell_type": "code",
   "execution_count": 7,
   "id": "9405cc7f",
   "metadata": {},
   "outputs": [
    {
     "name": "stdout",
     "output_type": "stream",
     "text": [
      "defaultdict(<class 'list'>, {'student1': [67, 98, 65, 90, 89], 'student2': [78, 45, 87]})\n"
     ]
    }
   ],
   "source": [
    "for k1, value4 in dictionary_students_scores.items() :\n",
    "    \n",
    "    for val in value4:\n",
    "        dict_ex_1[k1].append(val)\n",
    "print(dict_ex_1)"
   ]
  },
  {
   "cell_type": "code",
   "execution_count": 8,
   "id": "e7b835ae",
   "metadata": {},
   "outputs": [
    {
     "name": "stdout",
     "output_type": "stream",
     "text": [
      "defaultdict(<function <lambda> at 0x7ff9d1ab9080>, {})\n"
     ]
    }
   ],
   "source": [
    "# what should I do to create an empty three-level nested dictionary\n",
    "dict_nest_ex_2 = defaultdict(lambda:defaultdict(lambda:defaultdict(list)))\n",
    "print(dict_nest_ex_2)"
   ]
  },
  {
   "cell_type": "code",
   "execution_count": 19,
   "id": "04bb62c9",
   "metadata": {},
   "outputs": [
    {
     "name": "stdout",
     "output_type": "stream",
     "text": [
      "503MOD fo 4 noisseS si sihT\n",
      "noisseS si\n"
     ]
    }
   ],
   "source": [
    "x_string = \"This is Session 4 of DOM305\"\n",
    "print(x_string[::-1])\n",
    "# print(x_string.reverse())\n",
    "# Question: check by skipping with use of single: and double:\n",
    "\n",
    "# print middle part of the string in reverse order\n",
    "print(x_string[5:15][::-1])"
   ]
  },
  {
   "cell_type": "code",
   "execution_count": 10,
   "id": "36ddc906",
   "metadata": {},
   "outputs": [
    {
     "name": "stdout",
     "output_type": "stream",
     "text": [
      "This is first example of Session 4\n"
     ]
    }
   ],
   "source": [
    "\"\"\"\n",
    "Object Oriented Coding\n",
    "Simple examples of creating functions\n",
    "\"\"\"\n",
    "\n",
    "def example_session4_1() :\n",
    "    simple_str_var = \"This is first example of Session 4\"\n",
    "    \n",
    "    return simple_str_var\n",
    "y = example_session4_1()\n",
    "print(y)"
   ]
  },
  {
   "cell_type": "code",
   "execution_count": 11,
   "id": "2ff95348",
   "metadata": {},
   "outputs": [
    {
     "name": "stdout",
     "output_type": "stream",
     "text": [
      "4 noisseS fo elpmaxe tsrif si sihT\n"
     ]
    }
   ],
   "source": [
    "def example_session4_2() :\n",
    "    simple_str_var = \"This is first example of Session 4\"\n",
    "    reverse_str_var = simple_str_var[::-1]\n",
    "    \n",
    "    return reverse_str_var\n",
    "y = example_session4_2()\n",
    "print(y)"
   ]
  },
  {
   "cell_type": "code",
   "execution_count": 12,
   "id": "a41db6a8",
   "metadata": {},
   "outputs": [
    {
     "name": "stdout",
     "output_type": "stream",
     "text": [
      "[107, 98, 25, 19, 12, 9, 7, 3, 0]\n"
     ]
    }
   ],
   "source": [
    "\"\"\"\n",
    "1. Create a new function as above\n",
    "2. create a new list with some values\n",
    "3. return and print the sorted list\n",
    "\"\"\"\n",
    "def example_list_fn() :\n",
    "    list_data_1 = [12,9,0,3,7,19,25,98,107]\n",
    "#     list_data_1.sort(); list_data_1.reverse()\n",
    "#     return list_data_1.sort()\n",
    "    return sorted(list_data_1,reverse=True)\n",
    "ylist = example_list_fn()\n",
    "print(ylist)\n"
   ]
  },
  {
   "cell_type": "code",
   "execution_count": 13,
   "id": "060a913a",
   "metadata": {},
   "outputs": [
    {
     "name": "stdout",
     "output_type": "stream",
     "text": [
      "(31.11111111111111, 41.24755885032605)\n"
     ]
    }
   ],
   "source": [
    "# return the mean and standard deviation of the above list example\n",
    "def example_list_desc_stat() :\n",
    "    \n",
    "    list_data_1 = [12,9,0,3,7,19,25,98,107]\n",
    "    mu_val = sum(list_data_1)/len(list_data_1)\n",
    "    \n",
    "    list_stddev_1 = [] #empty list for std dev calculation\n",
    "\n",
    "    for val in list_data_1:\n",
    "        deviance =  val - mu_val\n",
    "        variance = deviance*deviance\n",
    "\n",
    "        list_stddev_1.append(variance)\n",
    "    variance_val = sum(list_stddev_1)/(len(list_stddev_1) - 1)\n",
    "    stddev_val = variance_val**0.5\n",
    "    \n",
    "    return mu_val, stddev_valmu_val = sum(list_data_1)/len(list_data_1)\n",
    "\n",
    "    list_stddev_1 = [] #empty list for std dev calculation\n",
    "\n",
    "    for val in list_data_1:\n",
    "        deviance =  val - mu_val\n",
    "        variance = deviance*deviance\n",
    "\n",
    "        list_stddev_1.append(variance)\n",
    "    variance_val = sum(list_stddev_1)/(len(list_stddev_1) - 1)\n",
    "    stddev_val = variance_val**0.5\n",
    "\n",
    "    return mu_val, stddev_val\n",
    "stats_x = example_list_desc_stat()\n",
    "print(stats_x)"
   ]
  },
  {
   "cell_type": "code",
   "execution_count": 14,
   "id": "104cb198",
   "metadata": {},
   "outputs": [
    {
     "name": "stdout",
     "output_type": "stream",
     "text": [
      "40\n"
     ]
    }
   ],
   "source": [
    "#question is to return a dictionary\n",
    "def example_dict_1() :\n",
    "    \n",
    "    list_students = [\"A\",\"B\",\"C\",\"D\"]\n",
    "    list_scores = [40, 56, 89, 78]\n",
    "\n",
    "    \n",
    "    dictionary_studs_scores = dict(zip(list_students, list_scores))\n",
    "    \n",
    "    return dictionary_studs_scores\n",
    "\n",
    "y_dict = example_dict_1()\n",
    "print(y_dict['A'])\n"
   ]
  },
  {
   "cell_type": "code",
   "execution_count": 15,
   "id": "29aa99dd",
   "metadata": {},
   "outputs": [],
   "source": [
    "# install numpy, scipy, pandas, seaborn, matplotlib, bs4, selenium\n",
    "# pip install numpy [in the cmd prompt or terminal]\n",
    "\n"
   ]
  }
 ],
 "metadata": {
  "kernelspec": {
   "display_name": "Python 3 (ipykernel)",
   "language": "python",
   "name": "python3"
  },
  "language_info": {
   "codemirror_mode": {
    "name": "ipython",
    "version": 3
   },
   "file_extension": ".py",
   "mimetype": "text/x-python",
   "name": "python",
   "nbconvert_exporter": "python",
   "pygments_lexer": "ipython3",
   "version": "3.9.10"
  }
 },
 "nbformat": 4,
 "nbformat_minor": 5
}
